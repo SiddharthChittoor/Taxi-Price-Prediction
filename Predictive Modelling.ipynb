{
 "cells": [
  {
   "cell_type": "markdown",
   "metadata": {
    "collapsed": true
   },
   "source": [
    "###  Final Project : New York Taxi Price Fare Prediction\n",
    "\n",
    "-- By Manasa, Saketh and Siddharth"
   ]
  },
  {
   "cell_type": "markdown",
   "metadata": {},
   "source": [
    "---------------------------------------------------------------------------------------------------------------------"
   ]
  },
  {
   "cell_type": "markdown",
   "metadata": {},
   "source": [
    "Data set can be found here :\n",
    "https://www.kaggle.com/c/new-york-city-taxi-fare-prediction/download/test.csv\n",
    "\n",
    "https://www.kaggle.com/c/new-york-city-taxi-fare-prediction/download/train.csv\n"
   ]
  },
  {
   "cell_type": "markdown",
   "metadata": {},
   "source": [
    "First let us start by importing by the necessary packages and libraries."
   ]
  },
  {
   "cell_type": "code",
   "execution_count": 7,
   "metadata": {},
   "outputs": [],
   "source": [
    "import pandas as pd\n",
    "import matplotlib as mpl\n",
    "import matplotlib.pyplot as plt\n",
    "import seaborn as sea\n",
    "import numpy as np\n",
    "import datetime as dt"
   ]
  },
  {
   "cell_type": "markdown",
   "metadata": {},
   "source": [
    "The dataset is 55 million rows so it takes a lot of time to process that so we intially take a part of it.\n"
   ]
  },
  {
   "cell_type": "markdown",
   "metadata": {},
   "source": [
    "."
   ]
  },
  {
   "cell_type": "markdown",
   "metadata": {},
   "source": [
    "."
   ]
  },
  {
   "cell_type": "markdown",
   "metadata": {},
   "source": [
    "### Read data using Pandas"
   ]
  },
  {
   "cell_type": "code",
   "execution_count": 8,
   "metadata": {},
   "outputs": [],
   "source": [
    "data=pd.read_csv(\"/Users/siddharthchittoor/Documents/Semester 2/Data Analytics/final project/train.csv\",nrows=2000000)\n",
    "test=pd.read_csv(\"/Users/siddharthchittoor/Documents/Semester 2/Data Analytics/final project/test.csv\")"
   ]
  },
  {
   "cell_type": "markdown",
   "metadata": {},
   "source": [
    "."
   ]
  },
  {
   "cell_type": "markdown",
   "metadata": {},
   "source": [
    "."
   ]
  },
  {
   "cell_type": "markdown",
   "metadata": {},
   "source": [
    "."
   ]
  },
  {
   "cell_type": "markdown",
   "metadata": {},
   "source": [
    "# Data Exploration and Cleaning\n",
    "\n",
    "### The following things which exploration and cleaning pertains are done:\n",
    "  1. Datatype checks\n",
    "  2. Shape checks\n",
    "  3. Check for Nan values\n",
    "  4. Check for outliers\n",
    "  5. Cleaning the data pertaining to each attribute in the training set"
   ]
  },
  {
   "cell_type": "code",
   "execution_count": 9,
   "metadata": {},
   "outputs": [
    {
     "data": {
      "text/plain": [
       "(2000000, 8)"
      ]
     },
     "execution_count": 9,
     "metadata": {},
     "output_type": "execute_result"
    }
   ],
   "source": [
    "data.shape"
   ]
  },
  {
   "cell_type": "markdown",
   "metadata": {},
   "source": [
    "The data we have considered contains 2 million rows and 8 columns"
   ]
  },
  {
   "cell_type": "code",
   "execution_count": 10,
   "metadata": {},
   "outputs": [
    {
     "data": {
      "text/html": [
       "<div>\n",
       "<style scoped>\n",
       "    .dataframe tbody tr th:only-of-type {\n",
       "        vertical-align: middle;\n",
       "    }\n",
       "\n",
       "    .dataframe tbody tr th {\n",
       "        vertical-align: top;\n",
       "    }\n",
       "\n",
       "    .dataframe thead th {\n",
       "        text-align: right;\n",
       "    }\n",
       "</style>\n",
       "<table border=\"1\" class=\"dataframe\">\n",
       "  <thead>\n",
       "    <tr style=\"text-align: right;\">\n",
       "      <th></th>\n",
       "      <th>fare_amount</th>\n",
       "      <th>pickup_longitude</th>\n",
       "      <th>pickup_latitude</th>\n",
       "      <th>dropoff_longitude</th>\n",
       "      <th>dropoff_latitude</th>\n",
       "      <th>passenger_count</th>\n",
       "    </tr>\n",
       "  </thead>\n",
       "  <tbody>\n",
       "    <tr>\n",
       "      <th>count</th>\n",
       "      <td>2.000000e+06</td>\n",
       "      <td>2.000000e+06</td>\n",
       "      <td>2.000000e+06</td>\n",
       "      <td>1.999986e+06</td>\n",
       "      <td>1.999986e+06</td>\n",
       "      <td>2.000000e+06</td>\n",
       "    </tr>\n",
       "    <tr>\n",
       "      <th>mean</th>\n",
       "      <td>1.134779e+01</td>\n",
       "      <td>-7.252321e+01</td>\n",
       "      <td>3.992963e+01</td>\n",
       "      <td>-7.252395e+01</td>\n",
       "      <td>3.992808e+01</td>\n",
       "      <td>1.684113e+00</td>\n",
       "    </tr>\n",
       "    <tr>\n",
       "      <th>std</th>\n",
       "      <td>9.852883e+00</td>\n",
       "      <td>1.286804e+01</td>\n",
       "      <td>7.983352e+00</td>\n",
       "      <td>1.277497e+01</td>\n",
       "      <td>1.032382e+01</td>\n",
       "      <td>1.314982e+00</td>\n",
       "    </tr>\n",
       "    <tr>\n",
       "      <th>min</th>\n",
       "      <td>-6.200000e+01</td>\n",
       "      <td>-3.377681e+03</td>\n",
       "      <td>-3.458665e+03</td>\n",
       "      <td>-3.383297e+03</td>\n",
       "      <td>-3.461541e+03</td>\n",
       "      <td>0.000000e+00</td>\n",
       "    </tr>\n",
       "    <tr>\n",
       "      <th>25%</th>\n",
       "      <td>6.000000e+00</td>\n",
       "      <td>-7.399208e+01</td>\n",
       "      <td>4.073491e+01</td>\n",
       "      <td>-7.399141e+01</td>\n",
       "      <td>4.073400e+01</td>\n",
       "      <td>1.000000e+00</td>\n",
       "    </tr>\n",
       "    <tr>\n",
       "      <th>50%</th>\n",
       "      <td>8.500000e+00</td>\n",
       "      <td>-7.398181e+01</td>\n",
       "      <td>4.075263e+01</td>\n",
       "      <td>-7.398016e+01</td>\n",
       "      <td>4.075312e+01</td>\n",
       "      <td>1.000000e+00</td>\n",
       "    </tr>\n",
       "    <tr>\n",
       "      <th>75%</th>\n",
       "      <td>1.250000e+01</td>\n",
       "      <td>-7.396713e+01</td>\n",
       "      <td>4.076710e+01</td>\n",
       "      <td>-7.396369e+01</td>\n",
       "      <td>4.076809e+01</td>\n",
       "      <td>2.000000e+00</td>\n",
       "    </tr>\n",
       "    <tr>\n",
       "      <th>max</th>\n",
       "      <td>1.273310e+03</td>\n",
       "      <td>2.856442e+03</td>\n",
       "      <td>2.621628e+03</td>\n",
       "      <td>3.414307e+03</td>\n",
       "      <td>3.345917e+03</td>\n",
       "      <td>2.080000e+02</td>\n",
       "    </tr>\n",
       "  </tbody>\n",
       "</table>\n",
       "</div>"
      ],
      "text/plain": [
       "        fare_amount  pickup_longitude  pickup_latitude  dropoff_longitude  \\\n",
       "count  2.000000e+06      2.000000e+06     2.000000e+06       1.999986e+06   \n",
       "mean   1.134779e+01     -7.252321e+01     3.992963e+01      -7.252395e+01   \n",
       "std    9.852883e+00      1.286804e+01     7.983352e+00       1.277497e+01   \n",
       "min   -6.200000e+01     -3.377681e+03    -3.458665e+03      -3.383297e+03   \n",
       "25%    6.000000e+00     -7.399208e+01     4.073491e+01      -7.399141e+01   \n",
       "50%    8.500000e+00     -7.398181e+01     4.075263e+01      -7.398016e+01   \n",
       "75%    1.250000e+01     -7.396713e+01     4.076710e+01      -7.396369e+01   \n",
       "max    1.273310e+03      2.856442e+03     2.621628e+03       3.414307e+03   \n",
       "\n",
       "       dropoff_latitude  passenger_count  \n",
       "count      1.999986e+06     2.000000e+06  \n",
       "mean       3.992808e+01     1.684113e+00  \n",
       "std        1.032382e+01     1.314982e+00  \n",
       "min       -3.461541e+03     0.000000e+00  \n",
       "25%        4.073400e+01     1.000000e+00  \n",
       "50%        4.075312e+01     1.000000e+00  \n",
       "75%        4.076809e+01     2.000000e+00  \n",
       "max        3.345917e+03     2.080000e+02  "
      ]
     },
     "execution_count": 10,
     "metadata": {},
     "output_type": "execute_result"
    }
   ],
   "source": [
    "data.describe()"
   ]
  },
  {
   "cell_type": "markdown",
   "metadata": {},
   "source": [
    "By calling the describe method we can get an overlay of the data "
   ]
  },
  {
   "cell_type": "markdown",
   "metadata": {},
   "source": [
    "."
   ]
  },
  {
   "cell_type": "markdown",
   "metadata": {},
   "source": [
    "."
   ]
  },
  {
   "cell_type": "markdown",
   "metadata": {},
   "source": [
    "."
   ]
  },
  {
   "cell_type": "markdown",
   "metadata": {},
   "source": [
    "Data types of our attributes"
   ]
  },
  {
   "cell_type": "code",
   "execution_count": 12,
   "metadata": {},
   "outputs": [
    {
     "data": {
      "text/plain": [
       "key                   object\n",
       "fare_amount          float64\n",
       "pickup_datetime       object\n",
       "pickup_longitude     float64\n",
       "pickup_latitude      float64\n",
       "dropoff_longitude    float64\n",
       "dropoff_latitude     float64\n",
       "passenger_count        int64\n",
       "dtype: object"
      ]
     },
     "execution_count": 12,
     "metadata": {},
     "output_type": "execute_result"
    }
   ],
   "source": [
    "data.dtypes"
   ]
  },
  {
   "cell_type": "markdown",
   "metadata": {},
   "source": [
    "##### We see if any of the data has missing values, we call isnull() for that "
   ]
  },
  {
   "cell_type": "code",
   "execution_count": 13,
   "metadata": {},
   "outputs": [
    {
     "name": "stdout",
     "output_type": "stream",
     "text": [
      "key                   0\n",
      "fare_amount           0\n",
      "pickup_datetime       0\n",
      "pickup_longitude      0\n",
      "pickup_latitude       0\n",
      "dropoff_longitude    14\n",
      "dropoff_latitude     14\n",
      "passenger_count       0\n",
      "dtype: int64\n"
     ]
    }
   ],
   "source": [
    "null_data=data.isnull().sum()\n",
    "print(null_data)"
   ]
  },
  {
   "cell_type": "markdown",
   "metadata": {},
   "source": [
    "We see that dropoff latituted and dropoff longititude has 14 missing values in each of them, so we drop them"
   ]
  },
  {
   "cell_type": "code",
   "execution_count": 14,
   "metadata": {},
   "outputs": [],
   "source": [
    "data = data.dropna(how = 'any', axis = 'rows')"
   ]
  },
  {
   "cell_type": "code",
   "execution_count": 15,
   "metadata": {},
   "outputs": [
    {
     "data": {
      "text/plain": [
       "(1999986, 8)"
      ]
     },
     "execution_count": 15,
     "metadata": {},
     "output_type": "execute_result"
    }
   ],
   "source": [
    "data.shape"
   ]
  },
  {
   "cell_type": "code",
   "execution_count": 16,
   "metadata": {},
   "outputs": [
    {
     "data": {
      "text/plain": [
       "count    1.999986e+06\n",
       "mean     1.684125e+00\n",
       "std      1.314979e+00\n",
       "min      0.000000e+00\n",
       "25%      1.000000e+00\n",
       "50%      1.000000e+00\n",
       "75%      2.000000e+00\n",
       "max      2.080000e+02\n",
       "Name: passenger_count, dtype: float64"
      ]
     },
     "execution_count": 16,
     "metadata": {},
     "output_type": "execute_result"
    }
   ],
   "source": [
    "data['passenger_count'].describe()"
   ]
  },
  {
   "cell_type": "code",
   "execution_count": 17,
   "metadata": {},
   "outputs": [
    {
     "data": {
      "text/plain": [
       "Text(0.5, 1.0, 'Passenger Count Bar Graph')"
      ]
     },
     "execution_count": 17,
     "metadata": {},
     "output_type": "execute_result"
    },
    {
     "data": {
      "image/png": "[encoded data removed]",
      "text/plain": [
       "<Figure size 1080x576 with 1 Axes>"
      ]
     },
     "metadata": {
      "needs_background": "light"
     },
     "output_type": "display_data"
    }
   ],
   "source": [
    "#To better visualize the data we plot it in a barchart\n",
    "plt.figure(figsize=(15,8))\n",
    "data['passenger_count'].value_counts().plot.bar()\n",
    "plt.xlabel('Number of People')\n",
    "plt.ylabel('Count appeared in dataset')\n",
    "plt.title('Passenger Count Bar Graph')"
   ]
  },
  {
   "cell_type": "markdown",
   "metadata": {},
   "source": [
    "##### As we can see the max value of ' passenger_count ' is about 208 which is quite absurd as even if we consider a bus operating as a taxi, it's max capacity would be of around 60.\n",
    "#### passenger_count ' for 1 to 6 have a significant count, Let's try to find the rides which have more than 6 passengers and analyze."
   ]
  },
  {
   "cell_type": "code",
   "execution_count": 18,
   "metadata": {},
   "outputs": [
    {
     "data": {
      "text/html": [
       "<div>\n",
       "<style scoped>\n",
       "    .dataframe tbody tr th:only-of-type {\n",
       "        vertical-align: middle;\n",
       "    }\n",
       "\n",
       "    .dataframe tbody tr th {\n",
       "        vertical-align: top;\n",
       "    }\n",
       "\n",
       "    .dataframe thead th {\n",
       "        text-align: right;\n",
       "    }\n",
       "</style>\n",
       "<table border=\"1\" class=\"dataframe\">\n",
       "  <thead>\n",
       "    <tr style=\"text-align: right;\">\n",
       "      <th></th>\n",
       "      <th>key</th>\n",
       "      <th>fare_amount</th>\n",
       "      <th>pickup_datetime</th>\n",
       "      <th>pickup_longitude</th>\n",
       "      <th>pickup_latitude</th>\n",
       "      <th>dropoff_longitude</th>\n",
       "      <th>dropoff_latitude</th>\n",
       "      <th>passenger_count</th>\n",
       "    </tr>\n",
       "  </thead>\n",
       "  <tbody>\n",
       "    <tr>\n",
       "      <th>929022</th>\n",
       "      <td>2009-07-30 11:54:00.000000193</td>\n",
       "      <td>3.3</td>\n",
       "      <td>2009-07-30 11:54:00 UTC</td>\n",
       "      <td>0.00000</td>\n",
       "      <td>0.00000</td>\n",
       "      <td>0.00000</td>\n",
       "      <td>0.00000</td>\n",
       "      <td>208</td>\n",
       "    </tr>\n",
       "    <tr>\n",
       "      <th>1007609</th>\n",
       "      <td>2014-06-24 15:13:00.00000040</td>\n",
       "      <td>104.0</td>\n",
       "      <td>2014-06-24 15:13:00 UTC</td>\n",
       "      <td>-74.01578</td>\n",
       "      <td>40.71542</td>\n",
       "      <td>-74.17028</td>\n",
       "      <td>40.70834</td>\n",
       "      <td>9</td>\n",
       "    </tr>\n",
       "  </tbody>\n",
       "</table>\n",
       "</div>"
      ],
      "text/plain": [
       "                                   key  fare_amount          pickup_datetime  \\\n",
       "929022   2009-07-30 11:54:00.000000193          3.3  2009-07-30 11:54:00 UTC   \n",
       "1007609   2014-06-24 15:13:00.00000040        104.0  2014-06-24 15:13:00 UTC   \n",
       "\n",
       "         pickup_longitude  pickup_latitude  dropoff_longitude  \\\n",
       "929022            0.00000          0.00000            0.00000   \n",
       "1007609         -74.01578         40.71542          -74.17028   \n",
       "\n",
       "         dropoff_latitude  passenger_count  \n",
       "929022            0.00000              208  \n",
       "1007609          40.70834                9  "
      ]
     },
     "execution_count": 18,
     "metadata": {},
     "output_type": "execute_result"
    }
   ],
   "source": [
    "data[data['passenger_count']>6]"
   ]
  },
  {
   "cell_type": "markdown",
   "metadata": {},
   "source": [
    "We have two rows with 9 and 208 which are outliners so we drop it"
   ]
  },
  {
   "cell_type": "code",
   "execution_count": 19,
   "metadata": {},
   "outputs": [
    {
     "data": {
      "text/plain": [
       "(1999986, 8)"
      ]
     },
     "execution_count": 19,
     "metadata": {},
     "output_type": "execute_result"
    }
   ],
   "source": [
    "data.shape"
   ]
  },
  {
   "cell_type": "markdown",
   "metadata": {},
   "source": [
    "Now we decribe the ' passenger_count ' column and check if the max passengers are 6."
   ]
  },
  {
   "cell_type": "code",
   "execution_count": 20,
   "metadata": {},
   "outputs": [
    {
     "data": {
      "text/plain": [
       "count    1.999986e+06\n",
       "mean     1.684125e+00\n",
       "std      1.314979e+00\n",
       "min      0.000000e+00\n",
       "25%      1.000000e+00\n",
       "50%      1.000000e+00\n",
       "75%      2.000000e+00\n",
       "max      2.080000e+02\n",
       "Name: passenger_count, dtype: float64"
      ]
     },
     "execution_count": 20,
     "metadata": {},
     "output_type": "execute_result"
    }
   ],
   "source": [
    "data['passenger_count'].describe()"
   ]
  },
  {
   "cell_type": "markdown",
   "metadata": {},
   "source": [
    "."
   ]
  },
  {
   "cell_type": "markdown",
   "metadata": {},
   "source": [
    "."
   ]
  },
  {
   "cell_type": "markdown",
   "metadata": {},
   "source": [
    "#### Note:\n",
    "\n",
    "We have small amount of rides with passengers 0 too, this might be the case of cancelling the ride after the taxi has reached the pickup location, we cannot drop this data as these might have potential information. We will deal with this case when we are cleaning latitude and longitude data\n"
   ]
  },
  {
   "cell_type": "markdown",
   "metadata": {},
   "source": [
    "."
   ]
  },
  {
   "cell_type": "markdown",
   "metadata": {},
   "source": [
    "Let us look at the fare amount now"
   ]
  },
  {
   "cell_type": "code",
   "execution_count": 21,
   "metadata": {},
   "outputs": [
    {
     "data": {
      "text/plain": [
       "count    1.999986e+06\n",
       "mean     1.134768e+01\n",
       "std      9.852609e+00\n",
       "min     -6.200000e+01\n",
       "25%      6.000000e+00\n",
       "50%      8.500000e+00\n",
       "75%      1.250000e+01\n",
       "max      1.273310e+03\n",
       "Name: fare_amount, dtype: float64"
      ]
     },
     "execution_count": 21,
     "metadata": {},
     "output_type": "execute_result"
    }
   ],
   "source": [
    "data['fare_amount'].describe()"
   ]
  },
  {
   "cell_type": "code",
   "execution_count": 22,
   "metadata": {
    "scrolled": true
   },
   "outputs": [
    {
     "data": {
      "text/plain": [
       "<matplotlib.axes._subplots.AxesSubplot at 0x1a35c9d2b0>"
      ]
     },
     "execution_count": 22,
     "metadata": {},
     "output_type": "execute_result"
    },
    {
     "data": {
      "image/png": "[encoded data removed]",
      "text/plain": [
       "<Figure size 1440x576 with 1 Axes>"
      ]
     },
     "metadata": {
      "needs_background": "light"
     },
     "output_type": "display_data"
    }
   ],
   "source": [
    "plt.figure(figsize=(20,8))\n",
    "sea.distplot(data.fare_amount,color=\"orange\")\n",
    "\n"
   ]
  },
  {
   "cell_type": "markdown",
   "metadata": {},
   "source": [
    "#### As we can see the ' fare_amount ' is not normally distributed \n",
    "###### A lot of fares agglomerate near the range of [ 0 , 80 ]\n",
    "###### The max fare is about a whooping more than $1200\n"
   ]
  },
  {
   "cell_type": "code",
   "execution_count": 23,
   "metadata": {},
   "outputs": [
    {
     "data": {
      "image/png": "[encoded data removed]",
      "text/plain": [
       "<Figure size 1008x216 with 1 Axes>"
      ]
     },
     "metadata": {
      "needs_background": "light"
     },
     "output_type": "display_data"
    }
   ],
   "source": [
    "data[data.fare_amount<200].fare_amount.hist(bins=100, figsize=(14,3))\n",
    "plt.xlabel('fare')\n",
    "plt.title('Fare Count Depiction');"
   ]
  },
  {
   "cell_type": "markdown",
   "metadata": {},
   "source": [
    "."
   ]
  },
  {
   "cell_type": "markdown",
   "metadata": {},
   "source": [
    "."
   ]
  },
  {
   "cell_type": "code",
   "execution_count": 24,
   "metadata": {},
   "outputs": [],
   "source": [
    "fare_less_than_zero=data[data['fare_amount']<0]"
   ]
  },
  {
   "cell_type": "code",
   "execution_count": 25,
   "metadata": {},
   "outputs": [
    {
     "data": {
      "text/plain": [
       "(77, 8)"
      ]
     },
     "execution_count": 25,
     "metadata": {},
     "output_type": "execute_result"
    }
   ],
   "source": [
    "fare_less_than_zero.shape"
   ]
  },
  {
   "cell_type": "markdown",
   "metadata": {},
   "source": [
    "We see that 77 rows have fare which is less than 0. We drop them as the fare can't be less than zero."
   ]
  },
  {
   "cell_type": "code",
   "execution_count": 26,
   "metadata": {},
   "outputs": [],
   "source": [
    "data=data[data['fare_amount']>=0]"
   ]
  },
  {
   "cell_type": "code",
   "execution_count": 27,
   "metadata": {},
   "outputs": [
    {
     "data": {
      "text/plain": [
       "(1999909, 8)"
      ]
     },
     "execution_count": 27,
     "metadata": {},
     "output_type": "execute_result"
    }
   ],
   "source": [
    "data.shape"
   ]
  },
  {
   "cell_type": "code",
   "execution_count": 28,
   "metadata": {
    "scrolled": true
   },
   "outputs": [
    {
     "data": {
      "text/plain": [
       "1144706    1273.31\n",
       "101885      500.00\n",
       "247671      495.00\n",
       "1215047     488.00\n",
       "233874      450.00\n",
       "329010      450.00\n",
       "287638      450.00\n",
       "1950951     430.00\n",
       "451974      400.00\n",
       "361793      400.00\n",
       "1901979     386.08\n",
       "951810      347.54\n",
       "1004275     325.00\n",
       "1961485     315.00\n",
       "1124533     290.25\n",
       "578919      287.08\n",
       "130460      281.05\n",
       "1258548     271.00\n",
       "309769      263.25\n",
       "719764      262.04\n",
       "1117742     260.00\n",
       "1484329     258.00\n",
       "142550      255.00\n",
       "888472      250.25\n",
       "1474125     250.00\n",
       "351584      250.00\n",
       "217225      245.41\n",
       "786490      243.00\n",
       "149769      240.00\n",
       "1729099     236.25\n",
       "            ...   \n",
       "1878626       0.00\n",
       "788466        0.00\n",
       "1530388       0.00\n",
       "1249746       0.00\n",
       "1662545       0.00\n",
       "1161016       0.00\n",
       "1634619       0.00\n",
       "670254        0.00\n",
       "1296011       0.00\n",
       "1598058       0.00\n",
       "1729974       0.00\n",
       "762802        0.00\n",
       "895361        0.00\n",
       "1709610       0.00\n",
       "957590        0.00\n",
       "1239525       0.00\n",
       "1920170       0.00\n",
       "1614540       0.00\n",
       "331597        0.00\n",
       "105051        0.00\n",
       "1865880       0.00\n",
       "561786        0.00\n",
       "175352        0.00\n",
       "1833544       0.00\n",
       "386734        0.00\n",
       "938020        0.00\n",
       "760662        0.00\n",
       "897211        0.00\n",
       "1290023       0.00\n",
       "1380855       0.00\n",
       "Name: fare_amount, Length: 1999909, dtype: float64"
      ]
     },
     "execution_count": 28,
     "metadata": {},
     "output_type": "execute_result"
    }
   ],
   "source": [
    "data['fare_amount'].sort_values(ascending=False)"
   ]
  },
  {
   "cell_type": "markdown",
   "metadata": {},
   "source": [
    "."
   ]
  },
  {
   "cell_type": "markdown",
   "metadata": {},
   "source": [
    "### Now let us deal with drop off latitudes and longitudes"
   ]
  },
  {
   "cell_type": "code",
   "execution_count": 29,
   "metadata": {
    "scrolled": true
   },
   "outputs": [
    {
     "data": {
      "text/html": [
       "<div>\n",
       "<style scoped>\n",
       "    .dataframe tbody tr th:only-of-type {\n",
       "        vertical-align: middle;\n",
       "    }\n",
       "\n",
       "    .dataframe tbody tr th {\n",
       "        vertical-align: top;\n",
       "    }\n",
       "\n",
       "    .dataframe thead th {\n",
       "        text-align: right;\n",
       "    }\n",
       "</style>\n",
       "<table border=\"1\" class=\"dataframe\">\n",
       "  <thead>\n",
       "    <tr style=\"text-align: right;\">\n",
       "      <th></th>\n",
       "      <th>fare_amount</th>\n",
       "      <th>pickup_longitude</th>\n",
       "      <th>pickup_latitude</th>\n",
       "      <th>dropoff_longitude</th>\n",
       "      <th>dropoff_latitude</th>\n",
       "      <th>passenger_count</th>\n",
       "    </tr>\n",
       "  </thead>\n",
       "  <tbody>\n",
       "    <tr>\n",
       "      <th>count</th>\n",
       "      <td>1.999909e+06</td>\n",
       "      <td>1.999909e+06</td>\n",
       "      <td>1.999909e+06</td>\n",
       "      <td>1.999909e+06</td>\n",
       "      <td>1.999909e+06</td>\n",
       "      <td>1.999909e+06</td>\n",
       "    </tr>\n",
       "    <tr>\n",
       "      <th>mean</th>\n",
       "      <td>1.134841e+01</td>\n",
       "      <td>-7.252329e+01</td>\n",
       "      <td>3.992968e+01</td>\n",
       "      <td>-7.252415e+01</td>\n",
       "      <td>3.992819e+01</td>\n",
       "      <td>1.684123e+00</td>\n",
       "    </tr>\n",
       "    <tr>\n",
       "      <th>std</th>\n",
       "      <td>9.851787e+00</td>\n",
       "      <td>1.286792e+01</td>\n",
       "      <td>7.983332e+00</td>\n",
       "      <td>1.277449e+01</td>\n",
       "      <td>1.032374e+01</td>\n",
       "      <td>1.314976e+00</td>\n",
       "    </tr>\n",
       "    <tr>\n",
       "      <th>min</th>\n",
       "      <td>0.000000e+00</td>\n",
       "      <td>-3.377681e+03</td>\n",
       "      <td>-3.458665e+03</td>\n",
       "      <td>-3.383297e+03</td>\n",
       "      <td>-3.461541e+03</td>\n",
       "      <td>0.000000e+00</td>\n",
       "    </tr>\n",
       "    <tr>\n",
       "      <th>25%</th>\n",
       "      <td>6.000000e+00</td>\n",
       "      <td>-7.399208e+01</td>\n",
       "      <td>4.073491e+01</td>\n",
       "      <td>-7.399141e+01</td>\n",
       "      <td>4.073400e+01</td>\n",
       "      <td>1.000000e+00</td>\n",
       "    </tr>\n",
       "    <tr>\n",
       "      <th>50%</th>\n",
       "      <td>8.500000e+00</td>\n",
       "      <td>-7.398181e+01</td>\n",
       "      <td>4.075263e+01</td>\n",
       "      <td>-7.398016e+01</td>\n",
       "      <td>4.075312e+01</td>\n",
       "      <td>1.000000e+00</td>\n",
       "    </tr>\n",
       "    <tr>\n",
       "      <th>75%</th>\n",
       "      <td>1.250000e+01</td>\n",
       "      <td>-7.396713e+01</td>\n",
       "      <td>4.076710e+01</td>\n",
       "      <td>-7.396369e+01</td>\n",
       "      <td>4.076809e+01</td>\n",
       "      <td>2.000000e+00</td>\n",
       "    </tr>\n",
       "    <tr>\n",
       "      <th>max</th>\n",
       "      <td>1.273310e+03</td>\n",
       "      <td>2.856442e+03</td>\n",
       "      <td>2.621628e+03</td>\n",
       "      <td>3.414307e+03</td>\n",
       "      <td>3.345917e+03</td>\n",
       "      <td>2.080000e+02</td>\n",
       "    </tr>\n",
       "  </tbody>\n",
       "</table>\n",
       "</div>"
      ],
      "text/plain": [
       "        fare_amount  pickup_longitude  pickup_latitude  dropoff_longitude  \\\n",
       "count  1.999909e+06      1.999909e+06     1.999909e+06       1.999909e+06   \n",
       "mean   1.134841e+01     -7.252329e+01     3.992968e+01      -7.252415e+01   \n",
       "std    9.851787e+00      1.286792e+01     7.983332e+00       1.277449e+01   \n",
       "min    0.000000e+00     -3.377681e+03    -3.458665e+03      -3.383297e+03   \n",
       "25%    6.000000e+00     -7.399208e+01     4.073491e+01      -7.399141e+01   \n",
       "50%    8.500000e+00     -7.398181e+01     4.075263e+01      -7.398016e+01   \n",
       "75%    1.250000e+01     -7.396713e+01     4.076710e+01      -7.396369e+01   \n",
       "max    1.273310e+03      2.856442e+03     2.621628e+03       3.414307e+03   \n",
       "\n",
       "       dropoff_latitude  passenger_count  \n",
       "count      1.999909e+06     1.999909e+06  \n",
       "mean       3.992819e+01     1.684123e+00  \n",
       "std        1.032374e+01     1.314976e+00  \n",
       "min       -3.461541e+03     0.000000e+00  \n",
       "25%        4.073400e+01     1.000000e+00  \n",
       "50%        4.075312e+01     1.000000e+00  \n",
       "75%        4.076809e+01     2.000000e+00  \n",
       "max        3.345917e+03     2.080000e+02  "
      ]
     },
     "execution_count": 29,
     "metadata": {},
     "output_type": "execute_result"
    }
   ],
   "source": [
    "data.describe()"
   ]
  },
  {
   "cell_type": "markdown",
   "metadata": {},
   "source": [
    "As we check the data we have min values ranging around -3400 which is not defined and these pertain to outliers.\n"
   ]
  },
  {
   "cell_type": "markdown",
   "metadata": {},
   "source": [
    "The max values also have a certain outliers being max values around 3000.\n"
   ]
  },
  {
   "cell_type": "markdown",
   "metadata": {},
   "source": [
    "Now what we try to do is that we check the min and max values of latitudes and longitudes of the test data and then filter our training dataset inside [ min , max ] range.\n"
   ]
  },
  {
   "cell_type": "markdown",
   "metadata": {},
   "source": [
    "Let us find the min and max of the test data."
   ]
  },
  {
   "cell_type": "code",
   "execution_count": 30,
   "metadata": {},
   "outputs": [
    {
     "data": {
      "text/html": [
       "<div>\n",
       "<style scoped>\n",
       "    .dataframe tbody tr th:only-of-type {\n",
       "        vertical-align: middle;\n",
       "    }\n",
       "\n",
       "    .dataframe tbody tr th {\n",
       "        vertical-align: top;\n",
       "    }\n",
       "\n",
       "    .dataframe thead th {\n",
       "        text-align: right;\n",
       "    }\n",
       "</style>\n",
       "<table border=\"1\" class=\"dataframe\">\n",
       "  <thead>\n",
       "    <tr style=\"text-align: right;\">\n",
       "      <th></th>\n",
       "      <th>pickup_longitude</th>\n",
       "      <th>pickup_latitude</th>\n",
       "      <th>dropoff_longitude</th>\n",
       "      <th>dropoff_latitude</th>\n",
       "      <th>passenger_count</th>\n",
       "    </tr>\n",
       "  </thead>\n",
       "  <tbody>\n",
       "    <tr>\n",
       "      <th>count</th>\n",
       "      <td>9914.000000</td>\n",
       "      <td>9914.000000</td>\n",
       "      <td>9914.000000</td>\n",
       "      <td>9914.000000</td>\n",
       "      <td>9914.000000</td>\n",
       "    </tr>\n",
       "    <tr>\n",
       "      <th>mean</th>\n",
       "      <td>-73.974722</td>\n",
       "      <td>40.751041</td>\n",
       "      <td>-73.973657</td>\n",
       "      <td>40.751743</td>\n",
       "      <td>1.671273</td>\n",
       "    </tr>\n",
       "    <tr>\n",
       "      <th>std</th>\n",
       "      <td>0.042774</td>\n",
       "      <td>0.033541</td>\n",
       "      <td>0.039072</td>\n",
       "      <td>0.035435</td>\n",
       "      <td>1.278747</td>\n",
       "    </tr>\n",
       "    <tr>\n",
       "      <th>min</th>\n",
       "      <td>-74.252193</td>\n",
       "      <td>40.573143</td>\n",
       "      <td>-74.263242</td>\n",
       "      <td>40.568973</td>\n",
       "      <td>1.000000</td>\n",
       "    </tr>\n",
       "    <tr>\n",
       "      <th>25%</th>\n",
       "      <td>-73.992501</td>\n",
       "      <td>40.736125</td>\n",
       "      <td>-73.991247</td>\n",
       "      <td>40.735254</td>\n",
       "      <td>1.000000</td>\n",
       "    </tr>\n",
       "    <tr>\n",
       "      <th>50%</th>\n",
       "      <td>-73.982326</td>\n",
       "      <td>40.753051</td>\n",
       "      <td>-73.980015</td>\n",
       "      <td>40.754065</td>\n",
       "      <td>1.000000</td>\n",
       "    </tr>\n",
       "    <tr>\n",
       "      <th>75%</th>\n",
       "      <td>-73.968013</td>\n",
       "      <td>40.767113</td>\n",
       "      <td>-73.964059</td>\n",
       "      <td>40.768757</td>\n",
       "      <td>2.000000</td>\n",
       "    </tr>\n",
       "    <tr>\n",
       "      <th>max</th>\n",
       "      <td>-72.986532</td>\n",
       "      <td>41.709555</td>\n",
       "      <td>-72.990963</td>\n",
       "      <td>41.696683</td>\n",
       "      <td>6.000000</td>\n",
       "    </tr>\n",
       "  </tbody>\n",
       "</table>\n",
       "</div>"
      ],
      "text/plain": [
       "       pickup_longitude  pickup_latitude  dropoff_longitude  dropoff_latitude  \\\n",
       "count       9914.000000      9914.000000        9914.000000       9914.000000   \n",
       "mean         -73.974722        40.751041         -73.973657         40.751743   \n",
       "std            0.042774         0.033541           0.039072          0.035435   \n",
       "min          -74.252193        40.573143         -74.263242         40.568973   \n",
       "25%          -73.992501        40.736125         -73.991247         40.735254   \n",
       "50%          -73.982326        40.753051         -73.980015         40.754065   \n",
       "75%          -73.968013        40.767113         -73.964059         40.768757   \n",
       "max          -72.986532        41.709555         -72.990963         41.696683   \n",
       "\n",
       "       passenger_count  \n",
       "count      9914.000000  \n",
       "mean          1.671273  \n",
       "std           1.278747  \n",
       "min           1.000000  \n",
       "25%           1.000000  \n",
       "50%           1.000000  \n",
       "75%           2.000000  \n",
       "max           6.000000  "
      ]
     },
     "execution_count": 30,
     "metadata": {},
     "output_type": "execute_result"
    }
   ],
   "source": [
    "test.describe()"
   ]
  },
  {
   "cell_type": "code",
   "execution_count": 31,
   "metadata": {},
   "outputs": [
    {
     "data": {
      "text/plain": [
       "(-74.263242, -72.986532)"
      ]
     },
     "execution_count": 31,
     "metadata": {},
     "output_type": "execute_result"
    }
   ],
   "source": [
    "min(test.pickup_longitude.min(), test.dropoff_longitude.min()), \\\n",
    "max(test.pickup_longitude.max(), test.dropoff_longitude.max())"
   ]
  },
  {
   "cell_type": "code",
   "execution_count": 32,
   "metadata": {},
   "outputs": [
    {
     "data": {
      "text/plain": [
       "(40.568973, 41.709555)"
      ]
     },
     "execution_count": 32,
     "metadata": {},
     "output_type": "execute_result"
    }
   ],
   "source": [
    "min(test.pickup_latitude.min(), test.dropoff_latitude.min()), \\\n",
    "max(test.pickup_latitude.max(), test.dropoff_latitude.max())"
   ]
  },
  {
   "cell_type": "markdown",
   "metadata": {},
   "source": [
    "Now we got the extremes of the test data of long' and lat', we now restrict our train data rows to this range."
   ]
  },
  {
   "cell_type": "markdown",
   "metadata": {},
   "source": [
    "We use Dataframe.loc to access the group with the limits we put and only keep them in data."
   ]
  },
  {
   "cell_type": "code",
   "execution_count": 33,
   "metadata": {},
   "outputs": [],
   "source": [
    "data = data.loc[data['pickup_longitude'].between(-74.3, -72.9)]\n",
    "data = data.loc[data['dropoff_longitude'].between(-74.3, -72.9)]\n",
    "data = data.loc[data['dropoff_latitude'].between(40.5, 41.7)]\n",
    "data = data.loc[data['pickup_latitude'].between(40.5, 41.7)]"
   ]
  },
  {
   "cell_type": "code",
   "execution_count": 35,
   "metadata": {},
   "outputs": [
    {
     "data": {
      "text/html": [
       "<div>\n",
       "<style scoped>\n",
       "    .dataframe tbody tr th:only-of-type {\n",
       "        vertical-align: middle;\n",
       "    }\n",
       "\n",
       "    .dataframe tbody tr th {\n",
       "        vertical-align: top;\n",
       "    }\n",
       "\n",
       "    .dataframe thead th {\n",
       "        text-align: right;\n",
       "    }\n",
       "</style>\n",
       "<table border=\"1\" class=\"dataframe\">\n",
       "  <thead>\n",
       "    <tr style=\"text-align: right;\">\n",
       "      <th></th>\n",
       "      <th>fare_amount</th>\n",
       "      <th>pickup_longitude</th>\n",
       "      <th>pickup_latitude</th>\n",
       "      <th>dropoff_longitude</th>\n",
       "      <th>dropoff_latitude</th>\n",
       "      <th>passenger_count</th>\n",
       "    </tr>\n",
       "  </thead>\n",
       "  <tbody>\n",
       "    <tr>\n",
       "      <th>count</th>\n",
       "      <td>1.957776e+06</td>\n",
       "      <td>1.957776e+06</td>\n",
       "      <td>1.957776e+06</td>\n",
       "      <td>1.957776e+06</td>\n",
       "      <td>1.957776e+06</td>\n",
       "      <td>1.957776e+06</td>\n",
       "    </tr>\n",
       "    <tr>\n",
       "      <th>mean</th>\n",
       "      <td>1.132490e+01</td>\n",
       "      <td>-7.397513e+01</td>\n",
       "      <td>4.075107e+01</td>\n",
       "      <td>-7.397424e+01</td>\n",
       "      <td>4.075142e+01</td>\n",
       "      <td>1.684247e+00</td>\n",
       "    </tr>\n",
       "    <tr>\n",
       "      <th>std</th>\n",
       "      <td>9.682213e+00</td>\n",
       "      <td>3.845336e-02</td>\n",
       "      <td>2.956141e-02</td>\n",
       "      <td>3.758561e-02</td>\n",
       "      <td>3.272666e-02</td>\n",
       "      <td>1.306714e+00</td>\n",
       "    </tr>\n",
       "    <tr>\n",
       "      <th>min</th>\n",
       "      <td>0.000000e+00</td>\n",
       "      <td>-7.429941e+01</td>\n",
       "      <td>4.050183e+01</td>\n",
       "      <td>-7.429973e+01</td>\n",
       "      <td>4.050029e+01</td>\n",
       "      <td>0.000000e+00</td>\n",
       "    </tr>\n",
       "    <tr>\n",
       "      <th>25%</th>\n",
       "      <td>6.000000e+00</td>\n",
       "      <td>-7.399229e+01</td>\n",
       "      <td>4.073654e+01</td>\n",
       "      <td>-7.399159e+01</td>\n",
       "      <td>4.073553e+01</td>\n",
       "      <td>1.000000e+00</td>\n",
       "    </tr>\n",
       "    <tr>\n",
       "      <th>50%</th>\n",
       "      <td>8.500000e+00</td>\n",
       "      <td>-7.398210e+01</td>\n",
       "      <td>4.075334e+01</td>\n",
       "      <td>-7.398062e+01</td>\n",
       "      <td>4.075383e+01</td>\n",
       "      <td>1.000000e+00</td>\n",
       "    </tr>\n",
       "    <tr>\n",
       "      <th>75%</th>\n",
       "      <td>1.250000e+01</td>\n",
       "      <td>-7.396834e+01</td>\n",
       "      <td>4.076752e+01</td>\n",
       "      <td>-7.396536e+01</td>\n",
       "      <td>4.076839e+01</td>\n",
       "      <td>2.000000e+00</td>\n",
       "    </tr>\n",
       "    <tr>\n",
       "      <th>max</th>\n",
       "      <td>5.000000e+02</td>\n",
       "      <td>-7.294086e+01</td>\n",
       "      <td>4.169685e+01</td>\n",
       "      <td>-7.290000e+01</td>\n",
       "      <td>4.169126e+01</td>\n",
       "      <td>9.000000e+00</td>\n",
       "    </tr>\n",
       "  </tbody>\n",
       "</table>\n",
       "</div>"
      ],
      "text/plain": [
       "        fare_amount  pickup_longitude  pickup_latitude  dropoff_longitude  \\\n",
       "count  1.957776e+06      1.957776e+06     1.957776e+06       1.957776e+06   \n",
       "mean   1.132490e+01     -7.397513e+01     4.075107e+01      -7.397424e+01   \n",
       "std    9.682213e+00      3.845336e-02     2.956141e-02       3.758561e-02   \n",
       "min    0.000000e+00     -7.429941e+01     4.050183e+01      -7.429973e+01   \n",
       "25%    6.000000e+00     -7.399229e+01     4.073654e+01      -7.399159e+01   \n",
       "50%    8.500000e+00     -7.398210e+01     4.075334e+01      -7.398062e+01   \n",
       "75%    1.250000e+01     -7.396834e+01     4.076752e+01      -7.396536e+01   \n",
       "max    5.000000e+02     -7.294086e+01     4.169685e+01      -7.290000e+01   \n",
       "\n",
       "       dropoff_latitude  passenger_count  \n",
       "count      1.957776e+06     1.957776e+06  \n",
       "mean       4.075142e+01     1.684247e+00  \n",
       "std        3.272666e-02     1.306714e+00  \n",
       "min        4.050029e+01     0.000000e+00  \n",
       "25%        4.073553e+01     1.000000e+00  \n",
       "50%        4.075383e+01     1.000000e+00  \n",
       "75%        4.076839e+01     2.000000e+00  \n",
       "max        4.169126e+01     9.000000e+00  "
      ]
     },
     "execution_count": 35,
     "metadata": {},
     "output_type": "execute_result"
    }
   ],
   "source": [
    "data.describe()"
   ]
  },
  {
   "cell_type": "code",
   "execution_count": 36,
   "metadata": {
    "scrolled": true
   },
   "outputs": [
    {
     "data": {
      "text/plain": [
       "key                   object\n",
       "fare_amount          float64\n",
       "pickup_datetime       object\n",
       "pickup_longitude     float64\n",
       "pickup_latitude      float64\n",
       "dropoff_longitude    float64\n",
       "dropoff_latitude     float64\n",
       "passenger_count        int64\n",
       "dtype: object"
      ]
     },
     "execution_count": 36,
     "metadata": {},
     "output_type": "execute_result"
    }
   ],
   "source": [
    "data.dtypes"
   ]
  },
  {
   "cell_type": "markdown",
   "metadata": {},
   "source": [
    "."
   ]
  },
  {
   "cell_type": "markdown",
   "metadata": {},
   "source": [
    "The pickup_datetime is in ' object ' type, we convert it into datetime format so as to parse various day functions from it."
   ]
  },
  {
   "cell_type": "code",
   "execution_count": 37,
   "metadata": {},
   "outputs": [],
   "source": [
    "def convert_to_datetime(df):\n",
    "    test_time = df['pickup_datetime'].astype(str).str[:-4]\n",
    "    df['date_time'] = pd.to_datetime(test_time, format='%Y%m%d %H:%M:%S')\n",
    "    return df\n",
    "data = convert_to_datetime(data)\n",
    "test = convert_to_datetime(test)"
   ]
  },
  {
   "cell_type": "code",
   "execution_count": 38,
   "metadata": {},
   "outputs": [
    {
     "data": {
      "text/html": [
       "<div>\n",
       "<style scoped>\n",
       "    .dataframe tbody tr th:only-of-type {\n",
       "        vertical-align: middle;\n",
       "    }\n",
       "\n",
       "    .dataframe tbody tr th {\n",
       "        vertical-align: top;\n",
       "    }\n",
       "\n",
       "    .dataframe thead th {\n",
       "        text-align: right;\n",
       "    }\n",
       "</style>\n",
       "<table border=\"1\" class=\"dataframe\">\n",
       "  <thead>\n",
       "    <tr style=\"text-align: right;\">\n",
       "      <th></th>\n",
       "      <th>fare_amount</th>\n",
       "      <th>pickup_longitude</th>\n",
       "      <th>pickup_latitude</th>\n",
       "      <th>dropoff_longitude</th>\n",
       "      <th>dropoff_latitude</th>\n",
       "      <th>passenger_count</th>\n",
       "    </tr>\n",
       "  </thead>\n",
       "  <tbody>\n",
       "    <tr>\n",
       "      <th>count</th>\n",
       "      <td>1.957776e+06</td>\n",
       "      <td>1.957776e+06</td>\n",
       "      <td>1.957776e+06</td>\n",
       "      <td>1.957776e+06</td>\n",
       "      <td>1.957776e+06</td>\n",
       "      <td>1.957776e+06</td>\n",
       "    </tr>\n",
       "    <tr>\n",
       "      <th>mean</th>\n",
       "      <td>1.132490e+01</td>\n",
       "      <td>-7.397513e+01</td>\n",
       "      <td>4.075107e+01</td>\n",
       "      <td>-7.397424e+01</td>\n",
       "      <td>4.075142e+01</td>\n",
       "      <td>1.684247e+00</td>\n",
       "    </tr>\n",
       "    <tr>\n",
       "      <th>std</th>\n",
       "      <td>9.682213e+00</td>\n",
       "      <td>3.845336e-02</td>\n",
       "      <td>2.956141e-02</td>\n",
       "      <td>3.758561e-02</td>\n",
       "      <td>3.272666e-02</td>\n",
       "      <td>1.306714e+00</td>\n",
       "    </tr>\n",
       "    <tr>\n",
       "      <th>min</th>\n",
       "      <td>0.000000e+00</td>\n",
       "      <td>-7.429941e+01</td>\n",
       "      <td>4.050183e+01</td>\n",
       "      <td>-7.429973e+01</td>\n",
       "      <td>4.050029e+01</td>\n",
       "      <td>0.000000e+00</td>\n",
       "    </tr>\n",
       "    <tr>\n",
       "      <th>25%</th>\n",
       "      <td>6.000000e+00</td>\n",
       "      <td>-7.399229e+01</td>\n",
       "      <td>4.073654e+01</td>\n",
       "      <td>-7.399159e+01</td>\n",
       "      <td>4.073553e+01</td>\n",
       "      <td>1.000000e+00</td>\n",
       "    </tr>\n",
       "    <tr>\n",
       "      <th>50%</th>\n",
       "      <td>8.500000e+00</td>\n",
       "      <td>-7.398210e+01</td>\n",
       "      <td>4.075334e+01</td>\n",
       "      <td>-7.398062e+01</td>\n",
       "      <td>4.075383e+01</td>\n",
       "      <td>1.000000e+00</td>\n",
       "    </tr>\n",
       "    <tr>\n",
       "      <th>75%</th>\n",
       "      <td>1.250000e+01</td>\n",
       "      <td>-7.396834e+01</td>\n",
       "      <td>4.076752e+01</td>\n",
       "      <td>-7.396536e+01</td>\n",
       "      <td>4.076839e+01</td>\n",
       "      <td>2.000000e+00</td>\n",
       "    </tr>\n",
       "    <tr>\n",
       "      <th>max</th>\n",
       "      <td>5.000000e+02</td>\n",
       "      <td>-7.294086e+01</td>\n",
       "      <td>4.169685e+01</td>\n",
       "      <td>-7.290000e+01</td>\n",
       "      <td>4.169126e+01</td>\n",
       "      <td>9.000000e+00</td>\n",
       "    </tr>\n",
       "  </tbody>\n",
       "</table>\n",
       "</div>"
      ],
      "text/plain": [
       "        fare_amount  pickup_longitude  pickup_latitude  dropoff_longitude  \\\n",
       "count  1.957776e+06      1.957776e+06     1.957776e+06       1.957776e+06   \n",
       "mean   1.132490e+01     -7.397513e+01     4.075107e+01      -7.397424e+01   \n",
       "std    9.682213e+00      3.845336e-02     2.956141e-02       3.758561e-02   \n",
       "min    0.000000e+00     -7.429941e+01     4.050183e+01      -7.429973e+01   \n",
       "25%    6.000000e+00     -7.399229e+01     4.073654e+01      -7.399159e+01   \n",
       "50%    8.500000e+00     -7.398210e+01     4.075334e+01      -7.398062e+01   \n",
       "75%    1.250000e+01     -7.396834e+01     4.076752e+01      -7.396536e+01   \n",
       "max    5.000000e+02     -7.294086e+01     4.169685e+01      -7.290000e+01   \n",
       "\n",
       "       dropoff_latitude  passenger_count  \n",
       "count      1.957776e+06     1.957776e+06  \n",
       "mean       4.075142e+01     1.684247e+00  \n",
       "std        3.272666e-02     1.306714e+00  \n",
       "min        4.050029e+01     0.000000e+00  \n",
       "25%        4.073553e+01     1.000000e+00  \n",
       "50%        4.075383e+01     1.000000e+00  \n",
       "75%        4.076839e+01     2.000000e+00  \n",
       "max        4.169126e+01     9.000000e+00  "
      ]
     },
     "execution_count": 38,
     "metadata": {},
     "output_type": "execute_result"
    }
   ],
   "source": [
    "data.describe()"
   ]
  },
  {
   "cell_type": "code",
   "execution_count": 39,
   "metadata": {},
   "outputs": [],
   "source": [
    "def extract_date(data):\n",
    "    data['hour'] = data['date_time'].dt.hour\n",
    "    data['day'] = data['date_time'].dt.day\n",
    "    data['month'] = data['date_time'].dt.month\n",
    "    data['year'] = data['date_time'].dt.year\n",
    "    data['day_of_week'] = data['date_time'].dt.weekday\n",
    "    # data = data.drop(['date_time','pickup_datetime'], axis=1)\n",
    "    return data\n",
    "\n",
    "data = extract_date(data)\n",
    "test = extract_date(test)"
   ]
  },
  {
   "cell_type": "code",
   "execution_count": 40,
   "metadata": {},
   "outputs": [
    {
     "data": {
      "text/html": [
       "<div>\n",
       "<style scoped>\n",
       "    .dataframe tbody tr th:only-of-type {\n",
       "        vertical-align: middle;\n",
       "    }\n",
       "\n",
       "    .dataframe tbody tr th {\n",
       "        vertical-align: top;\n",
       "    }\n",
       "\n",
       "    .dataframe thead th {\n",
       "        text-align: right;\n",
       "    }\n",
       "</style>\n",
       "<table border=\"1\" class=\"dataframe\">\n",
       "  <thead>\n",
       "    <tr style=\"text-align: right;\">\n",
       "      <th></th>\n",
       "      <th>fare_amount</th>\n",
       "      <th>pickup_longitude</th>\n",
       "      <th>pickup_latitude</th>\n",
       "      <th>dropoff_longitude</th>\n",
       "      <th>dropoff_latitude</th>\n",
       "      <th>passenger_count</th>\n",
       "      <th>hour</th>\n",
       "      <th>day</th>\n",
       "      <th>month</th>\n",
       "      <th>year</th>\n",
       "      <th>day_of_week</th>\n",
       "    </tr>\n",
       "  </thead>\n",
       "  <tbody>\n",
       "    <tr>\n",
       "      <th>count</th>\n",
       "      <td>1.957776e+06</td>\n",
       "      <td>1.957776e+06</td>\n",
       "      <td>1.957776e+06</td>\n",
       "      <td>1.957776e+06</td>\n",
       "      <td>1.957776e+06</td>\n",
       "      <td>1.957776e+06</td>\n",
       "      <td>1.957776e+06</td>\n",
       "      <td>1.957776e+06</td>\n",
       "      <td>1.957776e+06</td>\n",
       "      <td>1.957776e+06</td>\n",
       "      <td>1.957776e+06</td>\n",
       "    </tr>\n",
       "    <tr>\n",
       "      <th>mean</th>\n",
       "      <td>1.132490e+01</td>\n",
       "      <td>-7.397513e+01</td>\n",
       "      <td>4.075107e+01</td>\n",
       "      <td>-7.397424e+01</td>\n",
       "      <td>4.075142e+01</td>\n",
       "      <td>1.684247e+00</td>\n",
       "      <td>1.350850e+01</td>\n",
       "      <td>1.570592e+01</td>\n",
       "      <td>6.269440e+00</td>\n",
       "      <td>2.011737e+03</td>\n",
       "      <td>3.041281e+00</td>\n",
       "    </tr>\n",
       "    <tr>\n",
       "      <th>std</th>\n",
       "      <td>9.682213e+00</td>\n",
       "      <td>3.845336e-02</td>\n",
       "      <td>2.956141e-02</td>\n",
       "      <td>3.758561e-02</td>\n",
       "      <td>3.272666e-02</td>\n",
       "      <td>1.306714e+00</td>\n",
       "      <td>6.513962e+00</td>\n",
       "      <td>8.682198e+00</td>\n",
       "      <td>3.437977e+00</td>\n",
       "      <td>1.863406e+00</td>\n",
       "      <td>1.949913e+00</td>\n",
       "    </tr>\n",
       "    <tr>\n",
       "      <th>min</th>\n",
       "      <td>0.000000e+00</td>\n",
       "      <td>-7.429941e+01</td>\n",
       "      <td>4.050183e+01</td>\n",
       "      <td>-7.429973e+01</td>\n",
       "      <td>4.050029e+01</td>\n",
       "      <td>0.000000e+00</td>\n",
       "      <td>0.000000e+00</td>\n",
       "      <td>1.000000e+00</td>\n",
       "      <td>1.000000e+00</td>\n",
       "      <td>2.009000e+03</td>\n",
       "      <td>0.000000e+00</td>\n",
       "    </tr>\n",
       "    <tr>\n",
       "      <th>25%</th>\n",
       "      <td>6.000000e+00</td>\n",
       "      <td>-7.399229e+01</td>\n",
       "      <td>4.073654e+01</td>\n",
       "      <td>-7.399159e+01</td>\n",
       "      <td>4.073553e+01</td>\n",
       "      <td>1.000000e+00</td>\n",
       "      <td>9.000000e+00</td>\n",
       "      <td>8.000000e+00</td>\n",
       "      <td>3.000000e+00</td>\n",
       "      <td>2.010000e+03</td>\n",
       "      <td>1.000000e+00</td>\n",
       "    </tr>\n",
       "    <tr>\n",
       "      <th>50%</th>\n",
       "      <td>8.500000e+00</td>\n",
       "      <td>-7.398210e+01</td>\n",
       "      <td>4.075334e+01</td>\n",
       "      <td>-7.398062e+01</td>\n",
       "      <td>4.075383e+01</td>\n",
       "      <td>1.000000e+00</td>\n",
       "      <td>1.400000e+01</td>\n",
       "      <td>1.600000e+01</td>\n",
       "      <td>6.000000e+00</td>\n",
       "      <td>2.012000e+03</td>\n",
       "      <td>3.000000e+00</td>\n",
       "    </tr>\n",
       "    <tr>\n",
       "      <th>75%</th>\n",
       "      <td>1.250000e+01</td>\n",
       "      <td>-7.396834e+01</td>\n",
       "      <td>4.076752e+01</td>\n",
       "      <td>-7.396536e+01</td>\n",
       "      <td>4.076839e+01</td>\n",
       "      <td>2.000000e+00</td>\n",
       "      <td>1.900000e+01</td>\n",
       "      <td>2.300000e+01</td>\n",
       "      <td>9.000000e+00</td>\n",
       "      <td>2.013000e+03</td>\n",
       "      <td>5.000000e+00</td>\n",
       "    </tr>\n",
       "    <tr>\n",
       "      <th>max</th>\n",
       "      <td>5.000000e+02</td>\n",
       "      <td>-7.294086e+01</td>\n",
       "      <td>4.169685e+01</td>\n",
       "      <td>-7.290000e+01</td>\n",
       "      <td>4.169126e+01</td>\n",
       "      <td>9.000000e+00</td>\n",
       "      <td>2.300000e+01</td>\n",
       "      <td>3.100000e+01</td>\n",
       "      <td>1.200000e+01</td>\n",
       "      <td>2.015000e+03</td>\n",
       "      <td>6.000000e+00</td>\n",
       "    </tr>\n",
       "  </tbody>\n",
       "</table>\n",
       "</div>"
      ],
      "text/plain": [
       "        fare_amount  pickup_longitude  pickup_latitude  dropoff_longitude  \\\n",
       "count  1.957776e+06      1.957776e+06     1.957776e+06       1.957776e+06   \n",
       "mean   1.132490e+01     -7.397513e+01     4.075107e+01      -7.397424e+01   \n",
       "std    9.682213e+00      3.845336e-02     2.956141e-02       3.758561e-02   \n",
       "min    0.000000e+00     -7.429941e+01     4.050183e+01      -7.429973e+01   \n",
       "25%    6.000000e+00     -7.399229e+01     4.073654e+01      -7.399159e+01   \n",
       "50%    8.500000e+00     -7.398210e+01     4.075334e+01      -7.398062e+01   \n",
       "75%    1.250000e+01     -7.396834e+01     4.076752e+01      -7.396536e+01   \n",
       "max    5.000000e+02     -7.294086e+01     4.169685e+01      -7.290000e+01   \n",
       "\n",
       "       dropoff_latitude  passenger_count          hour           day  \\\n",
       "count      1.957776e+06     1.957776e+06  1.957776e+06  1.957776e+06   \n",
       "mean       4.075142e+01     1.684247e+00  1.350850e+01  1.570592e+01   \n",
       "std        3.272666e-02     1.306714e+00  6.513962e+00  8.682198e+00   \n",
       "min        4.050029e+01     0.000000e+00  0.000000e+00  1.000000e+00   \n",
       "25%        4.073553e+01     1.000000e+00  9.000000e+00  8.000000e+00   \n",
       "50%        4.075383e+01     1.000000e+00  1.400000e+01  1.600000e+01   \n",
       "75%        4.076839e+01     2.000000e+00  1.900000e+01  2.300000e+01   \n",
       "max        4.169126e+01     9.000000e+00  2.300000e+01  3.100000e+01   \n",
       "\n",
       "              month          year   day_of_week  \n",
       "count  1.957776e+06  1.957776e+06  1.957776e+06  \n",
       "mean   6.269440e+00  2.011737e+03  3.041281e+00  \n",
       "std    3.437977e+00  1.863406e+00  1.949913e+00  \n",
       "min    1.000000e+00  2.009000e+03  0.000000e+00  \n",
       "25%    3.000000e+00  2.010000e+03  1.000000e+00  \n",
       "50%    6.000000e+00  2.012000e+03  3.000000e+00  \n",
       "75%    9.000000e+00  2.013000e+03  5.000000e+00  \n",
       "max    1.200000e+01  2.015000e+03  6.000000e+00  "
      ]
     },
     "execution_count": 40,
     "metadata": {},
     "output_type": "execute_result"
    }
   ],
   "source": [
    "data.describe()"
   ]
  },
  {
   "cell_type": "code",
   "execution_count": 41,
   "metadata": {
    "scrolled": true
   },
   "outputs": [
    {
     "data": {
      "text/html": [
       "<div>\n",
       "<style scoped>\n",
       "    .dataframe tbody tr th:only-of-type {\n",
       "        vertical-align: middle;\n",
       "    }\n",
       "\n",
       "    .dataframe tbody tr th {\n",
       "        vertical-align: top;\n",
       "    }\n",
       "\n",
       "    .dataframe thead th {\n",
       "        text-align: right;\n",
       "    }\n",
       "</style>\n",
       "<table border=\"1\" class=\"dataframe\">\n",
       "  <thead>\n",
       "    <tr style=\"text-align: right;\">\n",
       "      <th></th>\n",
       "      <th>pickup_longitude</th>\n",
       "      <th>pickup_latitude</th>\n",
       "      <th>dropoff_longitude</th>\n",
       "      <th>dropoff_latitude</th>\n",
       "      <th>passenger_count</th>\n",
       "      <th>hour</th>\n",
       "      <th>day</th>\n",
       "      <th>month</th>\n",
       "      <th>year</th>\n",
       "      <th>day_of_week</th>\n",
       "    </tr>\n",
       "  </thead>\n",
       "  <tbody>\n",
       "    <tr>\n",
       "      <th>count</th>\n",
       "      <td>9914.000000</td>\n",
       "      <td>9914.000000</td>\n",
       "      <td>9914.000000</td>\n",
       "      <td>9914.000000</td>\n",
       "      <td>9914.000000</td>\n",
       "      <td>9914.000000</td>\n",
       "      <td>9914.000000</td>\n",
       "      <td>9914.000000</td>\n",
       "      <td>9914.000000</td>\n",
       "      <td>9914.000000</td>\n",
       "    </tr>\n",
       "    <tr>\n",
       "      <th>mean</th>\n",
       "      <td>-73.974722</td>\n",
       "      <td>40.751041</td>\n",
       "      <td>-73.973657</td>\n",
       "      <td>40.751743</td>\n",
       "      <td>1.671273</td>\n",
       "      <td>13.467420</td>\n",
       "      <td>16.194170</td>\n",
       "      <td>6.857979</td>\n",
       "      <td>2011.815816</td>\n",
       "      <td>2.852834</td>\n",
       "    </tr>\n",
       "    <tr>\n",
       "      <th>std</th>\n",
       "      <td>0.042774</td>\n",
       "      <td>0.033541</td>\n",
       "      <td>0.039072</td>\n",
       "      <td>0.035435</td>\n",
       "      <td>1.278747</td>\n",
       "      <td>6.868584</td>\n",
       "      <td>8.838482</td>\n",
       "      <td>3.353272</td>\n",
       "      <td>1.803347</td>\n",
       "      <td>1.994451</td>\n",
       "    </tr>\n",
       "    <tr>\n",
       "      <th>min</th>\n",
       "      <td>-74.252193</td>\n",
       "      <td>40.573143</td>\n",
       "      <td>-74.263242</td>\n",
       "      <td>40.568973</td>\n",
       "      <td>1.000000</td>\n",
       "      <td>0.000000</td>\n",
       "      <td>1.000000</td>\n",
       "      <td>1.000000</td>\n",
       "      <td>2009.000000</td>\n",
       "      <td>0.000000</td>\n",
       "    </tr>\n",
       "    <tr>\n",
       "      <th>25%</th>\n",
       "      <td>-73.992501</td>\n",
       "      <td>40.736125</td>\n",
       "      <td>-73.991247</td>\n",
       "      <td>40.735254</td>\n",
       "      <td>1.000000</td>\n",
       "      <td>8.000000</td>\n",
       "      <td>9.000000</td>\n",
       "      <td>4.000000</td>\n",
       "      <td>2010.000000</td>\n",
       "      <td>1.000000</td>\n",
       "    </tr>\n",
       "    <tr>\n",
       "      <th>50%</th>\n",
       "      <td>-73.982326</td>\n",
       "      <td>40.753051</td>\n",
       "      <td>-73.980015</td>\n",
       "      <td>40.754065</td>\n",
       "      <td>1.000000</td>\n",
       "      <td>15.000000</td>\n",
       "      <td>16.000000</td>\n",
       "      <td>7.000000</td>\n",
       "      <td>2012.000000</td>\n",
       "      <td>3.000000</td>\n",
       "    </tr>\n",
       "    <tr>\n",
       "      <th>75%</th>\n",
       "      <td>-73.968013</td>\n",
       "      <td>40.767113</td>\n",
       "      <td>-73.964059</td>\n",
       "      <td>40.768757</td>\n",
       "      <td>2.000000</td>\n",
       "      <td>19.000000</td>\n",
       "      <td>25.000000</td>\n",
       "      <td>10.000000</td>\n",
       "      <td>2014.000000</td>\n",
       "      <td>5.000000</td>\n",
       "    </tr>\n",
       "    <tr>\n",
       "      <th>max</th>\n",
       "      <td>-72.986532</td>\n",
       "      <td>41.709555</td>\n",
       "      <td>-72.990963</td>\n",
       "      <td>41.696683</td>\n",
       "      <td>6.000000</td>\n",
       "      <td>23.000000</td>\n",
       "      <td>31.000000</td>\n",
       "      <td>12.000000</td>\n",
       "      <td>2015.000000</td>\n",
       "      <td>6.000000</td>\n",
       "    </tr>\n",
       "  </tbody>\n",
       "</table>\n",
       "</div>"
      ],
      "text/plain": [
       "       pickup_longitude  pickup_latitude  dropoff_longitude  dropoff_latitude  \\\n",
       "count       9914.000000      9914.000000        9914.000000       9914.000000   \n",
       "mean         -73.974722        40.751041         -73.973657         40.751743   \n",
       "std            0.042774         0.033541           0.039072          0.035435   \n",
       "min          -74.252193        40.573143         -74.263242         40.568973   \n",
       "25%          -73.992501        40.736125         -73.991247         40.735254   \n",
       "50%          -73.982326        40.753051         -73.980015         40.754065   \n",
       "75%          -73.968013        40.767113         -73.964059         40.768757   \n",
       "max          -72.986532        41.709555         -72.990963         41.696683   \n",
       "\n",
       "       passenger_count         hour          day        month         year  \\\n",
       "count      9914.000000  9914.000000  9914.000000  9914.000000  9914.000000   \n",
       "mean          1.671273    13.467420    16.194170     6.857979  2011.815816   \n",
       "std           1.278747     6.868584     8.838482     3.353272     1.803347   \n",
       "min           1.000000     0.000000     1.000000     1.000000  2009.000000   \n",
       "25%           1.000000     8.000000     9.000000     4.000000  2010.000000   \n",
       "50%           1.000000    15.000000    16.000000     7.000000  2012.000000   \n",
       "75%           2.000000    19.000000    25.000000    10.000000  2014.000000   \n",
       "max           6.000000    23.000000    31.000000    12.000000  2015.000000   \n",
       "\n",
       "       day_of_week  \n",
       "count  9914.000000  \n",
       "mean      2.852834  \n",
       "std       1.994451  \n",
       "min       0.000000  \n",
       "25%       1.000000  \n",
       "50%       3.000000  \n",
       "75%       5.000000  \n",
       "max       6.000000  "
      ]
     },
     "execution_count": 41,
     "metadata": {},
     "output_type": "execute_result"
    }
   ],
   "source": [
    "test.describe()"
   ]
  },
  {
   "cell_type": "markdown",
   "metadata": {},
   "source": [
    "."
   ]
  },
  {
   "cell_type": "markdown",
   "metadata": {},
   "source": [
    "## Distance calculation\n",
    " ##### - We will calculate distance now as it is important in determining the fare of the ride.\n",
    " ##### - We try to use haversine distance which is a slight tweek to euclidean distance considering the cosine angle of the latitudes as the latitudes gap is more near equator and descreases as we approach noth pole.\n",
    " ##### - The reason for this consideration is that, it might be simple to use euclidean on a high level but the distance between each longitude is about 69 miles which is a lot. \n",
    " ##### - As distance is very import for us, we try to be as precise as possible. \n",
    " ##### - There is a specific method in ' geopy ' library for distance calculation but takes too much of time."
   ]
  },
  {
   "cell_type": "code",
   "execution_count": 42,
   "metadata": {},
   "outputs": [],
   "source": [
    "def distance(lat1, long1, lat2, long2):\n",
    "    x = [data, test]\n",
    "    for i in x:\n",
    "#R = 6371 #radius of earth in kilometers\n",
    "        R = 3959 #radius of earth in miles\n",
    "        phi1 = np.radians(i[lat1])\n",
    "        phi2 = np.radians(i[lat2])\n",
    "        delta_phi = np.radians(i[lat2]-i[lat1])\n",
    "        delta_lambda = np.radians(i[long2]-i[long1])\n",
    "#a = sin²((φB - φA)/2) + cos φA . cos φB . sin²((λB - λA)/2)\n",
    "        a = np.sin(delta_phi / 2.0) ** 2 + np.cos(phi1) * np.cos(phi2) *np.sin(delta_lambda / 2.0) ** 2\n",
    "#c = 2 * atan2( √a, √(1−a) )\n",
    "        c = 2 * np.arctan2(np.sqrt(a), np.sqrt(1-a))\n",
    "#d = R*c\n",
    "        d = (R * c) #in miles\n",
    "        i['distance'] = d\n",
    "    return d\n"
   ]
  },
  {
   "cell_type": "code",
   "execution_count": 43,
   "metadata": {},
   "outputs": [
    {
     "data": {
      "text/plain": [
       "0        1.443696\n",
       "1        1.507137\n",
       "2        0.384421\n",
       "3        1.218604\n",
       "4        3.347720\n",
       "5        2.002523\n",
       "6        0.577663\n",
       "7       13.385224\n",
       "8        2.407317\n",
       "9        0.683422\n",
       "10       1.440232\n",
       "11       2.994683\n",
       "12       0.449074\n",
       "13       1.041174\n",
       "14       1.556030\n",
       "15       3.178743\n",
       "16       0.185701\n",
       "17       1.572879\n",
       "18       0.484976\n",
       "19       0.265517\n",
       "20       1.026535\n",
       "21       1.223686\n",
       "22       0.811214\n",
       "23       1.181482\n",
       "24       3.591573\n",
       "25       0.697027\n",
       "26       8.890220\n",
       "27       5.858568\n",
       "28       0.711221\n",
       "29       2.918369\n",
       "          ...    \n",
       "9884     9.395273\n",
       "9885     3.110925\n",
       "9886     4.583985\n",
       "9887     1.044416\n",
       "9888     0.000000\n",
       "9889     1.477539\n",
       "9890     1.829791\n",
       "9891     3.699151\n",
       "9892     1.833382\n",
       "9893     2.942607\n",
       "9894     1.927215\n",
       "9895     5.592887\n",
       "9896     1.490240\n",
       "9897     3.157794\n",
       "9898     0.345060\n",
       "9899     3.486422\n",
       "9900     1.174842\n",
       "9901     0.950830\n",
       "9902     2.418231\n",
       "9903     1.428817\n",
       "9904     9.377854\n",
       "9905     5.974105\n",
       "9906     0.229615\n",
       "9907     6.166867\n",
       "9908     1.016876\n",
       "9909     1.320417\n",
       "9910     2.032611\n",
       "9911    11.921084\n",
       "9912     5.184722\n",
       "9913     0.733776\n",
       "Length: 9914, dtype: float64"
      ]
     },
     "execution_count": 43,
     "metadata": {},
     "output_type": "execute_result"
    }
   ],
   "source": [
    "distance('pickup_latitude', 'pickup_longitude', 'dropoff_latitude', 'dropoff_longitude')"
   ]
  },
  {
   "cell_type": "code",
   "execution_count": 44,
   "metadata": {},
   "outputs": [
    {
     "data": {
      "text/html": [
       "<div>\n",
       "<style scoped>\n",
       "    .dataframe tbody tr th:only-of-type {\n",
       "        vertical-align: middle;\n",
       "    }\n",
       "\n",
       "    .dataframe tbody tr th {\n",
       "        vertical-align: top;\n",
       "    }\n",
       "\n",
       "    .dataframe thead th {\n",
       "        text-align: right;\n",
       "    }\n",
       "</style>\n",
       "<table border=\"1\" class=\"dataframe\">\n",
       "  <thead>\n",
       "    <tr style=\"text-align: right;\">\n",
       "      <th></th>\n",
       "      <th>fare_amount</th>\n",
       "      <th>pickup_longitude</th>\n",
       "      <th>pickup_latitude</th>\n",
       "      <th>dropoff_longitude</th>\n",
       "      <th>dropoff_latitude</th>\n",
       "      <th>passenger_count</th>\n",
       "      <th>hour</th>\n",
       "      <th>day</th>\n",
       "      <th>month</th>\n",
       "      <th>year</th>\n",
       "      <th>day_of_week</th>\n",
       "      <th>distance</th>\n",
       "    </tr>\n",
       "  </thead>\n",
       "  <tbody>\n",
       "    <tr>\n",
       "      <th>count</th>\n",
       "      <td>1.957776e+06</td>\n",
       "      <td>1.957776e+06</td>\n",
       "      <td>1.957776e+06</td>\n",
       "      <td>1.957776e+06</td>\n",
       "      <td>1.957776e+06</td>\n",
       "      <td>1.957776e+06</td>\n",
       "      <td>1.957776e+06</td>\n",
       "      <td>1.957776e+06</td>\n",
       "      <td>1.957776e+06</td>\n",
       "      <td>1.957776e+06</td>\n",
       "      <td>1.957776e+06</td>\n",
       "      <td>1.957776e+06</td>\n",
       "    </tr>\n",
       "    <tr>\n",
       "      <th>mean</th>\n",
       "      <td>1.132490e+01</td>\n",
       "      <td>-7.397513e+01</td>\n",
       "      <td>4.075107e+01</td>\n",
       "      <td>-7.397424e+01</td>\n",
       "      <td>4.075142e+01</td>\n",
       "      <td>1.684247e+00</td>\n",
       "      <td>1.350850e+01</td>\n",
       "      <td>1.570592e+01</td>\n",
       "      <td>6.269440e+00</td>\n",
       "      <td>2.011737e+03</td>\n",
       "      <td>3.041281e+00</td>\n",
       "      <td>2.067937e+00</td>\n",
       "    </tr>\n",
       "    <tr>\n",
       "      <th>std</th>\n",
       "      <td>9.682213e+00</td>\n",
       "      <td>3.845336e-02</td>\n",
       "      <td>2.956141e-02</td>\n",
       "      <td>3.758561e-02</td>\n",
       "      <td>3.272666e-02</td>\n",
       "      <td>1.306714e+00</td>\n",
       "      <td>6.513962e+00</td>\n",
       "      <td>8.682198e+00</td>\n",
       "      <td>3.437977e+00</td>\n",
       "      <td>1.863406e+00</td>\n",
       "      <td>1.949913e+00</td>\n",
       "      <td>2.344364e+00</td>\n",
       "    </tr>\n",
       "    <tr>\n",
       "      <th>min</th>\n",
       "      <td>0.000000e+00</td>\n",
       "      <td>-7.429941e+01</td>\n",
       "      <td>4.050183e+01</td>\n",
       "      <td>-7.429973e+01</td>\n",
       "      <td>4.050029e+01</td>\n",
       "      <td>0.000000e+00</td>\n",
       "      <td>0.000000e+00</td>\n",
       "      <td>1.000000e+00</td>\n",
       "      <td>1.000000e+00</td>\n",
       "      <td>2.009000e+03</td>\n",
       "      <td>0.000000e+00</td>\n",
       "      <td>0.000000e+00</td>\n",
       "    </tr>\n",
       "    <tr>\n",
       "      <th>25%</th>\n",
       "      <td>6.000000e+00</td>\n",
       "      <td>-7.399229e+01</td>\n",
       "      <td>4.073654e+01</td>\n",
       "      <td>-7.399159e+01</td>\n",
       "      <td>4.073553e+01</td>\n",
       "      <td>1.000000e+00</td>\n",
       "      <td>9.000000e+00</td>\n",
       "      <td>8.000000e+00</td>\n",
       "      <td>3.000000e+00</td>\n",
       "      <td>2.010000e+03</td>\n",
       "      <td>1.000000e+00</td>\n",
       "      <td>7.789226e-01</td>\n",
       "    </tr>\n",
       "    <tr>\n",
       "      <th>50%</th>\n",
       "      <td>8.500000e+00</td>\n",
       "      <td>-7.398210e+01</td>\n",
       "      <td>4.075334e+01</td>\n",
       "      <td>-7.398062e+01</td>\n",
       "      <td>4.075383e+01</td>\n",
       "      <td>1.000000e+00</td>\n",
       "      <td>1.400000e+01</td>\n",
       "      <td>1.600000e+01</td>\n",
       "      <td>6.000000e+00</td>\n",
       "      <td>2.012000e+03</td>\n",
       "      <td>3.000000e+00</td>\n",
       "      <td>1.337215e+00</td>\n",
       "    </tr>\n",
       "    <tr>\n",
       "      <th>75%</th>\n",
       "      <td>1.250000e+01</td>\n",
       "      <td>-7.396834e+01</td>\n",
       "      <td>4.076752e+01</td>\n",
       "      <td>-7.396536e+01</td>\n",
       "      <td>4.076839e+01</td>\n",
       "      <td>2.000000e+00</td>\n",
       "      <td>1.900000e+01</td>\n",
       "      <td>2.300000e+01</td>\n",
       "      <td>9.000000e+00</td>\n",
       "      <td>2.013000e+03</td>\n",
       "      <td>5.000000e+00</td>\n",
       "      <td>2.431992e+00</td>\n",
       "    </tr>\n",
       "    <tr>\n",
       "      <th>max</th>\n",
       "      <td>5.000000e+02</td>\n",
       "      <td>-7.294086e+01</td>\n",
       "      <td>4.169685e+01</td>\n",
       "      <td>-7.290000e+01</td>\n",
       "      <td>4.169126e+01</td>\n",
       "      <td>9.000000e+00</td>\n",
       "      <td>2.300000e+01</td>\n",
       "      <td>3.100000e+01</td>\n",
       "      <td>1.200000e+01</td>\n",
       "      <td>2.015000e+03</td>\n",
       "      <td>6.000000e+00</td>\n",
       "      <td>7.133064e+01</td>\n",
       "    </tr>\n",
       "  </tbody>\n",
       "</table>\n",
       "</div>"
      ],
      "text/plain": [
       "        fare_amount  pickup_longitude  pickup_latitude  dropoff_longitude  \\\n",
       "count  1.957776e+06      1.957776e+06     1.957776e+06       1.957776e+06   \n",
       "mean   1.132490e+01     -7.397513e+01     4.075107e+01      -7.397424e+01   \n",
       "std    9.682213e+00      3.845336e-02     2.956141e-02       3.758561e-02   \n",
       "min    0.000000e+00     -7.429941e+01     4.050183e+01      -7.429973e+01   \n",
       "25%    6.000000e+00     -7.399229e+01     4.073654e+01      -7.399159e+01   \n",
       "50%    8.500000e+00     -7.398210e+01     4.075334e+01      -7.398062e+01   \n",
       "75%    1.250000e+01     -7.396834e+01     4.076752e+01      -7.396536e+01   \n",
       "max    5.000000e+02     -7.294086e+01     4.169685e+01      -7.290000e+01   \n",
       "\n",
       "       dropoff_latitude  passenger_count          hour           day  \\\n",
       "count      1.957776e+06     1.957776e+06  1.957776e+06  1.957776e+06   \n",
       "mean       4.075142e+01     1.684247e+00  1.350850e+01  1.570592e+01   \n",
       "std        3.272666e-02     1.306714e+00  6.513962e+00  8.682198e+00   \n",
       "min        4.050029e+01     0.000000e+00  0.000000e+00  1.000000e+00   \n",
       "25%        4.073553e+01     1.000000e+00  9.000000e+00  8.000000e+00   \n",
       "50%        4.075383e+01     1.000000e+00  1.400000e+01  1.600000e+01   \n",
       "75%        4.076839e+01     2.000000e+00  1.900000e+01  2.300000e+01   \n",
       "max        4.169126e+01     9.000000e+00  2.300000e+01  3.100000e+01   \n",
       "\n",
       "              month          year   day_of_week      distance  \n",
       "count  1.957776e+06  1.957776e+06  1.957776e+06  1.957776e+06  \n",
       "mean   6.269440e+00  2.011737e+03  3.041281e+00  2.067937e+00  \n",
       "std    3.437977e+00  1.863406e+00  1.949913e+00  2.344364e+00  \n",
       "min    1.000000e+00  2.009000e+03  0.000000e+00  0.000000e+00  \n",
       "25%    3.000000e+00  2.010000e+03  1.000000e+00  7.789226e-01  \n",
       "50%    6.000000e+00  2.012000e+03  3.000000e+00  1.337215e+00  \n",
       "75%    9.000000e+00  2.013000e+03  5.000000e+00  2.431992e+00  \n",
       "max    1.200000e+01  2.015000e+03  6.000000e+00  7.133064e+01  "
      ]
     },
     "execution_count": 44,
     "metadata": {},
     "output_type": "execute_result"
    }
   ],
   "source": [
    "data.describe()"
   ]
  },
  {
   "cell_type": "code",
   "execution_count": 45,
   "metadata": {
    "scrolled": true
   },
   "outputs": [
    {
     "data": {
      "text/html": [
       "<div>\n",
       "<style scoped>\n",
       "    .dataframe tbody tr th:only-of-type {\n",
       "        vertical-align: middle;\n",
       "    }\n",
       "\n",
       "    .dataframe tbody tr th {\n",
       "        vertical-align: top;\n",
       "    }\n",
       "\n",
       "    .dataframe thead th {\n",
       "        text-align: right;\n",
       "    }\n",
       "</style>\n",
       "<table border=\"1\" class=\"dataframe\">\n",
       "  <thead>\n",
       "    <tr style=\"text-align: right;\">\n",
       "      <th></th>\n",
       "      <th>pickup_longitude</th>\n",
       "      <th>pickup_latitude</th>\n",
       "      <th>dropoff_longitude</th>\n",
       "      <th>dropoff_latitude</th>\n",
       "      <th>passenger_count</th>\n",
       "      <th>hour</th>\n",
       "      <th>day</th>\n",
       "      <th>month</th>\n",
       "      <th>year</th>\n",
       "      <th>day_of_week</th>\n",
       "      <th>distance</th>\n",
       "    </tr>\n",
       "  </thead>\n",
       "  <tbody>\n",
       "    <tr>\n",
       "      <th>count</th>\n",
       "      <td>9914.000000</td>\n",
       "      <td>9914.000000</td>\n",
       "      <td>9914.000000</td>\n",
       "      <td>9914.000000</td>\n",
       "      <td>9914.000000</td>\n",
       "      <td>9914.000000</td>\n",
       "      <td>9914.000000</td>\n",
       "      <td>9914.000000</td>\n",
       "      <td>9914.000000</td>\n",
       "      <td>9914.000000</td>\n",
       "      <td>9914.000000</td>\n",
       "    </tr>\n",
       "    <tr>\n",
       "      <th>mean</th>\n",
       "      <td>-73.974722</td>\n",
       "      <td>40.751041</td>\n",
       "      <td>-73.973657</td>\n",
       "      <td>40.751743</td>\n",
       "      <td>1.671273</td>\n",
       "      <td>13.467420</td>\n",
       "      <td>16.194170</td>\n",
       "      <td>6.857979</td>\n",
       "      <td>2011.815816</td>\n",
       "      <td>2.852834</td>\n",
       "      <td>2.134772</td>\n",
       "    </tr>\n",
       "    <tr>\n",
       "      <th>std</th>\n",
       "      <td>0.042774</td>\n",
       "      <td>0.033541</td>\n",
       "      <td>0.039072</td>\n",
       "      <td>0.035435</td>\n",
       "      <td>1.278747</td>\n",
       "      <td>6.868584</td>\n",
       "      <td>8.838482</td>\n",
       "      <td>3.353272</td>\n",
       "      <td>1.803347</td>\n",
       "      <td>1.994451</td>\n",
       "      <td>2.468471</td>\n",
       "    </tr>\n",
       "    <tr>\n",
       "      <th>min</th>\n",
       "      <td>-74.252193</td>\n",
       "      <td>40.573143</td>\n",
       "      <td>-74.263242</td>\n",
       "      <td>40.568973</td>\n",
       "      <td>1.000000</td>\n",
       "      <td>0.000000</td>\n",
       "      <td>1.000000</td>\n",
       "      <td>1.000000</td>\n",
       "      <td>2009.000000</td>\n",
       "      <td>0.000000</td>\n",
       "      <td>0.000000</td>\n",
       "    </tr>\n",
       "    <tr>\n",
       "      <th>25%</th>\n",
       "      <td>-73.992501</td>\n",
       "      <td>40.736125</td>\n",
       "      <td>-73.991247</td>\n",
       "      <td>40.735254</td>\n",
       "      <td>1.000000</td>\n",
       "      <td>8.000000</td>\n",
       "      <td>9.000000</td>\n",
       "      <td>4.000000</td>\n",
       "      <td>2010.000000</td>\n",
       "      <td>1.000000</td>\n",
       "      <td>0.806762</td>\n",
       "    </tr>\n",
       "    <tr>\n",
       "      <th>50%</th>\n",
       "      <td>-73.982326</td>\n",
       "      <td>40.753051</td>\n",
       "      <td>-73.980015</td>\n",
       "      <td>40.754065</td>\n",
       "      <td>1.000000</td>\n",
       "      <td>15.000000</td>\n",
       "      <td>16.000000</td>\n",
       "      <td>7.000000</td>\n",
       "      <td>2012.000000</td>\n",
       "      <td>3.000000</td>\n",
       "      <td>1.377921</td>\n",
       "    </tr>\n",
       "    <tr>\n",
       "      <th>75%</th>\n",
       "      <td>-73.968013</td>\n",
       "      <td>40.767113</td>\n",
       "      <td>-73.964059</td>\n",
       "      <td>40.768757</td>\n",
       "      <td>2.000000</td>\n",
       "      <td>19.000000</td>\n",
       "      <td>25.000000</td>\n",
       "      <td>10.000000</td>\n",
       "      <td>2014.000000</td>\n",
       "      <td>5.000000</td>\n",
       "      <td>2.513789</td>\n",
       "    </tr>\n",
       "    <tr>\n",
       "      <th>max</th>\n",
       "      <td>-72.986532</td>\n",
       "      <td>41.709555</td>\n",
       "      <td>-72.990963</td>\n",
       "      <td>41.696683</td>\n",
       "      <td>6.000000</td>\n",
       "      <td>23.000000</td>\n",
       "      <td>31.000000</td>\n",
       "      <td>12.000000</td>\n",
       "      <td>2015.000000</td>\n",
       "      <td>6.000000</td>\n",
       "      <td>62.138491</td>\n",
       "    </tr>\n",
       "  </tbody>\n",
       "</table>\n",
       "</div>"
      ],
      "text/plain": [
       "       pickup_longitude  pickup_latitude  dropoff_longitude  dropoff_latitude  \\\n",
       "count       9914.000000      9914.000000        9914.000000       9914.000000   \n",
       "mean         -73.974722        40.751041         -73.973657         40.751743   \n",
       "std            0.042774         0.033541           0.039072          0.035435   \n",
       "min          -74.252193        40.573143         -74.263242         40.568973   \n",
       "25%          -73.992501        40.736125         -73.991247         40.735254   \n",
       "50%          -73.982326        40.753051         -73.980015         40.754065   \n",
       "75%          -73.968013        40.767113         -73.964059         40.768757   \n",
       "max          -72.986532        41.709555         -72.990963         41.696683   \n",
       "\n",
       "       passenger_count         hour          day        month         year  \\\n",
       "count      9914.000000  9914.000000  9914.000000  9914.000000  9914.000000   \n",
       "mean          1.671273    13.467420    16.194170     6.857979  2011.815816   \n",
       "std           1.278747     6.868584     8.838482     3.353272     1.803347   \n",
       "min           1.000000     0.000000     1.000000     1.000000  2009.000000   \n",
       "25%           1.000000     8.000000     9.000000     4.000000  2010.000000   \n",
       "50%           1.000000    15.000000    16.000000     7.000000  2012.000000   \n",
       "75%           2.000000    19.000000    25.000000    10.000000  2014.000000   \n",
       "max           6.000000    23.000000    31.000000    12.000000  2015.000000   \n",
       "\n",
       "       day_of_week     distance  \n",
       "count  9914.000000  9914.000000  \n",
       "mean      2.852834     2.134772  \n",
       "std       1.994451     2.468471  \n",
       "min       0.000000     0.000000  \n",
       "25%       1.000000     0.806762  \n",
       "50%       3.000000     1.377921  \n",
       "75%       5.000000     2.513789  \n",
       "max       6.000000    62.138491  "
      ]
     },
     "execution_count": 45,
     "metadata": {},
     "output_type": "execute_result"
    }
   ],
   "source": [
    "test.describe()"
   ]
  },
  {
   "cell_type": "markdown",
   "metadata": {},
   "source": [
    "."
   ]
  },
  {
   "cell_type": "markdown",
   "metadata": {},
   "source": [
    "."
   ]
  },
  {
   "cell_type": "markdown",
   "metadata": {},
   "source": [
    "### Pearson Correlation"
   ]
  },
  {
   "cell_type": "markdown",
   "metadata": {},
   "source": [
    "Distance of the ride and the taxi fare \n",
    "\n"
   ]
  },
  {
   "cell_type": "markdown",
   "metadata": {},
   "source": [
    "Time of day and distance traveled "
   ]
  },
  {
   "cell_type": "markdown",
   "metadata": {},
   "source": [
    "Time of day and the taxi fare"
   ]
  },
  {
   "cell_type": "code",
   "execution_count": 46,
   "metadata": {},
   "outputs": [],
   "source": [
    "import scipy.stats as stats"
   ]
  },
  {
   "cell_type": "markdown",
   "metadata": {},
   "source": [
    "."
   ]
  },
  {
   "cell_type": "markdown",
   "metadata": {},
   "source": [
    " We use the ' stats.pearsonr ' to calculate the pearson coefficient.\n",
    " "
   ]
  },
  {
   "cell_type": "markdown",
   "metadata": {},
   "source": [
    "pearsonr() returns a two-tuple consisting of the correlation coefficient and the corresponding p-value. \n",
    " "
   ]
  },
  {
   "cell_type": "markdown",
   "metadata": {},
   "source": [
    "The correlation coefficient can range from -1 to +1.\n"
   ]
  },
  {
   "cell_type": "markdown",
   "metadata": {},
   "source": [
    " The null hypothesis is that the two variables are uncorrelated. \n"
   ]
  },
  {
   "cell_type": "markdown",
   "metadata": {},
   "source": [
    "The p-value is a number between zero and one that represents the probability that your data would have arisen if the null hypothesis were true."
   ]
  },
  {
   "cell_type": "code",
   "execution_count": 47,
   "metadata": {},
   "outputs": [
    {
     "data": {
      "text/plain": [
       "(0.8173586911998936, 0.0)"
      ]
     },
     "execution_count": 47,
     "metadata": {},
     "output_type": "execute_result"
    }
   ],
   "source": [
    "stats.pearsonr(data['distance'], data['fare_amount'])"
   ]
  },
  {
   "cell_type": "code",
   "execution_count": 48,
   "metadata": {
    "scrolled": true
   },
   "outputs": [
    {
     "data": {
      "text/plain": [
       "Text(0, 0.5, 'Fare')"
      ]
     },
     "execution_count": 48,
     "metadata": {},
     "output_type": "execute_result"
    },
    {
     "data": {
      "image/png": "[encoded data removed]",
      "text/plain": [
       "<Figure size 1152x360 with 1 Axes>"
      ]
     },
     "metadata": {
      "needs_background": "light"
     },
     "output_type": "display_data"
    }
   ],
   "source": [
    "plt.figure(figsize=(16,5))\n",
    "plt.scatter(x=data['distance'], y=data['fare_amount'], s=1.5)\n",
    "plt.xlabel('Distance')\n",
    "plt.ylabel('Fare')"
   ]
  },
  {
   "cell_type": "markdown",
   "metadata": {},
   "source": [
    "### From the plot it is clearly evident that : Linear Relation \n",
    "    - There are trips with zero distance but with a non-zero fare. How can a trip end at the same location of  pickup?     \n",
    "    \n",
    "    - May be the dropoff location is updated as pickup location mistakely or something else.\n",
    "    \n",
    "    - There are quite a few trips with distances of ~60 miles but the fare is pretty less. \n",
    "    \n",
    "    - There might be different reasons like 'no traffic congession', 'no tolls', 'rider applied discount coupon', 'outstation trips which cost less for more miles we travel as fare/mile ratio will be decreased as norms cab company\n",
    "    \n",
    "    -Overall, we generically say that there is a linear relationship between distance and fare amount since pearson returned 0.82 which is close to 1 (directly related) and the plot evidently checks out a linear relationship.\n",
    "    \n",
    "    - Although there might be a vague discussion of relationship of the right side fewer dots but generically we can call it a linear one. \n"
   ]
  },
  {
   "cell_type": "markdown",
   "metadata": {},
   "source": [
    "The scatterplot in the distance range of [ 0 , 20 ] is not clear, let us try to limit the distance and fare values so as to get a deeper look."
   ]
  },
  {
   "cell_type": "code",
   "execution_count": 49,
   "metadata": {
    "scrolled": true
   },
   "outputs": [
    {
     "data": {
      "text/plain": [
       "(-0.029073361255766345, 0.0)"
      ]
     },
     "execution_count": 49,
     "metadata": {},
     "output_type": "execute_result"
    }
   ],
   "source": [
    "stats.pearsonr(data['hour'], data['distance'])"
   ]
  },
  {
   "cell_type": "code",
   "execution_count": 50,
   "metadata": {},
   "outputs": [
    {
     "data": {
      "text/plain": [
       "(-0.018158404085667653, 1.984541853955591e-142)"
      ]
     },
     "execution_count": 50,
     "metadata": {},
     "output_type": "execute_result"
    }
   ],
   "source": [
    " stats.pearsonr(data['hour'], data['fare_amount'])"
   ]
  },
  {
   "cell_type": "code",
   "execution_count": 51,
   "metadata": {},
   "outputs": [
    {
     "data": {
      "text/plain": [
       "Text(0, 0.5, 'Distance')"
      ]
     },
     "execution_count": 51,
     "metadata": {},
     "output_type": "execute_result"
    },
    {
     "data": {
      "image/png": "[encoded data removed]",
      "text/plain": [
       "<Figure size 1152x360 with 1 Axes>"
      ]
     },
     "metadata": {
      "needs_background": "light"
     },
     "output_type": "display_data"
    }
   ],
   "source": [
    "plt.figure(figsize=(16,5))\n",
    "plt.scatter(x=data['hour'], y=data['distance'], s=1.5)\n",
    "plt.xlabel('Time of Day')\n",
    "plt.ylabel('Distance')"
   ]
  },
  {
   "cell_type": "markdown",
   "metadata": {},
   "source": [
    "#### From the plot it is evident that: Non Linear\n",
    "##### The relationship is vague and cannot be accurately determined as we cannot clearly depict it is a linear relationship rather but it is mostly non-linear.\n",
    "\n",
    "##### We can observe that people travelled less distance between 3 AM to 5 AM. This is obvious because most people will sleep during this time.\n",
    "\n",
    "##### People travelled more distances during 9 AM to 10 AM in the morning and 3PM to 5PM. This can be justified like in the morning people tend to get late for office and might hail a cab from long distances to compensate the time. In the evening people might leave early to their place as to avoid traffic or they might feel tired to travel.\n",
    "\n",
    "##### If we limit the distance to < 40 miles we can say it will be a non- linear relationship as the graph does not fit in the y=mx + c equation.\n"
   ]
  },
  {
   "cell_type": "code",
   "execution_count": 52,
   "metadata": {
    "scrolled": true
   },
   "outputs": [
    {
     "data": {
      "text/plain": [
       "Text(0, 0.5, 'Fare')"
      ]
     },
     "execution_count": 52,
     "metadata": {},
     "output_type": "execute_result"
    },
    {
     "data": {
      "image/png": "[encoded data removed]",
      "text/plain": [
       "<Figure size 1152x360 with 1 Axes>"
      ]
     },
     "metadata": {
      "needs_background": "light"
     },
     "output_type": "display_data"
    }
   ],
   "source": [
    "plt.figure(figsize=(16,5))\n",
    "plt.scatter(x=data['hour'], y=data['fare_amount'], s=1.5)\n",
    "plt.xlabel('Hour')\n",
    "plt.ylabel('Fare')"
   ]
  },
  {
   "cell_type": "markdown",
   "metadata": {},
   "source": [
    "### From the plot it is evident that: Non Linear\n",
    "The relationship is vague and cannot be accurately determined as we cannot clearly depict it is a linear relationship rather but it is mostly non-linear.\n",
    "##### We can observe that the fares at 12AM, 5AM to 10AM and 2PM to 5PM, 8PM are high.\n",
    "This can be the reason of surge in the area, like at 12AM it might be a friday or saturday night people might go clubbing and wanted to return home but the cabs were at a surge due to unavailability and they book it anyway as they might be wasted!!!\n",
    "##### 5AM to 10AM, 2PM to 5PM and 8PM, the new york taxis will be on a definte surge as these are the time range when people go and leave their offices."
   ]
  },
  {
   "cell_type": "markdown",
   "metadata": {},
   "source": [
    "#### Highest Correlation : ' Distance ' and ' Fare Amount '\n",
    "The correlation between distance and fare_amount is the highest about 0.82 (pearson coefficient). This is clearly obvious as the fare amount is and will always be dependent on distance travelled. Basic formula for fare calculation is,\n",
    "####             fare amount = ( base fare ) + ( distance ) * (generalized rate / 1mile)\n",
    "The fare also depends on other metrics like tolls, traffic waiting time and few other things.\n",
    "Let us try to analyze the the feature dependencies by exploring the metrics and plotting them to find a trend. Let us try to plot the 'fare amount' for a 'day' for all the 'years' in the training data."
   ]
  },
  {
   "cell_type": "code",
   "execution_count": 53,
   "metadata": {},
   "outputs": [
    {
     "data": {
      "image/png": "[encoded data removed]",
      "text/plain": [
       "<Figure size 1008x432 with 1 Axes>"
      ]
     },
     "metadata": {
      "needs_background": "light"
     },
     "output_type": "display_data"
    }
   ],
   "source": [
    "data.pivot_table('fare_amount', index='hour', columns='year').plot(figsize=(14,6))\n",
    "plt.ylabel('Fare');"
   ]
  },
  {
   "cell_type": "markdown",
   "metadata": {},
   "source": [
    "#### From the plot it is evident that:\n",
    "There is a huge increare in the taxi fare rates from the year 2009 to 2015.\n",
    "The peak time ( in this plot ~5AM and 2PM to 5PM) the plotting lines over the years overlap due to surge pricing but the for the remaining time period it is pretty consistent.\n",
    "#### This will cause a problem in predicting the fare amounts for the test data as in the fare amount will be inconsistant over the distance and the time of day the cab is taken.\n",
    "We either need to model using each year seperately or group the years which have a less gradient or add a little inflation to this year fares and then use them in the model for more accurate predictions."
   ]
  },
  {
   "cell_type": "code",
   "execution_count": 54,
   "metadata": {},
   "outputs": [
    {
     "data": {
      "text/plain": [
       "<matplotlib.axes._subplots.AxesSubplot at 0x1a3d22be80>"
      ]
     },
     "execution_count": 54,
     "metadata": {},
     "output_type": "execute_result"
    },
    {
     "data": {
      "image/png": "[encoded data removed]",
      "text/plain": [
       "<Figure size 1440x576 with 1 Axes>"
      ]
     },
     "metadata": {
      "needs_background": "light"
     },
     "output_type": "display_data"
    }
   ],
   "source": [
    "skew_data = data.skew()\n",
    "plt.figure(figsize=(20,8))\n",
    "sea.distplot(skew_data, bins=10, kde=True, color=\"orange\")\n"
   ]
  },
  {
   "cell_type": "markdown",
   "metadata": {},
   "source": [
    "From the above graph we can observe that there is slight bit of positive skew in our training data i.e the mean is greater than the median and our outliers lie to the right."
   ]
  },
  {
   "cell_type": "code",
   "execution_count": 55,
   "metadata": {
    "scrolled": true
   },
   "outputs": [
    {
     "data": {
      "text/plain": [
       "Text(0, 0.5, 'Fare')"
      ]
     },
     "execution_count": 55,
     "metadata": {},
     "output_type": "execute_result"
    },
    {
     "data": {
      "image/png": "[encoded data removed]",
      "text/plain": [
       "<Figure size 1152x360 with 1 Axes>"
      ]
     },
     "metadata": {
      "needs_background": "light"
     },
     "output_type": "display_data"
    }
   ],
   "source": [
    "plt.figure(figsize=(16,5))\n",
    "plt.scatter(x=data['passenger_count'], y=data['fare_amount'], s=1.5)\n",
    "plt.xlabel('Passengers')\n",
    "plt.ylabel('Fare')"
   ]
  },
  {
   "cell_type": "markdown",
   "metadata": {},
   "source": [
    "."
   ]
  },
  {
   "cell_type": "markdown",
   "metadata": {},
   "source": [
    "."
   ]
  },
  {
   "cell_type": "markdown",
   "metadata": {},
   "source": [
    "."
   ]
  },
  {
   "cell_type": "markdown",
   "metadata": {},
   "source": [
    "This is the graph plotted between the fare_amount and the passenger_count to get a gist of the relation. We cannot identify any specific trend in the plotting but we can see that single passengers are the ones who take cab the most and the highest fare is also for the taxi with single passenger."
   ]
  },
  {
   "cell_type": "code",
   "execution_count": 56,
   "metadata": {},
   "outputs": [
    {
     "data": {
      "text/plain": [
       "Text(0, 0.5, 'frequency count')"
      ]
     },
     "execution_count": 56,
     "metadata": {},
     "output_type": "execute_result"
    },
    {
     "data": {
      "image/png": "[encoded data removed]",
      "text/plain": [
       "<Figure size 1152x360 with 1 Axes>"
      ]
     },
     "metadata": {
      "needs_background": "light"
     },
     "output_type": "display_data"
    }
   ],
   "source": [
    "plt.figure(figsize=(16,5))\n",
    "plt.hist(data['hour'], bins=100)\n",
    "plt.xlabel('Time of Day')\n",
    "plt.ylabel('frequency count')"
   ]
  },
  {
   "cell_type": "markdown",
   "metadata": {},
   "source": [
    "##### This is the plot for the time of day frequency count in our training dataset.\n",
    "In the previous plot between time of day and fare amount we observed the fare is high during peak period and assumed it as it might be surge pricing or unavailability.\n",
    "##### Now the above graph justifies our assumption of surge pricing, as we can see that the frequency of taxis taken from 8AM to 11AM and gradually increases from 6PM and peaks at 8PM.\n",
    "The taxis requested are more and thus the surge as the taxis will be less further on."
   ]
  },
  {
   "cell_type": "markdown",
   "metadata": {},
   "source": [
    "."
   ]
  },
  {
   "cell_type": "markdown",
   "metadata": {},
   "source": [
    "."
   ]
  },
  {
   "cell_type": "markdown",
   "metadata": {},
   "source": [
    "."
   ]
  },
  {
   "cell_type": "markdown",
   "metadata": {},
   "source": [
    "##### Let us create a plot for day_of_week metric:\n",
    "This is from the assumption that most of the taxi companies have different fares for weekdays and on the weekends."
   ]
  },
  {
   "cell_type": "code",
   "execution_count": 57,
   "metadata": {
    "scrolled": true
   },
   "outputs": [
    {
     "data": {
      "text/plain": [
       "Text(0, 0.5, 'Frequency Count')"
      ]
     },
     "execution_count": 57,
     "metadata": {},
     "output_type": "execute_result"
    },
    {
     "data": {
      "image/png": "[encoded data removed]",
      "text/plain": [
       "<Figure size 1152x360 with 1 Axes>"
      ]
     },
     "metadata": {
      "needs_background": "light"
     },
     "output_type": "display_data"
    }
   ],
   "source": [
    "plt.figure(figsize=(16,5))\n",
    "plt.hist(data['day_of_week'], bins=100)\n",
    "plt.xlabel('Day of Week')\n",
    "plt.ylabel('Frequency Count')"
   ]
  },
  {
   "cell_type": "markdown",
   "metadata": {},
   "source": [
    "."
   ]
  },
  {
   "cell_type": "markdown",
   "metadata": {},
   "source": [
    " 0 - Sunday ; 1 - Monday ; 2 - Tuesday ; 3 - Wednesday ; 4 - Thursday; 5 - Friday ; 6 - Saturday\n",
    "\n"
   ]
  },
  {
   "cell_type": "markdown",
   "metadata": {},
   "source": [
    " From the above graph we can see that there is not clear cut assumption we can presume, rather that Thursday we have more number of taxi rides and Sunday, Saturday there are less, may be people just taking rest for the weekend due to hectic work or not travelling."
   ]
  },
  {
   "cell_type": "markdown",
   "metadata": {},
   "source": [
    "Now let us plot the day_of_week with the fare_amount, let's see we can find something.\n"
   ]
  },
  {
   "cell_type": "code",
   "execution_count": null,
   "metadata": {},
   "outputs": [],
   "source": []
  },
  {
   "cell_type": "code",
   "execution_count": 58,
   "metadata": {
    "scrolled": true
   },
   "outputs": [
    {
     "data": {
      "text/plain": [
       "Text(0, 0.5, 'Fare Amount')"
      ]
     },
     "execution_count": 58,
     "metadata": {},
     "output_type": "execute_result"
    },
    {
     "data": {
      "image/png": "[encoded data removed]",
      "text/plain": [
       "<Figure size 1152x360 with 1 Axes>"
      ]
     },
     "metadata": {
      "needs_background": "light"
     },
     "output_type": "display_data"
    }
   ],
   "source": [
    "plt.figure(figsize=(16,5))\n",
    "plt.scatter(x=data['day_of_week'], y=data['fare_amount'], s=1.5)\n",
    "plt.xlabel('Day of Week')\n",
    "plt.ylabel('Fare Amount')"
   ]
  },
  {
   "cell_type": "markdown",
   "metadata": {},
   "source": [
    "The fares on Sunday and Wednesday seem to be highest and are the least on Monday."
   ]
  },
  {
   "cell_type": "markdown",
   "metadata": {},
   "source": [
    "."
   ]
  },
  {
   "cell_type": "markdown",
   "metadata": {},
   "source": [
    ".\n"
   ]
  },
  {
   "cell_type": "markdown",
   "metadata": {},
   "source": [
    "."
   ]
  },
  {
   "cell_type": "code",
   "execution_count": 59,
   "metadata": {},
   "outputs": [
    {
     "data": {
      "text/plain": [
       "Index(['key', 'fare_amount', 'pickup_datetime', 'pickup_longitude',\n",
       "       'pickup_latitude', 'dropoff_longitude', 'dropoff_latitude',\n",
       "       'passenger_count', 'date_time', 'hour', 'day', 'month', 'year',\n",
       "       'day_of_week', 'distance'],\n",
       "      dtype='object')"
      ]
     },
     "execution_count": 59,
     "metadata": {},
     "output_type": "execute_result"
    }
   ],
   "source": [
    "data.columns"
   ]
  },
  {
   "cell_type": "code",
   "execution_count": 60,
   "metadata": {},
   "outputs": [
    {
     "data": {
      "text/plain": [
       "Text(0, 0.5, 'Fare Amount')"
      ]
     },
     "execution_count": 60,
     "metadata": {},
     "output_type": "execute_result"
    },
    {
     "data": {
      "image/png": "[encoded data removed]",
      "text/plain": [
       "<Figure size 1152x360 with 1 Axes>"
      ]
     },
     "metadata": {
      "needs_background": "light"
     },
     "output_type": "display_data"
    },
    {
     "data": {
      "image/png": "[encoded data removed]",
      "text/plain": [
       "<Figure size 1152x360 with 1 Axes>"
      ]
     },
     "metadata": {
      "needs_background": "light"
     },
     "output_type": "display_data"
    }
   ],
   "source": [
    "# Frequency count of the taxi rides in specific months\n",
    "plt.figure(figsize=(16,5))\n",
    "plt.hist(data['month'], bins=100)\n",
    "plt.xlabel('Month')\n",
    "plt.ylabel('Frequency Count')\n",
    "plt.figure(figsize=(16,5))\n",
    "plt.scatter(x=data['month'], y=data['fare_amount'], s=1.5)\n",
    "plt.xlabel('Month')\n",
    "plt.ylabel('Fare Amount')"
   ]
  },
  {
   "cell_type": "markdown",
   "metadata": {},
   "source": [
    "The above graphs are plotted to get a sense or gist of the seasonal pricing.\n"
   ]
  },
  {
   "cell_type": "markdown",
   "metadata": {},
   "source": [
    "But unfortunately we cannot detect any trends in the fare amounts categorical to month.\n"
   ]
  },
  {
   "cell_type": "markdown",
   "metadata": {},
   "source": [
    "We can find the taxi fares to be reaching maximun in the month of September, may be due to a long weekend travel plans? May be!!!\n"
   ]
  },
  {
   "cell_type": "markdown",
   "metadata": {},
   "source": [
    "Let us calculate absolute difference between latitudes and longitudes. This is because we have distance=0 but fare is not 0, which is absurd"
   ]
  },
  {
   "cell_type": "markdown",
   "metadata": {},
   "source": []
  },
  {
   "cell_type": "code",
   "execution_count": 61,
   "metadata": {},
   "outputs": [],
   "source": [
    "data['abs_diff_longitude'] = (data['pickup_longitude'] - data['dropoff_longitude']).abs()\n",
    "data['abs_diff_latitude'] = (data['pickup_latitude'] - data['dropoff_latitude']).abs()\n",
    "test['abs_diff_longitude'] = (test['pickup_longitude'] - test['dropoff_longitude']).abs()\n",
    "test['abs_diff_latitude'] = (test['pickup_latitude'] - test['dropoff_latitude']).abs()"
   ]
  },
  {
   "cell_type": "code",
   "execution_count": 62,
   "metadata": {},
   "outputs": [
    {
     "data": {
      "text/plain": [
       "Text(0, 0.5, 'Fare Amount')"
      ]
     },
     "execution_count": 62,
     "metadata": {},
     "output_type": "execute_result"
    },
    {
     "data": {
      "image/png": "[encoded data removed]",
      "text/plain": [
       "<Figure size 1152x360 with 1 Axes>"
      ]
     },
     "metadata": {
      "needs_background": "light"
     },
     "output_type": "display_data"
    }
   ],
   "source": [
    "plt.figure(figsize=(16,5))\n",
    "plt.scatter(x=data['abs_diff_longitude'], y=data['abs_diff_latitude'], s=1.5)\n",
    "plt.xlabel('Month')\n",
    "plt.ylabel('Fare Amount')"
   ]
  },
  {
   "cell_type": "code",
   "execution_count": 63,
   "metadata": {},
   "outputs": [
    {
     "data": {
      "text/plain": [
       "(0.7736180904178745, 0.0)"
      ]
     },
     "execution_count": 63,
     "metadata": {},
     "output_type": "execute_result"
    }
   ],
   "source": [
    "stats.pearsonr(data['abs_diff_longitude'], data['fare_amount'])"
   ]
  },
  {
   "cell_type": "code",
   "execution_count": 62,
   "metadata": {},
   "outputs": [
    {
     "data": {
      "text/plain": [
       "(0.6022345368398039, 0.0)"
      ]
     },
     "execution_count": 62,
     "metadata": {},
     "output_type": "execute_result"
    }
   ],
   "source": [
    "stats.pearsonr(data['abs_diff_latitude'], data['fare_amount'])"
   ]
  },
  {
   "cell_type": "code",
   "execution_count": 64,
   "metadata": {},
   "outputs": [
    {
     "name": "stdout",
     "output_type": "stream",
     "text": [
      "                                   key  fare_amount          pickup_datetime  \\\n",
      "105        2009-03-25 00:08:52.0000001        52.00  2009-03-25 00:08:52 UTC   \n",
      "191        2014-01-08 21:55:58.0000006         6.50  2014-01-08 21:55:58 UTC   \n",
      "270        2012-08-25 01:53:42.0000005         7.50  2012-08-25 01:53:42 UTC   \n",
      "290       2009-12-14 12:33:00.00000075         6.90  2009-12-14 12:33:00 UTC   \n",
      "396        2014-03-12 18:12:44.0000006        12.00  2014-03-12 18:12:44 UTC   \n",
      "503       2010-01-19 01:10:00.00000012         2.50  2010-01-19 01:10:00 UTC   \n",
      "657        2009-08-25 01:50:21.0000001         2.50  2009-08-25 01:50:21 UTC   \n",
      "737      2014-08-11 19:37:00.000000174        57.33  2014-08-11 19:37:00 UTC   \n",
      "808        2010-10-22 02:24:53.0000001         6.10  2010-10-22 02:24:53 UTC   \n",
      "843       2014-07-19 04:42:00.00000041         5.50  2014-07-19 04:42:00 UTC   \n",
      "1124       2010-10-14 21:12:17.0000004        10.10  2010-10-14 21:12:17 UTC   \n",
      "1214       2011-08-16 07:04:05.0000001         9.30  2011-08-16 07:04:05 UTC   \n",
      "1222     2011-06-22 16:02:00.000000186         8.50  2011-06-22 16:02:00 UTC   \n",
      "1245       2010-04-01 13:14:41.0000001         6.90  2010-04-01 13:14:41 UTC   \n",
      "1265       2013-03-25 10:52:26.0000004        11.50  2013-03-25 10:52:26 UTC   \n",
      "1419       2013-07-21 00:10:23.0000001         2.50  2013-07-21 00:10:23 UTC   \n",
      "1630       2013-07-15 11:21:17.0000002         6.00  2013-07-15 11:21:17 UTC   \n",
      "1662      2013-03-12 19:02:00.00000016         7.00  2013-03-12 19:02:00 UTC   \n",
      "1723       2011-07-12 16:25:25.0000003         7.30  2011-07-12 16:25:25 UTC   \n",
      "1774       2012-08-27 15:24:00.0000007         2.50  2012-08-27 15:24:00 UTC   \n",
      "1906       2011-06-16 16:59:06.0000001         7.70  2011-06-16 16:59:06 UTC   \n",
      "2281     2011-08-29 08:24:00.000000130         9.30  2011-08-29 08:24:00 UTC   \n",
      "2346     2009-02-07 00:14:00.000000223        63.00  2009-02-07 00:14:00 UTC   \n",
      "2510       2010-03-30 13:21:00.0000001         8.10  2010-03-30 13:21:00 UTC   \n",
      "2656       2012-04-30 07:15:16.0000002         6.50  2012-04-30 07:15:16 UTC   \n",
      "2763      2009-08-26 18:55:00.00000092         5.70  2009-08-26 18:55:00 UTC   \n",
      "3587      2010-12-29 17:59:00.00000021         6.90  2010-12-29 17:59:00 UTC   \n",
      "3945     2010-03-28 03:33:00.000000140         5.30  2010-03-28 03:33:00 UTC   \n",
      "4086       2009-06-29 12:31:54.0000001        45.00  2009-06-29 12:31:54 UTC   \n",
      "4240      2012-10-01 20:24:00.00000074         3.50  2012-10-01 20:24:00 UTC   \n",
      "...                                ...          ...                      ...   \n",
      "1997083  2009-09-01 20:55:00.000000146        10.10  2009-09-01 20:55:00 UTC   \n",
      "1997140    2010-06-02 21:41:02.0000001         7.30  2010-06-02 21:41:02 UTC   \n",
      "1997236   2009-11-13 16:30:00.00000058        16.50  2009-11-13 16:30:00 UTC   \n",
      "1997260    2011-09-07 14:32:50.0000001        49.80  2011-09-07 14:32:50 UTC   \n",
      "1997286    2009-08-21 17:30:24.0000003        49.57  2009-08-21 17:30:24 UTC   \n",
      "1997418   2010-02-28 01:10:00.00000080         3.70  2010-02-28 01:10:00 UTC   \n",
      "1997580    2009-10-04 13:20:52.0000001         2.50  2009-10-04 13:20:52 UTC   \n",
      "1997634  2011-05-04 12:25:00.000000174         4.90  2011-05-04 12:25:00 UTC   \n",
      "1997685    2014-03-01 11:32:20.0000001        14.00  2014-03-01 11:32:20 UTC   \n",
      "1997726    2010-05-08 04:31:08.0000001         5.30  2010-05-08 04:31:08 UTC   \n",
      "1997730    2009-08-26 19:23:50.0000002        10.10  2009-08-26 19:23:50 UTC   \n",
      "1998111  2009-03-22 16:45:00.000000105         2.50  2009-03-22 16:45:00 UTC   \n",
      "1998132  2011-05-10 18:49:00.000000256         3.30  2011-05-10 18:49:00 UTC   \n",
      "1998192   2011-11-23 08:57:00.00000064         4.50  2011-11-23 08:57:00 UTC   \n",
      "1998196   2010-03-09 07:21:00.00000048         4.50  2010-03-09 07:21:00 UTC   \n",
      "1998201   2011-10-03 19:18:00.00000058         4.50  2011-10-03 19:18:00 UTC   \n",
      "1998521  2012-05-11 21:51:00.000000198         4.50  2012-05-11 21:51:00 UTC   \n",
      "1998766    2012-11-14 14:51:00.0000002         4.50  2012-11-14 14:51:00 UTC   \n",
      "1998934    2015-05-05 20:02:06.0000006         8.50  2015-05-05 20:02:06 UTC   \n",
      "1999076  2013-06-13 09:09:00.000000210         3.50  2013-06-13 09:09:00 UTC   \n",
      "1999090   2011-06-05 16:55:00.00000073         8.90  2011-06-05 16:55:00 UTC   \n",
      "1999159  2012-04-25 21:03:00.000000101         4.10  2012-04-25 21:03:00 UTC   \n",
      "1999218    2014-10-14 06:44:51.0000003         9.00  2014-10-14 06:44:51 UTC   \n",
      "1999299    2013-04-28 10:48:39.0000002         4.00  2013-04-28 10:48:39 UTC   \n",
      "1999359    2012-07-27 20:58:53.0000003         6.50  2012-07-27 20:58:53 UTC   \n",
      "1999422    2010-11-28 16:55:55.0000004        14.10  2010-11-28 16:55:55 UTC   \n",
      "1999554   2012-06-02 15:10:00.00000058        10.90  2012-06-02 15:10:00 UTC   \n",
      "1999695  2012-08-13 21:24:00.000000109         5.70  2012-08-13 21:24:00 UTC   \n",
      "1999729  2010-05-21 15:21:00.000000114         7.70  2010-05-21 15:21:00 UTC   \n",
      "1999850    2009-08-08 00:56:25.0000002         2.50  2009-08-08 00:56:25 UTC   \n",
      "\n",
      "         pickup_longitude  pickup_latitude  dropoff_longitude  \\\n",
      "105            -74.035839        40.747320         -74.035839   \n",
      "191            -73.998488        40.726303         -73.998488   \n",
      "270            -73.995892        40.746454         -73.995892   \n",
      "290            -73.982432        40.745747         -73.982432   \n",
      "396            -73.844904        40.736318         -73.844904   \n",
      "503            -73.998720        40.624708         -73.998720   \n",
      "657            -73.986410        40.763350         -73.986410   \n",
      "737            -73.776477        40.646290         -73.776477   \n",
      "808            -73.984433        40.771084         -73.984433   \n",
      "843            -73.990532        40.719085         -73.990532   \n",
      "1124           -73.976390        40.770868         -73.976390   \n",
      "1214           -74.011654        40.722781         -74.011654   \n",
      "1222           -73.982798        40.763042         -73.982798   \n",
      "1245           -73.956543        40.822925         -73.956543   \n",
      "1265           -73.980100        40.734606         -73.980100   \n",
      "1419           -73.956556        40.779828         -73.956556   \n",
      "1630           -73.979731        40.765825         -73.979731   \n",
      "1662           -73.976162        40.765790         -73.976162   \n",
      "1723           -73.990405        40.771739         -73.990405   \n",
      "1774           -73.950282        40.701282         -73.950282   \n",
      "1906           -73.899965        40.739839         -73.899965   \n",
      "2281           -73.970395        40.768188         -73.970395   \n",
      "2346           -74.086412        40.841982         -74.086412   \n",
      "2510           -73.971522        40.758933         -73.971522   \n",
      "2656           -73.994684        40.689621         -73.994684   \n",
      "2763           -73.953570        40.771418         -73.953570   \n",
      "3587           -73.946787        40.850443         -73.946787   \n",
      "3945           -73.984912        40.736457         -73.984912   \n",
      "4086           -73.776293        40.645693         -73.776293   \n",
      "4240           -73.966635        40.767332         -73.966635   \n",
      "...                   ...              ...                ...   \n",
      "1997083        -73.935028        40.796685         -73.935028   \n",
      "1997140        -73.608359        40.678182         -73.608359   \n",
      "1997236        -73.949880        40.785490         -73.949880   \n",
      "1997260        -73.993374        40.752391         -73.993374   \n",
      "1997286        -73.989039        40.731483         -73.989039   \n",
      "1997418        -73.988897        40.741900         -73.988897   \n",
      "1997580        -73.985071        40.760973         -73.985071   \n",
      "1997634        -73.983090        40.761552         -73.983090   \n",
      "1997685        -73.915362        40.673964         -73.915362   \n",
      "1997726        -73.137393        41.366138         -73.137393   \n",
      "1997730        -73.951818        40.733697         -73.951818   \n",
      "1998111        -73.978287        40.834483         -73.978287   \n",
      "1998132        -73.974218        40.746482         -73.974218   \n",
      "1998192        -73.961362        40.768555         -73.961362   \n",
      "1998196        -73.976512        40.750383         -73.976512   \n",
      "1998201        -73.997418        40.736810         -73.997418   \n",
      "1998521        -74.001305        40.731898         -74.001305   \n",
      "1998766        -73.981037        40.753385         -73.981037   \n",
      "1998934        -73.990288        40.745136         -73.990288   \n",
      "1999076        -73.961460        40.774447         -73.961460   \n",
      "1999090        -74.000622        40.752567         -74.000622   \n",
      "1999159        -73.991010        40.751055         -73.991010   \n",
      "1999218        -73.957097        40.780509         -73.957097   \n",
      "1999299        -73.987459        40.755723         -73.987459   \n",
      "1999359        -73.989985        40.734278         -73.989985   \n",
      "1999422        -73.828047        40.645001         -73.828047   \n",
      "1999554        -73.974493        40.763517         -73.974493   \n",
      "1999695        -73.967137        40.759200         -73.967137   \n",
      "1999729        -73.973987        40.723108         -73.973987   \n",
      "1999850        -73.968732        40.754588         -73.968732   \n",
      "\n",
      "         dropoff_latitude  passenger_count           date_time  hour  day  \\\n",
      "105             40.747320                1 2009-03-25 00:08:52     0   25   \n",
      "191             40.726303                1 2014-01-08 21:55:58    21    8   \n",
      "270             40.746454                1 2012-08-25 01:53:42     1   25   \n",
      "290             40.745747                1 2009-12-14 12:33:00    12   14   \n",
      "396             40.736318                1 2014-03-12 18:12:44    18   12   \n",
      "503             40.624708                1 2010-01-19 01:10:00     1   19   \n",
      "657             40.763350                1 2009-08-25 01:50:21     1   25   \n",
      "737             40.646290                2 2014-08-11 19:37:00    19   11   \n",
      "808             40.771084                1 2010-10-22 02:24:53     2   22   \n",
      "843             40.719085                1 2014-07-19 04:42:00     4   19   \n",
      "1124            40.770868                1 2010-10-14 21:12:17    21   14   \n",
      "1214            40.722781                1 2011-08-16 07:04:05     7   16   \n",
      "1222            40.763042                2 2011-06-22 16:02:00    16   22   \n",
      "1245            40.822925                3 2010-04-01 13:14:41    13    1   \n",
      "1265            40.734606                1 2013-03-25 10:52:26    10   25   \n",
      "1419            40.779828                1 2013-07-21 00:10:23     0   21   \n",
      "1630            40.765825                3 2013-07-15 11:21:17    11   15   \n",
      "1662            40.765790                1 2013-03-12 19:02:00    19   12   \n",
      "1723            40.771739                1 2011-07-12 16:25:25    16   12   \n",
      "1774            40.701282                1 2012-08-27 15:24:00    15   27   \n",
      "1906            40.739839                1 2011-06-16 16:59:06    16   16   \n",
      "2281            40.768188                5 2011-08-29 08:24:00     8   29   \n",
      "2346            40.841982                1 2009-02-07 00:14:00     0    7   \n",
      "2510            40.758933                1 2010-03-30 13:21:00    13   30   \n",
      "2656            40.689621                1 2012-04-30 07:15:16     7   30   \n",
      "2763            40.771418                2 2009-08-26 18:55:00    18   26   \n",
      "3587            40.850443                1 2010-12-29 17:59:00    17   29   \n",
      "3945            40.736457                2 2010-03-28 03:33:00     3   28   \n",
      "4086            40.645693                2 2009-06-29 12:31:54    12   29   \n",
      "4240            40.767332                1 2012-10-01 20:24:00    20    1   \n",
      "...                   ...              ...                 ...   ...  ...   \n",
      "1997083         40.796685                1 2009-09-01 20:55:00    20    1   \n",
      "1997140         40.678182                2 2010-06-02 21:41:02    21    2   \n",
      "1997236         40.785490                1 2009-11-13 16:30:00    16   13   \n",
      "1997260         40.752391                2 2011-09-07 14:32:50    14    7   \n",
      "1997286         40.731483                1 2009-08-21 17:30:24    17   21   \n",
      "1997418         40.741900                2 2010-02-28 01:10:00     1   28   \n",
      "1997580         40.760973                1 2009-10-04 13:20:52    13    4   \n",
      "1997634         40.761552                1 2011-05-04 12:25:00    12    4   \n",
      "1997685         40.673964                1 2014-03-01 11:32:20    11    1   \n",
      "1997726         41.366138                1 2010-05-08 04:31:08     4    8   \n",
      "1997730         40.733697                1 2009-08-26 19:23:50    19   26   \n",
      "1998111         40.834483                1 2009-03-22 16:45:00    16   22   \n",
      "1998132         40.746482                1 2011-05-10 18:49:00    18   10   \n",
      "1998192         40.768555                1 2011-11-23 08:57:00     8   23   \n",
      "1998196         40.750383                5 2010-03-09 07:21:00     7    9   \n",
      "1998201         40.736810                1 2011-10-03 19:18:00    19    3   \n",
      "1998521         40.731898                5 2012-05-11 21:51:00    21   11   \n",
      "1998766         40.753385                1 2012-11-14 14:51:00    14   14   \n",
      "1998934         40.745136                1 2015-05-05 20:02:06    20    5   \n",
      "1999076         40.774447                1 2013-06-13 09:09:00     9   13   \n",
      "1999090         40.752567                1 2011-06-05 16:55:00    16    5   \n",
      "1999159         40.751055                1 2012-04-25 21:03:00    21   25   \n",
      "1999218         40.780509                1 2014-10-14 06:44:51     6   14   \n",
      "1999299         40.755723                1 2013-04-28 10:48:39    10   28   \n",
      "1999359         40.734278                3 2012-07-27 20:58:53    20   27   \n",
      "1999422         40.645001                2 2010-11-28 16:55:55    16   28   \n",
      "1999554         40.763517                2 2012-06-02 15:10:00    15    2   \n",
      "1999695         40.759200                1 2012-08-13 21:24:00    21   13   \n",
      "1999729         40.723108                1 2010-05-21 15:21:00    15   21   \n",
      "1999850         40.754588                1 2009-08-08 00:56:25     0    8   \n",
      "\n",
      "         month  year  day_of_week  distance  abs_diff_longitude  \\\n",
      "105          3  2009            2       0.0                 0.0   \n",
      "191          1  2014            2       0.0                 0.0   \n",
      "270          8  2012            5       0.0                 0.0   \n",
      "290         12  2009            0       0.0                 0.0   \n",
      "396          3  2014            2       0.0                 0.0   \n",
      "503          1  2010            1       0.0                 0.0   \n",
      "657          8  2009            1       0.0                 0.0   \n",
      "737          8  2014            0       0.0                 0.0   \n",
      "808         10  2010            4       0.0                 0.0   \n",
      "843          7  2014            5       0.0                 0.0   \n",
      "1124        10  2010            3       0.0                 0.0   \n",
      "1214         8  2011            1       0.0                 0.0   \n",
      "1222         6  2011            2       0.0                 0.0   \n",
      "1245         4  2010            3       0.0                 0.0   \n",
      "1265         3  2013            0       0.0                 0.0   \n",
      "1419         7  2013            6       0.0                 0.0   \n",
      "1630         7  2013            0       0.0                 0.0   \n",
      "1662         3  2013            1       0.0                 0.0   \n",
      "1723         7  2011            1       0.0                 0.0   \n",
      "1774         8  2012            0       0.0                 0.0   \n",
      "1906         6  2011            3       0.0                 0.0   \n",
      "2281         8  2011            0       0.0                 0.0   \n",
      "2346         2  2009            5       0.0                 0.0   \n",
      "2510         3  2010            1       0.0                 0.0   \n",
      "2656         4  2012            0       0.0                 0.0   \n",
      "2763         8  2009            2       0.0                 0.0   \n",
      "3587        12  2010            2       0.0                 0.0   \n",
      "3945         3  2010            6       0.0                 0.0   \n",
      "4086         6  2009            0       0.0                 0.0   \n",
      "4240        10  2012            0       0.0                 0.0   \n",
      "...        ...   ...          ...       ...                 ...   \n",
      "1997083      9  2009            1       0.0                 0.0   \n",
      "1997140      6  2010            2       0.0                 0.0   \n",
      "1997236     11  2009            4       0.0                 0.0   \n",
      "1997260      9  2011            2       0.0                 0.0   \n",
      "1997286      8  2009            4       0.0                 0.0   \n",
      "1997418      2  2010            6       0.0                 0.0   \n",
      "1997580     10  2009            6       0.0                 0.0   \n",
      "1997634      5  2011            2       0.0                 0.0   \n",
      "1997685      3  2014            5       0.0                 0.0   \n",
      "1997726      5  2010            5       0.0                 0.0   \n",
      "1997730      8  2009            2       0.0                 0.0   \n",
      "1998111      3  2009            6       0.0                 0.0   \n",
      "1998132      5  2011            1       0.0                 0.0   \n",
      "1998192     11  2011            2       0.0                 0.0   \n",
      "1998196      3  2010            1       0.0                 0.0   \n",
      "1998201     10  2011            0       0.0                 0.0   \n",
      "1998521      5  2012            4       0.0                 0.0   \n",
      "1998766     11  2012            2       0.0                 0.0   \n",
      "1998934      5  2015            1       0.0                 0.0   \n",
      "1999076      6  2013            3       0.0                 0.0   \n",
      "1999090      6  2011            6       0.0                 0.0   \n",
      "1999159      4  2012            2       0.0                 0.0   \n",
      "1999218     10  2014            1       0.0                 0.0   \n",
      "1999299      4  2013            6       0.0                 0.0   \n",
      "1999359      7  2012            4       0.0                 0.0   \n",
      "1999422     11  2010            6       0.0                 0.0   \n",
      "1999554      6  2012            5       0.0                 0.0   \n",
      "1999695      8  2012            0       0.0                 0.0   \n",
      "1999729      5  2010            4       0.0                 0.0   \n",
      "1999850      8  2009            5       0.0                 0.0   \n",
      "\n",
      "         abs_diff_latitude  \n",
      "105                    0.0  \n",
      "191                    0.0  \n",
      "270                    0.0  \n",
      "290                    0.0  \n",
      "396                    0.0  \n",
      "503                    0.0  \n",
      "657                    0.0  \n",
      "737                    0.0  \n",
      "808                    0.0  \n",
      "843                    0.0  \n",
      "1124                   0.0  \n",
      "1214                   0.0  \n",
      "1222                   0.0  \n",
      "1245                   0.0  \n",
      "1265                   0.0  \n",
      "1419                   0.0  \n",
      "1630                   0.0  \n",
      "1662                   0.0  \n",
      "1723                   0.0  \n",
      "1774                   0.0  \n",
      "1906                   0.0  \n",
      "2281                   0.0  \n",
      "2346                   0.0  \n",
      "2510                   0.0  \n",
      "2656                   0.0  \n",
      "2763                   0.0  \n",
      "3587                   0.0  \n",
      "3945                   0.0  \n",
      "4086                   0.0  \n",
      "4240                   0.0  \n",
      "...                    ...  \n",
      "1997083                0.0  \n",
      "1997140                0.0  \n",
      "1997236                0.0  \n",
      "1997260                0.0  \n",
      "1997286                0.0  \n",
      "1997418                0.0  \n",
      "1997580                0.0  \n",
      "1997634                0.0  \n",
      "1997685                0.0  \n",
      "1997726                0.0  \n",
      "1997730                0.0  \n",
      "1998111                0.0  \n",
      "1998132                0.0  \n",
      "1998192                0.0  \n",
      "1998196                0.0  \n",
      "1998201                0.0  \n",
      "1998521                0.0  \n",
      "1998766                0.0  \n",
      "1998934                0.0  \n",
      "1999076                0.0  \n",
      "1999090                0.0  \n",
      "1999159                0.0  \n",
      "1999218                0.0  \n",
      "1999299                0.0  \n",
      "1999359                0.0  \n",
      "1999422                0.0  \n",
      "1999554                0.0  \n",
      "1999695                0.0  \n",
      "1999729                0.0  \n",
      "1999850                0.0  \n",
      "\n",
      "[20780 rows x 17 columns]\n"
     ]
    }
   ],
   "source": [
    "dist_zero=data[data['distance']==0]\n",
    "print(dist_zero)"
   ]
  },
  {
   "cell_type": "code",
   "execution_count": 69,
   "metadata": {},
   "outputs": [
    {
     "data": {
      "text/plain": [
       "(1957771, 17)"
      ]
     },
     "execution_count": 69,
     "metadata": {},
     "output_type": "execute_result"
    }
   ],
   "source": [
    "data.shape"
   ]
  },
  {
   "cell_type": "markdown",
   "metadata": {},
   "source": [
    "There are 20776 rows which is a huge number to just delete the data, but can we do is that as we know fare amount we can try to get the distance by the below mentioned formula,\n",
    "                        fare amount = ( base fare ) + ( distance )* (fare / mile)\n"
   ]
  },
  {
   "cell_type": "markdown",
   "metadata": {},
   "source": [
    "From here, we can calculate distance as,\n",
    "                         distance = ((fare amount) - ( base fare) ) / (fare / mile)\n"
   ]
  },
  {
   "cell_type": "markdown",
   "metadata": {},
   "source": [
    "All we have to know is the fare amount, base fare and the fare/mile cost.\n",
    "As per the source http://www.nyc.gov/html/tlc/html/passenger/taxicab_rate.shtml\n",
    "(http://www.nyc.gov/html/tlc/html/passenger/taxicab_rate.shtml) ,\n"
   ]
  },
  {
   "cell_type": "markdown",
   "metadata": {},
   "source": [
    "Base fare ( initial charge ) is $2.5. fare per mile is about $1.5.\n"
   ]
  },
  {
   "cell_type": "markdown",
   "metadata": {},
   "source": [
    "There is a daily 50-cent surcharge from 8pm to 6am. There is a $1 surcharge from 4pm to 8pm on weekdays.\n",
    "First we will set the minimun fare_amount of the taxi rides to be $2.5."
   ]
  },
  {
   "cell_type": "code",
   "execution_count": 65,
   "metadata": {},
   "outputs": [
    {
     "data": {
      "text/html": [
       "<div>\n",
       "<style scoped>\n",
       "    .dataframe tbody tr th:only-of-type {\n",
       "        vertical-align: middle;\n",
       "    }\n",
       "\n",
       "    .dataframe tbody tr th {\n",
       "        vertical-align: top;\n",
       "    }\n",
       "\n",
       "    .dataframe thead th {\n",
       "        text-align: right;\n",
       "    }\n",
       "</style>\n",
       "<table border=\"1\" class=\"dataframe\">\n",
       "  <thead>\n",
       "    <tr style=\"text-align: right;\">\n",
       "      <th></th>\n",
       "      <th>fare_amount</th>\n",
       "      <th>pickup_longitude</th>\n",
       "      <th>pickup_latitude</th>\n",
       "      <th>dropoff_longitude</th>\n",
       "      <th>dropoff_latitude</th>\n",
       "      <th>passenger_count</th>\n",
       "      <th>hour</th>\n",
       "      <th>day</th>\n",
       "      <th>month</th>\n",
       "      <th>year</th>\n",
       "      <th>day_of_week</th>\n",
       "      <th>distance</th>\n",
       "      <th>abs_diff_longitude</th>\n",
       "      <th>abs_diff_latitude</th>\n",
       "    </tr>\n",
       "  </thead>\n",
       "  <tbody>\n",
       "    <tr>\n",
       "      <th>count</th>\n",
       "      <td>5.000000</td>\n",
       "      <td>5.000000</td>\n",
       "      <td>5.000000</td>\n",
       "      <td>5.000000</td>\n",
       "      <td>5.000000</td>\n",
       "      <td>5.000000</td>\n",
       "      <td>5.000000</td>\n",
       "      <td>5.000000</td>\n",
       "      <td>5.00000</td>\n",
       "      <td>5.00000</td>\n",
       "      <td>5.000000</td>\n",
       "      <td>5.0</td>\n",
       "      <td>5.0</td>\n",
       "      <td>5.0</td>\n",
       "    </tr>\n",
       "    <tr>\n",
       "      <th>mean</th>\n",
       "      <td>0.400000</td>\n",
       "      <td>-73.991683</td>\n",
       "      <td>40.739062</td>\n",
       "      <td>-73.991683</td>\n",
       "      <td>40.739062</td>\n",
       "      <td>1.200000</td>\n",
       "      <td>14.200000</td>\n",
       "      <td>15.600000</td>\n",
       "      <td>4.80000</td>\n",
       "      <td>2013.60000</td>\n",
       "      <td>2.600000</td>\n",
       "      <td>0.0</td>\n",
       "      <td>0.0</td>\n",
       "      <td>0.0</td>\n",
       "    </tr>\n",
       "    <tr>\n",
       "      <th>std</th>\n",
       "      <td>0.894427</td>\n",
       "      <td>0.055900</td>\n",
       "      <td>0.038664</td>\n",
       "      <td>0.055900</td>\n",
       "      <td>0.038664</td>\n",
       "      <td>0.447214</td>\n",
       "      <td>9.602083</td>\n",
       "      <td>11.865918</td>\n",
       "      <td>2.04939</td>\n",
       "      <td>2.19089</td>\n",
       "      <td>1.949359</td>\n",
       "      <td>0.0</td>\n",
       "      <td>0.0</td>\n",
       "      <td>0.0</td>\n",
       "    </tr>\n",
       "    <tr>\n",
       "      <th>min</th>\n",
       "      <td>0.000000</td>\n",
       "      <td>-74.043442</td>\n",
       "      <td>40.679971</td>\n",
       "      <td>-74.043442</td>\n",
       "      <td>40.679971</td>\n",
       "      <td>1.000000</td>\n",
       "      <td>2.000000</td>\n",
       "      <td>4.000000</td>\n",
       "      <td>3.00000</td>\n",
       "      <td>2010.00000</td>\n",
       "      <td>0.000000</td>\n",
       "      <td>0.0</td>\n",
       "      <td>0.0</td>\n",
       "      <td>0.0</td>\n",
       "    </tr>\n",
       "    <tr>\n",
       "      <th>25%</th>\n",
       "      <td>0.000000</td>\n",
       "      <td>-74.035278</td>\n",
       "      <td>40.738683</td>\n",
       "      <td>-74.035278</td>\n",
       "      <td>40.738683</td>\n",
       "      <td>1.000000</td>\n",
       "      <td>6.000000</td>\n",
       "      <td>5.000000</td>\n",
       "      <td>3.00000</td>\n",
       "      <td>2013.00000</td>\n",
       "      <td>2.000000</td>\n",
       "      <td>0.0</td>\n",
       "      <td>0.0</td>\n",
       "      <td>0.0</td>\n",
       "    </tr>\n",
       "    <tr>\n",
       "      <th>50%</th>\n",
       "      <td>0.000000</td>\n",
       "      <td>-73.994125</td>\n",
       "      <td>40.741131</td>\n",
       "      <td>-73.994125</td>\n",
       "      <td>40.741131</td>\n",
       "      <td>1.000000</td>\n",
       "      <td>18.000000</td>\n",
       "      <td>13.000000</td>\n",
       "      <td>5.00000</td>\n",
       "      <td>2015.00000</td>\n",
       "      <td>2.000000</td>\n",
       "      <td>0.0</td>\n",
       "      <td>0.0</td>\n",
       "      <td>0.0</td>\n",
       "    </tr>\n",
       "    <tr>\n",
       "      <th>75%</th>\n",
       "      <td>0.000000</td>\n",
       "      <td>-73.982354</td>\n",
       "      <td>40.747318</td>\n",
       "      <td>-73.982354</td>\n",
       "      <td>40.747318</td>\n",
       "      <td>1.000000</td>\n",
       "      <td>22.000000</td>\n",
       "      <td>27.000000</td>\n",
       "      <td>5.00000</td>\n",
       "      <td>2015.00000</td>\n",
       "      <td>4.000000</td>\n",
       "      <td>0.0</td>\n",
       "      <td>0.0</td>\n",
       "      <td>0.0</td>\n",
       "    </tr>\n",
       "    <tr>\n",
       "      <th>max</th>\n",
       "      <td>2.000000</td>\n",
       "      <td>-73.903214</td>\n",
       "      <td>40.788208</td>\n",
       "      <td>-73.903214</td>\n",
       "      <td>40.788208</td>\n",
       "      <td>2.000000</td>\n",
       "      <td>23.000000</td>\n",
       "      <td>29.000000</td>\n",
       "      <td>8.00000</td>\n",
       "      <td>2015.00000</td>\n",
       "      <td>5.000000</td>\n",
       "      <td>0.0</td>\n",
       "      <td>0.0</td>\n",
       "      <td>0.0</td>\n",
       "    </tr>\n",
       "  </tbody>\n",
       "</table>\n",
       "</div>"
      ],
      "text/plain": [
       "       fare_amount  pickup_longitude  pickup_latitude  dropoff_longitude  \\\n",
       "count     5.000000          5.000000         5.000000           5.000000   \n",
       "mean      0.400000        -73.991683        40.739062         -73.991683   \n",
       "std       0.894427          0.055900         0.038664           0.055900   \n",
       "min       0.000000        -74.043442        40.679971         -74.043442   \n",
       "25%       0.000000        -74.035278        40.738683         -74.035278   \n",
       "50%       0.000000        -73.994125        40.741131         -73.994125   \n",
       "75%       0.000000        -73.982354        40.747318         -73.982354   \n",
       "max       2.000000        -73.903214        40.788208         -73.903214   \n",
       "\n",
       "       dropoff_latitude  passenger_count       hour        day    month  \\\n",
       "count          5.000000         5.000000   5.000000   5.000000  5.00000   \n",
       "mean          40.739062         1.200000  14.200000  15.600000  4.80000   \n",
       "std            0.038664         0.447214   9.602083  11.865918  2.04939   \n",
       "min           40.679971         1.000000   2.000000   4.000000  3.00000   \n",
       "25%           40.738683         1.000000   6.000000   5.000000  3.00000   \n",
       "50%           40.741131         1.000000  18.000000  13.000000  5.00000   \n",
       "75%           40.747318         1.000000  22.000000  27.000000  5.00000   \n",
       "max           40.788208         2.000000  23.000000  29.000000  8.00000   \n",
       "\n",
       "             year  day_of_week  distance  abs_diff_longitude  \\\n",
       "count     5.00000     5.000000       5.0                 5.0   \n",
       "mean   2013.60000     2.600000       0.0                 0.0   \n",
       "std       2.19089     1.949359       0.0                 0.0   \n",
       "min    2010.00000     0.000000       0.0                 0.0   \n",
       "25%    2013.00000     2.000000       0.0                 0.0   \n",
       "50%    2015.00000     2.000000       0.0                 0.0   \n",
       "75%    2015.00000     4.000000       0.0                 0.0   \n",
       "max    2015.00000     5.000000       0.0                 0.0   \n",
       "\n",
       "       abs_diff_latitude  \n",
       "count                5.0  \n",
       "mean                 0.0  \n",
       "std                  0.0  \n",
       "min                  0.0  \n",
       "25%                  0.0  \n",
       "50%                  0.0  \n",
       "75%                  0.0  \n",
       "max                  0.0  "
      ]
     },
     "execution_count": 65,
     "metadata": {},
     "output_type": "execute_result"
    }
   ],
   "source": [
    "fare_less_than_base = data.loc[((data['distance']==0) & (data['fare_amount'] < 2.5))]\n",
    "fare_less_than_base.describe()"
   ]
  },
  {
   "cell_type": "code",
   "execution_count": 71,
   "metadata": {},
   "outputs": [],
   "source": [
    "data=data.drop(fare_less_than_base.index, axis=0)"
   ]
  },
  {
   "cell_type": "code",
   "execution_count": 72,
   "metadata": {},
   "outputs": [
    {
     "data": {
      "text/plain": [
       "(1957771, 17)"
      ]
     },
     "execution_count": 72,
     "metadata": {},
     "output_type": "execute_result"
    }
   ],
   "source": [
    "data.shape"
   ]
  },
  {
   "cell_type": "code",
   "execution_count": 73,
   "metadata": {},
   "outputs": [],
   "source": [
    "data=data[data['fare_amount']>=2.5]"
   ]
  },
  {
   "cell_type": "code",
   "execution_count": 74,
   "metadata": {
    "scrolled": true
   },
   "outputs": [
    {
     "data": {
      "text/html": [
       "<div>\n",
       "<style scoped>\n",
       "    .dataframe tbody tr th:only-of-type {\n",
       "        vertical-align: middle;\n",
       "    }\n",
       "\n",
       "    .dataframe tbody tr th {\n",
       "        vertical-align: top;\n",
       "    }\n",
       "\n",
       "    .dataframe thead th {\n",
       "        text-align: right;\n",
       "    }\n",
       "</style>\n",
       "<table border=\"1\" class=\"dataframe\">\n",
       "  <thead>\n",
       "    <tr style=\"text-align: right;\">\n",
       "      <th></th>\n",
       "      <th>fare_amount</th>\n",
       "      <th>pickup_longitude</th>\n",
       "      <th>pickup_latitude</th>\n",
       "      <th>dropoff_longitude</th>\n",
       "      <th>dropoff_latitude</th>\n",
       "      <th>passenger_count</th>\n",
       "      <th>hour</th>\n",
       "      <th>day</th>\n",
       "      <th>month</th>\n",
       "      <th>year</th>\n",
       "      <th>day_of_week</th>\n",
       "      <th>distance</th>\n",
       "      <th>abs_diff_longitude</th>\n",
       "      <th>abs_diff_latitude</th>\n",
       "    </tr>\n",
       "  </thead>\n",
       "  <tbody>\n",
       "    <tr>\n",
       "      <th>count</th>\n",
       "      <td>1.957717e+06</td>\n",
       "      <td>1.957717e+06</td>\n",
       "      <td>1.957717e+06</td>\n",
       "      <td>1.957717e+06</td>\n",
       "      <td>1.957717e+06</td>\n",
       "      <td>1.957717e+06</td>\n",
       "      <td>1.957717e+06</td>\n",
       "      <td>1.957717e+06</td>\n",
       "      <td>1.957717e+06</td>\n",
       "      <td>1.957717e+06</td>\n",
       "      <td>1.957717e+06</td>\n",
       "      <td>1.957717e+06</td>\n",
       "      <td>1.957717e+06</td>\n",
       "      <td>1.957717e+06</td>\n",
       "    </tr>\n",
       "    <tr>\n",
       "      <th>mean</th>\n",
       "      <td>1.132524e+01</td>\n",
       "      <td>-7.397513e+01</td>\n",
       "      <td>4.075107e+01</td>\n",
       "      <td>-7.397424e+01</td>\n",
       "      <td>4.075142e+01</td>\n",
       "      <td>1.684258e+00</td>\n",
       "      <td>1.350849e+01</td>\n",
       "      <td>1.570591e+01</td>\n",
       "      <td>6.269519e+00</td>\n",
       "      <td>2.011737e+03</td>\n",
       "      <td>3.041295e+00</td>\n",
       "      <td>2.067940e+00</td>\n",
       "      <td>2.278713e-02</td>\n",
       "      <td>2.131913e-02</td>\n",
       "    </tr>\n",
       "    <tr>\n",
       "      <th>std</th>\n",
       "      <td>9.682160e+00</td>\n",
       "      <td>3.844987e-02</td>\n",
       "      <td>2.956012e-02</td>\n",
       "      <td>3.758218e-02</td>\n",
       "      <td>3.272518e-02</td>\n",
       "      <td>1.306724e+00</td>\n",
       "      <td>6.513942e+00</td>\n",
       "      <td>8.682180e+00</td>\n",
       "      <td>3.437981e+00</td>\n",
       "      <td>1.863375e+00</td>\n",
       "      <td>1.949910e+00</td>\n",
       "      <td>2.344303e+00</td>\n",
       "      <td>3.519005e-02</td>\n",
       "      <td>2.415512e-02</td>\n",
       "    </tr>\n",
       "    <tr>\n",
       "      <th>min</th>\n",
       "      <td>2.500000e+00</td>\n",
       "      <td>-7.429941e+01</td>\n",
       "      <td>4.050183e+01</td>\n",
       "      <td>-7.429973e+01</td>\n",
       "      <td>4.050029e+01</td>\n",
       "      <td>0.000000e+00</td>\n",
       "      <td>0.000000e+00</td>\n",
       "      <td>1.000000e+00</td>\n",
       "      <td>1.000000e+00</td>\n",
       "      <td>2.009000e+03</td>\n",
       "      <td>0.000000e+00</td>\n",
       "      <td>0.000000e+00</td>\n",
       "      <td>0.000000e+00</td>\n",
       "      <td>0.000000e+00</td>\n",
       "    </tr>\n",
       "    <tr>\n",
       "      <th>25%</th>\n",
       "      <td>6.000000e+00</td>\n",
       "      <td>-7.399229e+01</td>\n",
       "      <td>4.073654e+01</td>\n",
       "      <td>-7.399159e+01</td>\n",
       "      <td>4.073553e+01</td>\n",
       "      <td>1.000000e+00</td>\n",
       "      <td>9.000000e+00</td>\n",
       "      <td>8.000000e+00</td>\n",
       "      <td>3.000000e+00</td>\n",
       "      <td>2.010000e+03</td>\n",
       "      <td>1.000000e+00</td>\n",
       "      <td>7.789511e-01</td>\n",
       "      <td>6.129000e-03</td>\n",
       "      <td>6.933000e-03</td>\n",
       "    </tr>\n",
       "    <tr>\n",
       "      <th>50%</th>\n",
       "      <td>8.500000e+00</td>\n",
       "      <td>-7.398210e+01</td>\n",
       "      <td>4.075334e+01</td>\n",
       "      <td>-7.398062e+01</td>\n",
       "      <td>4.075383e+01</td>\n",
       "      <td>1.000000e+00</td>\n",
       "      <td>1.400000e+01</td>\n",
       "      <td>1.600000e+01</td>\n",
       "      <td>6.000000e+00</td>\n",
       "      <td>2.012000e+03</td>\n",
       "      <td>3.000000e+00</td>\n",
       "      <td>1.337244e+00</td>\n",
       "      <td>1.269600e-02</td>\n",
       "      <td>1.416000e-02</td>\n",
       "    </tr>\n",
       "    <tr>\n",
       "      <th>75%</th>\n",
       "      <td>1.250000e+01</td>\n",
       "      <td>-7.396834e+01</td>\n",
       "      <td>4.076752e+01</td>\n",
       "      <td>-7.396536e+01</td>\n",
       "      <td>4.076839e+01</td>\n",
       "      <td>2.000000e+00</td>\n",
       "      <td>1.900000e+01</td>\n",
       "      <td>2.300000e+01</td>\n",
       "      <td>9.000000e+00</td>\n",
       "      <td>2.013000e+03</td>\n",
       "      <td>5.000000e+00</td>\n",
       "      <td>2.431993e+00</td>\n",
       "      <td>2.392000e-02</td>\n",
       "      <td>2.719600e-02</td>\n",
       "    </tr>\n",
       "    <tr>\n",
       "      <th>max</th>\n",
       "      <td>5.000000e+02</td>\n",
       "      <td>-7.294086e+01</td>\n",
       "      <td>4.169685e+01</td>\n",
       "      <td>-7.290000e+01</td>\n",
       "      <td>4.169126e+01</td>\n",
       "      <td>9.000000e+00</td>\n",
       "      <td>2.300000e+01</td>\n",
       "      <td>3.100000e+01</td>\n",
       "      <td>1.200000e+01</td>\n",
       "      <td>2.015000e+03</td>\n",
       "      <td>6.000000e+00</td>\n",
       "      <td>7.133064e+01</td>\n",
       "      <td>1.193331e+00</td>\n",
       "      <td>8.809624e-01</td>\n",
       "    </tr>\n",
       "  </tbody>\n",
       "</table>\n",
       "</div>"
      ],
      "text/plain": [
       "        fare_amount  pickup_longitude  pickup_latitude  dropoff_longitude  \\\n",
       "count  1.957717e+06      1.957717e+06     1.957717e+06       1.957717e+06   \n",
       "mean   1.132524e+01     -7.397513e+01     4.075107e+01      -7.397424e+01   \n",
       "std    9.682160e+00      3.844987e-02     2.956012e-02       3.758218e-02   \n",
       "min    2.500000e+00     -7.429941e+01     4.050183e+01      -7.429973e+01   \n",
       "25%    6.000000e+00     -7.399229e+01     4.073654e+01      -7.399159e+01   \n",
       "50%    8.500000e+00     -7.398210e+01     4.075334e+01      -7.398062e+01   \n",
       "75%    1.250000e+01     -7.396834e+01     4.076752e+01      -7.396536e+01   \n",
       "max    5.000000e+02     -7.294086e+01     4.169685e+01      -7.290000e+01   \n",
       "\n",
       "       dropoff_latitude  passenger_count          hour           day  \\\n",
       "count      1.957717e+06     1.957717e+06  1.957717e+06  1.957717e+06   \n",
       "mean       4.075142e+01     1.684258e+00  1.350849e+01  1.570591e+01   \n",
       "std        3.272518e-02     1.306724e+00  6.513942e+00  8.682180e+00   \n",
       "min        4.050029e+01     0.000000e+00  0.000000e+00  1.000000e+00   \n",
       "25%        4.073553e+01     1.000000e+00  9.000000e+00  8.000000e+00   \n",
       "50%        4.075383e+01     1.000000e+00  1.400000e+01  1.600000e+01   \n",
       "75%        4.076839e+01     2.000000e+00  1.900000e+01  2.300000e+01   \n",
       "max        4.169126e+01     9.000000e+00  2.300000e+01  3.100000e+01   \n",
       "\n",
       "              month          year   day_of_week      distance  \\\n",
       "count  1.957717e+06  1.957717e+06  1.957717e+06  1.957717e+06   \n",
       "mean   6.269519e+00  2.011737e+03  3.041295e+00  2.067940e+00   \n",
       "std    3.437981e+00  1.863375e+00  1.949910e+00  2.344303e+00   \n",
       "min    1.000000e+00  2.009000e+03  0.000000e+00  0.000000e+00   \n",
       "25%    3.000000e+00  2.010000e+03  1.000000e+00  7.789511e-01   \n",
       "50%    6.000000e+00  2.012000e+03  3.000000e+00  1.337244e+00   \n",
       "75%    9.000000e+00  2.013000e+03  5.000000e+00  2.431993e+00   \n",
       "max    1.200000e+01  2.015000e+03  6.000000e+00  7.133064e+01   \n",
       "\n",
       "       abs_diff_longitude  abs_diff_latitude  \n",
       "count        1.957717e+06       1.957717e+06  \n",
       "mean         2.278713e-02       2.131913e-02  \n",
       "std          3.519005e-02       2.415512e-02  \n",
       "min          0.000000e+00       0.000000e+00  \n",
       "25%          6.129000e-03       6.933000e-03  \n",
       "50%          1.269600e-02       1.416000e-02  \n",
       "75%          2.392000e-02       2.719600e-02  \n",
       "max          1.193331e+00       8.809624e-01  "
      ]
     },
     "execution_count": 74,
     "metadata": {},
     "output_type": "execute_result"
    }
   ],
   "source": [
    "data.describe()"
   ]
  },
  {
   "cell_type": "markdown",
   "metadata": {},
   "source": [
    "Now we need to append the fare_amount where the distance is zero due to same pickup and dropoff longitudes.\n",
    "We have 3 time periods\n",
    "            "
   ]
  },
  {
   "cell_type": "markdown",
   "metadata": {},
   "source": [
    "             Weekdays ( 6AM to 4PM ) & Weekends - 2.5 + distance * 1.5\n",
    "             "
   ]
  },
  {
   "cell_type": "markdown",
   "metadata": {},
   "source": [
    "             Weekdays ( 4PM to 8PM ) - 2.5 + 1 + distance * 1.5\n",
    "\n"
   ]
  },
  {
   "cell_type": "markdown",
   "metadata": {},
   "source": [
    "             Weekdays & Weekends ( 8PM to 6AM) - 2.5 + 0.5 + distance * 1.5"
   ]
  },
  {
   "cell_type": "code",
   "execution_count": 73,
   "metadata": {},
   "outputs": [
    {
     "data": {
      "text/html": [
       "<div>\n",
       "<style scoped>\n",
       "    .dataframe tbody tr th:only-of-type {\n",
       "        vertical-align: middle;\n",
       "    }\n",
       "\n",
       "    .dataframe tbody tr th {\n",
       "        vertical-align: top;\n",
       "    }\n",
       "\n",
       "    .dataframe thead th {\n",
       "        text-align: right;\n",
       "    }\n",
       "</style>\n",
       "<table border=\"1\" class=\"dataframe\">\n",
       "  <thead>\n",
       "    <tr style=\"text-align: right;\">\n",
       "      <th></th>\n",
       "      <th>fare_amount</th>\n",
       "      <th>pickup_longitude</th>\n",
       "      <th>pickup_latitude</th>\n",
       "      <th>dropoff_longitude</th>\n",
       "      <th>dropoff_latitude</th>\n",
       "      <th>passenger_count</th>\n",
       "      <th>hour</th>\n",
       "      <th>day</th>\n",
       "      <th>month</th>\n",
       "      <th>year</th>\n",
       "      <th>day_of_week</th>\n",
       "      <th>distance</th>\n",
       "      <th>abs_diff_longitude</th>\n",
       "      <th>abs_diff_latitude</th>\n",
       "    </tr>\n",
       "  </thead>\n",
       "  <tbody>\n",
       "    <tr>\n",
       "      <th>count</th>\n",
       "      <td>158.000000</td>\n",
       "      <td>158.000000</td>\n",
       "      <td>158.000000</td>\n",
       "      <td>158.000000</td>\n",
       "      <td>158.000000</td>\n",
       "      <td>158.000000</td>\n",
       "      <td>158.000000</td>\n",
       "      <td>158.000000</td>\n",
       "      <td>158.000000</td>\n",
       "      <td>158.000000</td>\n",
       "      <td>158.000000</td>\n",
       "      <td>158.000000</td>\n",
       "      <td>158.0</td>\n",
       "      <td>158.0</td>\n",
       "    </tr>\n",
       "    <tr>\n",
       "      <th>mean</th>\n",
       "      <td>10.303354</td>\n",
       "      <td>-73.933231</td>\n",
       "      <td>40.766977</td>\n",
       "      <td>-73.933231</td>\n",
       "      <td>40.766977</td>\n",
       "      <td>1.487342</td>\n",
       "      <td>13.170886</td>\n",
       "      <td>15.588608</td>\n",
       "      <td>5.791139</td>\n",
       "      <td>2011.367089</td>\n",
       "      <td>2.797468</td>\n",
       "      <td>4.907770</td>\n",
       "      <td>0.0</td>\n",
       "      <td>0.0</td>\n",
       "    </tr>\n",
       "    <tr>\n",
       "      <th>std</th>\n",
       "      <td>13.867707</td>\n",
       "      <td>0.161056</td>\n",
       "      <td>0.114913</td>\n",
       "      <td>0.161056</td>\n",
       "      <td>0.114913</td>\n",
       "      <td>1.075123</td>\n",
       "      <td>6.476998</td>\n",
       "      <td>8.766707</td>\n",
       "      <td>3.284889</td>\n",
       "      <td>1.644735</td>\n",
       "      <td>1.967117</td>\n",
       "      <td>8.721829</td>\n",
       "      <td>0.0</td>\n",
       "      <td>0.0</td>\n",
       "    </tr>\n",
       "    <tr>\n",
       "      <th>min</th>\n",
       "      <td>2.500000</td>\n",
       "      <td>-74.181602</td>\n",
       "      <td>40.616788</td>\n",
       "      <td>-74.181602</td>\n",
       "      <td>40.616788</td>\n",
       "      <td>0.000000</td>\n",
       "      <td>0.000000</td>\n",
       "      <td>1.000000</td>\n",
       "      <td>1.000000</td>\n",
       "      <td>2009.000000</td>\n",
       "      <td>0.000000</td>\n",
       "      <td>0.000000</td>\n",
       "      <td>0.0</td>\n",
       "      <td>0.0</td>\n",
       "    </tr>\n",
       "    <tr>\n",
       "      <th>25%</th>\n",
       "      <td>4.900000</td>\n",
       "      <td>-73.990522</td>\n",
       "      <td>40.734843</td>\n",
       "      <td>-73.990522</td>\n",
       "      <td>40.734843</td>\n",
       "      <td>1.000000</td>\n",
       "      <td>9.000000</td>\n",
       "      <td>8.000000</td>\n",
       "      <td>3.000000</td>\n",
       "      <td>2010.000000</td>\n",
       "      <td>1.000000</td>\n",
       "      <td>1.509434</td>\n",
       "      <td>0.0</td>\n",
       "      <td>0.0</td>\n",
       "    </tr>\n",
       "    <tr>\n",
       "      <th>50%</th>\n",
       "      <td>6.500000</td>\n",
       "      <td>-73.975454</td>\n",
       "      <td>40.751588</td>\n",
       "      <td>-73.975454</td>\n",
       "      <td>40.751588</td>\n",
       "      <td>1.000000</td>\n",
       "      <td>14.000000</td>\n",
       "      <td>15.000000</td>\n",
       "      <td>6.000000</td>\n",
       "      <td>2011.000000</td>\n",
       "      <td>3.000000</td>\n",
       "      <td>2.515723</td>\n",
       "      <td>0.0</td>\n",
       "      <td>0.0</td>\n",
       "    </tr>\n",
       "    <tr>\n",
       "      <th>75%</th>\n",
       "      <td>9.300000</td>\n",
       "      <td>-73.948569</td>\n",
       "      <td>40.768128</td>\n",
       "      <td>-73.948569</td>\n",
       "      <td>40.768128</td>\n",
       "      <td>1.750000</td>\n",
       "      <td>19.000000</td>\n",
       "      <td>23.000000</td>\n",
       "      <td>8.000000</td>\n",
       "      <td>2012.000000</td>\n",
       "      <td>4.000000</td>\n",
       "      <td>4.276730</td>\n",
       "      <td>0.0</td>\n",
       "      <td>0.0</td>\n",
       "    </tr>\n",
       "    <tr>\n",
       "      <th>max</th>\n",
       "      <td>96.000000</td>\n",
       "      <td>-73.137393</td>\n",
       "      <td>41.366138</td>\n",
       "      <td>-73.137393</td>\n",
       "      <td>41.366138</td>\n",
       "      <td>6.000000</td>\n",
       "      <td>23.000000</td>\n",
       "      <td>31.000000</td>\n",
       "      <td>12.000000</td>\n",
       "      <td>2015.000000</td>\n",
       "      <td>6.000000</td>\n",
       "      <td>58.805031</td>\n",
       "      <td>0.0</td>\n",
       "      <td>0.0</td>\n",
       "    </tr>\n",
       "  </tbody>\n",
       "</table>\n",
       "</div>"
      ],
      "text/plain": [
       "<div>\n",
       "<style scoped>\n",
       "    .dataframe tbody tr th:only-of-type {\n",
       "        vertical-align: middle;\n",
       "    }\n",
       "\n",
       "    .dataframe tbody tr th {\n",
       "        vertical-align: top;\n",
       "    }\n",
       "\n",
       "    .dataframe thead th {\n",
       "        text-align: right;\n",
       "    }\n",
       "</style>\n",
       "<table border=\"1\" class=\"dataframe\">\n",
       "  <thead>\n",
       "    <tr style=\"text-align: right;\">\n",
       "      <th></th>\n",
       "      <th>fare_amount</th>\n",
       "      <th>pickup_longitude</th>\n",
       "      <th>pickup_latitude</th>\n",
       "      <th>dropoff_longitude</th>\n",
       "      <th>dropoff_latitude</th>\n",
       "      <th>passenger_count</th>\n",
       "      <th>hour</th>\n",
       "      <th>day</th>\n",
       "      <th>month</th>\n",
       "      <th>year</th>\n",
       "      <th>day_of_week</th>\n",
       "      <th>distance</th>\n",
       "      <th>abs_diff_longitude</th>\n",
       "      <th>abs_diff_latitude</th>\n",
       "    </tr>\n",
       "  </thead>\n",
       "  <tbody>\n",
       "    <tr>\n",
       "      <th>count</th>\n",
       "      <td>158.000000</td>\n",
       "      <td>158.000000</td>\n",
       "      <td>158.000000</td>\n",
       "      <td>158.000000</td>\n",
       "      <td>158.000000</td>\n",
       "      <td>158.000000</td>\n",
       "      <td>158.000000</td>\n",
       "      <td>158.000000</td>\n",
       "      <td>158.000000</td>\n",
       "      <td>158.000000</td>\n",
       "      <td>158.000000</td>\n",
       "      <td>158.000000</td>\n",
       "      <td>158.0</td>\n",
       "      <td>158.0</td>\n",
       "    </tr>\n",
       "    <tr>\n",
       "      <th>mean</th>\n",
       "      <td>10.303354</td>\n",
       "      <td>-73.933231</td>\n",
       "      <td>40.766977</td>\n",
       "      <td>-73.933231</td>\n",
       "      <td>40.766977</td>\n",
       "      <td>1.487342</td>\n",
       "      <td>13.170886</td>\n",
       "      <td>15.588608</td>\n",
       "      <td>5.791139</td>\n",
       "      <td>2011.367089</td>\n",
       "      <td>2.797468</td>\n",
       "      <td>4.907770</td>\n",
       "      <td>0.0</td>\n",
       "      <td>0.0</td>\n",
       "    </tr>\n",
       "    <tr>\n",
       "      <th>std</th>\n",
       "      <td>13.867707</td>\n",
       "      <td>0.161056</td>\n",
       "      <td>0.114913</td>\n",
       "      <td>0.161056</td>\n",
       "      <td>0.114913</td>\n",
       "      <td>1.075123</td>\n",
       "      <td>6.476998</td>\n",
       "      <td>8.766707</td>\n",
       "      <td>3.284889</td>\n",
       "      <td>1.644735</td>\n",
       "      <td>1.967117</td>\n",
       "      <td>8.721829</td>\n",
       "      <td>0.0</td>\n",
       "      <td>0.0</td>\n",
       "    </tr>\n",
       "    <tr>\n",
       "      <th>min</th>\n",
       "      <td>2.500000</td>\n",
       "      <td>-74.181602</td>\n",
       "      <td>40.616788</td>\n",
       "      <td>-74.181602</td>\n",
       "      <td>40.616788</td>\n",
       "      <td>0.000000</td>\n",
       "      <td>0.000000</td>\n",
       "      <td>1.000000</td>\n",
       "      <td>1.000000</td>\n",
       "      <td>2009.000000</td>\n",
       "      <td>0.000000</td>\n",
       "      <td>0.000000</td>\n",
       "      <td>0.0</td>\n",
       "      <td>0.0</td>\n",
       "    </tr>\n",
       "    <tr>\n",
       "      <th>25%</th>\n",
       "      <td>4.900000</td>\n",
       "      <td>-73.990522</td>\n",
       "      <td>40.734843</td>\n",
       "      <td>-73.990522</td>\n",
       "      <td>40.734843</td>\n",
       "      <td>1.000000</td>\n",
       "      <td>9.000000</td>\n",
       "      <td>8.000000</td>\n",
       "      <td>3.000000</td>\n",
       "      <td>2010.000000</td>\n",
       "      <td>1.000000</td>\n",
       "      <td>1.509434</td>\n",
       "      <td>0.0</td>\n",
       "      <td>0.0</td>\n",
       "    </tr>\n",
       "    <tr>\n",
       "      <th>50%</th>\n",
       "      <td>6.500000</td>\n",
       "      <td>-73.975454</td>\n",
       "      <td>40.751588</td>\n",
       "      <td>-73.975454</td>\n",
       "      <td>40.751588</td>\n",
       "      <td>1.000000</td>\n",
       "      <td>14.000000</td>\n",
       "      <td>15.000000</td>\n",
       "      <td>6.000000</td>\n",
       "      <td>2011.000000</td>\n",
       "      <td>3.000000</td>\n",
       "      <td>2.515723</td>\n",
       "      <td>0.0</td>\n",
       "      <td>0.0</td>\n",
       "    </tr>\n",
       "    <tr>\n",
       "      <th>75%</th>\n",
       "      <td>9.300000</td>\n",
       "      <td>-73.948569</td>\n",
       "      <td>40.768128</td>\n",
       "      <td>-73.948569</td>\n",
       "      <td>40.768128</td>\n",
       "      <td>1.750000</td>\n",
       "      <td>19.000000</td>\n",
       "      <td>23.000000</td>\n",
       "      <td>8.000000</td>\n",
       "      <td>2012.000000</td>\n",
       "      <td>4.000000</td>\n",
       "      <td>4.276730</td>\n",
       "      <td>0.0</td>\n",
       "      <td>0.0</td>\n",
       "    </tr>\n",
       "    <tr>\n",
       "      <th>max</th>\n",
       "      <td>96.000000</td>\n",
       "      <td>-73.137393</td>\n",
       "      <td>41.366138</td>\n",
       "      <td>-73.137393</td>\n",
       "      <td>41.366138</td>\n",
       "      <td>6.000000</td>\n",
       "      <td>23.000000</td>\n",
       "      <td>31.000000</td>\n",
       "      <td>12.000000</td>\n",
       "      <td>2015.000000</td>\n",
       "      <td>6.000000</td>\n",
       "      <td>58.805031</td>\n",
       "      <td>0.0</td>\n",
       "      <td>0.0</td>\n",
       "    </tr>\n",
       "  </tbody>\n",
       "</table>\n",
       "</div>"
      ]
     },
     "execution_count": 73,
     "metadata": {},
     "output_type": "execute_result"
    }
   ],
   "source": [
    "data_dist_zero.describe()"
   ]
  },
  {
   "cell_type": "code",
   "execution_count": 77,
   "metadata": {},
   "outputs": [
    {
     "data": {
      "text/html": [
       "<div>\n",
       "<style scoped>\n",
       "    .dataframe tbody tr th:only-of-type {\n",
       "        vertical-align: middle;\n",
       "    }\n",
       "\n",
       "    .dataframe tbody tr th {\n",
       "        vertical-align: top;\n",
       "    }\n",
       "\n",
       "    .dataframe thead th {\n",
       "        text-align: right;\n",
       "    }\n",
       "</style>\n",
       "<table border=\"1\" class=\"dataframe\">\n",
       "  <thead>\n",
       "    <tr style=\"text-align: right;\">\n",
       "      <th></th>\n",
       "      <th>fare_amount</th>\n",
       "      <th>pickup_longitude</th>\n",
       "      <th>pickup_latitude</th>\n",
       "      <th>dropoff_longitude</th>\n",
       "      <th>dropoff_latitude</th>\n",
       "      <th>passenger_count</th>\n",
       "      <th>hour</th>\n",
       "      <th>day</th>\n",
       "      <th>month</th>\n",
       "      <th>year</th>\n",
       "      <th>day_of_week</th>\n",
       "      <th>distance</th>\n",
       "      <th>abs_diff_longitude</th>\n",
       "      <th>abs_diff_latitude</th>\n",
       "    </tr>\n",
       "  </thead>\n",
       "  <tbody>\n",
       "    <tr>\n",
       "      <th>count</th>\n",
       "      <td>1.957717e+06</td>\n",
       "      <td>1.957717e+06</td>\n",
       "      <td>1.957717e+06</td>\n",
       "      <td>1.957717e+06</td>\n",
       "      <td>1.957717e+06</td>\n",
       "      <td>1.957717e+06</td>\n",
       "      <td>1.957717e+06</td>\n",
       "      <td>1.957717e+06</td>\n",
       "      <td>1.957717e+06</td>\n",
       "      <td>1.957717e+06</td>\n",
       "      <td>1.957717e+06</td>\n",
       "      <td>1.957717e+06</td>\n",
       "      <td>1.957717e+06</td>\n",
       "      <td>1.957717e+06</td>\n",
       "    </tr>\n",
       "    <tr>\n",
       "      <th>mean</th>\n",
       "      <td>1.132524e+01</td>\n",
       "      <td>-7.397513e+01</td>\n",
       "      <td>4.075107e+01</td>\n",
       "      <td>-7.397424e+01</td>\n",
       "      <td>4.075142e+01</td>\n",
       "      <td>1.684258e+00</td>\n",
       "      <td>1.350849e+01</td>\n",
       "      <td>1.570591e+01</td>\n",
       "      <td>6.269519e+00</td>\n",
       "      <td>2.011737e+03</td>\n",
       "      <td>3.041295e+00</td>\n",
       "      <td>2.067940e+00</td>\n",
       "      <td>2.278713e-02</td>\n",
       "      <td>2.131913e-02</td>\n",
       "    </tr>\n",
       "    <tr>\n",
       "      <th>std</th>\n",
       "      <td>9.682160e+00</td>\n",
       "      <td>3.844987e-02</td>\n",
       "      <td>2.956012e-02</td>\n",
       "      <td>3.758218e-02</td>\n",
       "      <td>3.272518e-02</td>\n",
       "      <td>1.306724e+00</td>\n",
       "      <td>6.513942e+00</td>\n",
       "      <td>8.682180e+00</td>\n",
       "      <td>3.437981e+00</td>\n",
       "      <td>1.863375e+00</td>\n",
       "      <td>1.949910e+00</td>\n",
       "      <td>2.344303e+00</td>\n",
       "      <td>3.519005e-02</td>\n",
       "      <td>2.415512e-02</td>\n",
       "    </tr>\n",
       "    <tr>\n",
       "      <th>min</th>\n",
       "      <td>2.500000e+00</td>\n",
       "      <td>-7.429941e+01</td>\n",
       "      <td>4.050183e+01</td>\n",
       "      <td>-7.429973e+01</td>\n",
       "      <td>4.050029e+01</td>\n",
       "      <td>0.000000e+00</td>\n",
       "      <td>0.000000e+00</td>\n",
       "      <td>1.000000e+00</td>\n",
       "      <td>1.000000e+00</td>\n",
       "      <td>2.009000e+03</td>\n",
       "      <td>0.000000e+00</td>\n",
       "      <td>0.000000e+00</td>\n",
       "      <td>0.000000e+00</td>\n",
       "      <td>0.000000e+00</td>\n",
       "    </tr>\n",
       "    <tr>\n",
       "      <th>25%</th>\n",
       "      <td>6.000000e+00</td>\n",
       "      <td>-7.399229e+01</td>\n",
       "      <td>4.073654e+01</td>\n",
       "      <td>-7.399159e+01</td>\n",
       "      <td>4.073553e+01</td>\n",
       "      <td>1.000000e+00</td>\n",
       "      <td>9.000000e+00</td>\n",
       "      <td>8.000000e+00</td>\n",
       "      <td>3.000000e+00</td>\n",
       "      <td>2.010000e+03</td>\n",
       "      <td>1.000000e+00</td>\n",
       "      <td>7.789511e-01</td>\n",
       "      <td>6.129000e-03</td>\n",
       "      <td>6.933000e-03</td>\n",
       "    </tr>\n",
       "    <tr>\n",
       "      <th>50%</th>\n",
       "      <td>8.500000e+00</td>\n",
       "      <td>-7.398210e+01</td>\n",
       "      <td>4.075334e+01</td>\n",
       "      <td>-7.398062e+01</td>\n",
       "      <td>4.075383e+01</td>\n",
       "      <td>1.000000e+00</td>\n",
       "      <td>1.400000e+01</td>\n",
       "      <td>1.600000e+01</td>\n",
       "      <td>6.000000e+00</td>\n",
       "      <td>2.012000e+03</td>\n",
       "      <td>3.000000e+00</td>\n",
       "      <td>1.337244e+00</td>\n",
       "      <td>1.269600e-02</td>\n",
       "      <td>1.416000e-02</td>\n",
       "    </tr>\n",
       "    <tr>\n",
       "      <th>75%</th>\n",
       "      <td>1.250000e+01</td>\n",
       "      <td>-7.396834e+01</td>\n",
       "      <td>4.076752e+01</td>\n",
       "      <td>-7.396536e+01</td>\n",
       "      <td>4.076839e+01</td>\n",
       "      <td>2.000000e+00</td>\n",
       "      <td>1.900000e+01</td>\n",
       "      <td>2.300000e+01</td>\n",
       "      <td>9.000000e+00</td>\n",
       "      <td>2.013000e+03</td>\n",
       "      <td>5.000000e+00</td>\n",
       "      <td>2.431993e+00</td>\n",
       "      <td>2.392000e-02</td>\n",
       "      <td>2.719600e-02</td>\n",
       "    </tr>\n",
       "    <tr>\n",
       "      <th>max</th>\n",
       "      <td>5.000000e+02</td>\n",
       "      <td>-7.294086e+01</td>\n",
       "      <td>4.169685e+01</td>\n",
       "      <td>-7.290000e+01</td>\n",
       "      <td>4.169126e+01</td>\n",
       "      <td>9.000000e+00</td>\n",
       "      <td>2.300000e+01</td>\n",
       "      <td>3.100000e+01</td>\n",
       "      <td>1.200000e+01</td>\n",
       "      <td>2.015000e+03</td>\n",
       "      <td>6.000000e+00</td>\n",
       "      <td>7.133064e+01</td>\n",
       "      <td>1.193331e+00</td>\n",
       "      <td>8.809624e-01</td>\n",
       "    </tr>\n",
       "  </tbody>\n",
       "</table>\n",
       "</div>"
      ],
      "text/plain": [
       "        fare_amount  pickup_longitude  pickup_latitude  dropoff_longitude  \\\n",
       "count  1.957717e+06      1.957717e+06     1.957717e+06       1.957717e+06   \n",
       "mean   1.132524e+01     -7.397513e+01     4.075107e+01      -7.397424e+01   \n",
       "std    9.682160e+00      3.844987e-02     2.956012e-02       3.758218e-02   \n",
       "min    2.500000e+00     -7.429941e+01     4.050183e+01      -7.429973e+01   \n",
       "25%    6.000000e+00     -7.399229e+01     4.073654e+01      -7.399159e+01   \n",
       "50%    8.500000e+00     -7.398210e+01     4.075334e+01      -7.398062e+01   \n",
       "75%    1.250000e+01     -7.396834e+01     4.076752e+01      -7.396536e+01   \n",
       "max    5.000000e+02     -7.294086e+01     4.169685e+01      -7.290000e+01   \n",
       "\n",
       "       dropoff_latitude  passenger_count          hour           day  \\\n",
       "count      1.957717e+06     1.957717e+06  1.957717e+06  1.957717e+06   \n",
       "mean       4.075142e+01     1.684258e+00  1.350849e+01  1.570591e+01   \n",
       "std        3.272518e-02     1.306724e+00  6.513942e+00  8.682180e+00   \n",
       "min        4.050029e+01     0.000000e+00  0.000000e+00  1.000000e+00   \n",
       "25%        4.073553e+01     1.000000e+00  9.000000e+00  8.000000e+00   \n",
       "50%        4.075383e+01     1.000000e+00  1.400000e+01  1.600000e+01   \n",
       "75%        4.076839e+01     2.000000e+00  1.900000e+01  2.300000e+01   \n",
       "max        4.169126e+01     9.000000e+00  2.300000e+01  3.100000e+01   \n",
       "\n",
       "              month          year   day_of_week      distance  \\\n",
       "count  1.957717e+06  1.957717e+06  1.957717e+06  1.957717e+06   \n",
       "mean   6.269519e+00  2.011737e+03  3.041295e+00  2.067940e+00   \n",
       "std    3.437981e+00  1.863375e+00  1.949910e+00  2.344303e+00   \n",
       "min    1.000000e+00  2.009000e+03  0.000000e+00  0.000000e+00   \n",
       "25%    3.000000e+00  2.010000e+03  1.000000e+00  7.789511e-01   \n",
       "50%    6.000000e+00  2.012000e+03  3.000000e+00  1.337244e+00   \n",
       "75%    9.000000e+00  2.013000e+03  5.000000e+00  2.431993e+00   \n",
       "max    1.200000e+01  2.015000e+03  6.000000e+00  7.133064e+01   \n",
       "\n",
       "       abs_diff_longitude  abs_diff_latitude  \n",
       "count        1.957717e+06       1.957717e+06  \n",
       "mean         2.278713e-02       2.131913e-02  \n",
       "std          3.519005e-02       2.415512e-02  \n",
       "min          0.000000e+00       0.000000e+00  \n",
       "25%          6.129000e-03       6.933000e-03  \n",
       "50%          1.269600e-02       1.416000e-02  \n",
       "75%          2.392000e-02       2.719600e-02  \n",
       "max          1.193331e+00       8.809624e-01  "
      ]
     },
     "execution_count": 77,
     "metadata": {},
     "output_type": "execute_result"
    }
   ],
   "source": [
    "data.describe()"
   ]
  },
  {
   "cell_type": "code",
   "execution_count": 67,
   "metadata": {},
   "outputs": [],
   "source": [
    "data=data[data['fare_amount']>3.0]"
   ]
  },
  {
   "cell_type": "code",
   "execution_count": 77,
   "metadata": {
    "scrolled": true
   },
   "outputs": [
    {
     "data": {
      "text/html": [
       "<div>\n",
       "<style scoped>\n",
       "    .dataframe tbody tr th:only-of-type {\n",
       "        vertical-align: middle;\n",
       "    }\n",
       "\n",
       "    .dataframe tbody tr th {\n",
       "        vertical-align: top;\n",
       "    }\n",
       "\n",
       "    .dataframe thead th {\n",
       "        text-align: right;\n",
       "    }\n",
       "</style>\n",
       "<table border=\"1\" class=\"dataframe\">\n",
       "  <thead>\n",
       "    <tr style=\"text-align: right;\">\n",
       "      <th></th>\n",
       "      <th>fare_amount</th>\n",
       "      <th>pickup_longitude</th>\n",
       "      <th>pickup_latitude</th>\n",
       "      <th>dropoff_longitude</th>\n",
       "      <th>dropoff_latitude</th>\n",
       "      <th>passenger_count</th>\n",
       "      <th>hour</th>\n",
       "      <th>day</th>\n",
       "      <th>month</th>\n",
       "      <th>year</th>\n",
       "      <th>day_of_week</th>\n",
       "      <th>distance</th>\n",
       "      <th>abs_diff_longitude</th>\n",
       "      <th>abs_diff_latitude</th>\n",
       "    </tr>\n",
       "  </thead>\n",
       "  <tbody>\n",
       "    <tr>\n",
       "      <th>count</th>\n",
       "      <td>15904.000000</td>\n",
       "      <td>15904.000000</td>\n",
       "      <td>15904.000000</td>\n",
       "      <td>15904.000000</td>\n",
       "      <td>15904.000000</td>\n",
       "      <td>15904.000000</td>\n",
       "      <td>15904.000000</td>\n",
       "      <td>15904.000000</td>\n",
       "      <td>15904.000000</td>\n",
       "      <td>15904.000000</td>\n",
       "      <td>15904.000000</td>\n",
       "      <td>15904.000000</td>\n",
       "      <td>15904.000000</td>\n",
       "      <td>15904.000000</td>\n",
       "    </tr>\n",
       "    <tr>\n",
       "      <th>mean</th>\n",
       "      <td>11.336494</td>\n",
       "      <td>-73.974973</td>\n",
       "      <td>40.751323</td>\n",
       "      <td>-73.973889</td>\n",
       "      <td>40.751867</td>\n",
       "      <td>1.647259</td>\n",
       "      <td>13.501572</td>\n",
       "      <td>15.665304</td>\n",
       "      <td>6.260438</td>\n",
       "      <td>2011.739437</td>\n",
       "      <td>3.035337</td>\n",
       "      <td>2.152182</td>\n",
       "      <td>0.023382</td>\n",
       "      <td>0.021613</td>\n",
       "    </tr>\n",
       "    <tr>\n",
       "      <th>std</th>\n",
       "      <td>9.461797</td>\n",
       "      <td>0.040117</td>\n",
       "      <td>0.030870</td>\n",
       "      <td>0.038712</td>\n",
       "      <td>0.033329</td>\n",
       "      <td>1.269038</td>\n",
       "      <td>6.512111</td>\n",
       "      <td>8.684618</td>\n",
       "      <td>3.446169</td>\n",
       "      <td>1.868739</td>\n",
       "      <td>1.968438</td>\n",
       "      <td>2.657238</td>\n",
       "      <td>0.037443</td>\n",
       "      <td>0.025630</td>\n",
       "    </tr>\n",
       "    <tr>\n",
       "      <th>min</th>\n",
       "      <td>3.300000</td>\n",
       "      <td>-74.229138</td>\n",
       "      <td>40.571310</td>\n",
       "      <td>-74.227047</td>\n",
       "      <td>40.543870</td>\n",
       "      <td>0.000000</td>\n",
       "      <td>0.000000</td>\n",
       "      <td>1.000000</td>\n",
       "      <td>1.000000</td>\n",
       "      <td>2009.000000</td>\n",
       "      <td>0.000000</td>\n",
       "      <td>0.000125</td>\n",
       "      <td>0.000000</td>\n",
       "      <td>0.000000</td>\n",
       "    </tr>\n",
       "    <tr>\n",
       "      <th>25%</th>\n",
       "      <td>6.000000</td>\n",
       "      <td>-73.992408</td>\n",
       "      <td>40.736609</td>\n",
       "      <td>-73.991342</td>\n",
       "      <td>40.736394</td>\n",
       "      <td>1.000000</td>\n",
       "      <td>9.000000</td>\n",
       "      <td>8.000000</td>\n",
       "      <td>3.000000</td>\n",
       "      <td>2010.000000</td>\n",
       "      <td>1.000000</td>\n",
       "      <td>0.807913</td>\n",
       "      <td>0.006197</td>\n",
       "      <td>0.007162</td>\n",
       "    </tr>\n",
       "    <tr>\n",
       "      <th>50%</th>\n",
       "      <td>8.500000</td>\n",
       "      <td>-73.982088</td>\n",
       "      <td>40.753333</td>\n",
       "      <td>-73.980567</td>\n",
       "      <td>40.754252</td>\n",
       "      <td>1.000000</td>\n",
       "      <td>14.000000</td>\n",
       "      <td>16.000000</td>\n",
       "      <td>6.000000</td>\n",
       "      <td>2012.000000</td>\n",
       "      <td>3.000000</td>\n",
       "      <td>1.378343</td>\n",
       "      <td>0.012858</td>\n",
       "      <td>0.014346</td>\n",
       "    </tr>\n",
       "    <tr>\n",
       "      <th>75%</th>\n",
       "      <td>12.500000</td>\n",
       "      <td>-73.968181</td>\n",
       "      <td>40.767793</td>\n",
       "      <td>-73.965531</td>\n",
       "      <td>40.768305</td>\n",
       "      <td>2.000000</td>\n",
       "      <td>19.000000</td>\n",
       "      <td>23.000000</td>\n",
       "      <td>9.000000</td>\n",
       "      <td>2013.000000</td>\n",
       "      <td>5.000000</td>\n",
       "      <td>2.479198</td>\n",
       "      <td>0.024441</td>\n",
       "      <td>0.027121</td>\n",
       "    </tr>\n",
       "    <tr>\n",
       "      <th>max</th>\n",
       "      <td>165.000000</td>\n",
       "      <td>-73.137393</td>\n",
       "      <td>41.366138</td>\n",
       "      <td>-73.137393</td>\n",
       "      <td>41.366138</td>\n",
       "      <td>6.000000</td>\n",
       "      <td>23.000000</td>\n",
       "      <td>31.000000</td>\n",
       "      <td>12.000000</td>\n",
       "      <td>2015.000000</td>\n",
       "      <td>6.000000</td>\n",
       "      <td>62.821158</td>\n",
       "      <td>0.863547</td>\n",
       "      <td>0.634415</td>\n",
       "    </tr>\n",
       "  </tbody>\n",
       "</table>\n",
       "</div>"
      ],
      "text/plain": [
       "<div>\n",
       "<style scoped>\n",
       "    .dataframe tbody tr th:only-of-type {\n",
       "        vertical-align: middle;\n",
       "    }\n",
       "\n",
       "    .dataframe tbody tr th {\n",
       "        vertical-align: top;\n",
       "    }\n",
       "\n",
       "    .dataframe thead th {\n",
       "        text-align: right;\n",
       "    }\n",
       "</style>\n",
       "<table border=\"1\" class=\"dataframe\">\n",
       "  <thead>\n",
       "    <tr style=\"text-align: right;\">\n",
       "      <th></th>\n",
       "      <th>fare_amount</th>\n",
       "      <th>pickup_longitude</th>\n",
       "      <th>pickup_latitude</th>\n",
       "      <th>dropoff_longitude</th>\n",
       "      <th>dropoff_latitude</th>\n",
       "      <th>passenger_count</th>\n",
       "      <th>hour</th>\n",
       "      <th>day</th>\n",
       "      <th>month</th>\n",
       "      <th>year</th>\n",
       "      <th>day_of_week</th>\n",
       "      <th>distance</th>\n",
       "      <th>abs_diff_longitude</th>\n",
       "      <th>abs_diff_latitude</th>\n",
       "    </tr>\n",
       "  </thead>\n",
       "  <tbody>\n",
       "    <tr>\n",
       "      <th>count</th>\n",
       "      <td>15904.000000</td>\n",
       "      <td>15904.000000</td>\n",
       "      <td>15904.000000</td>\n",
       "      <td>15904.000000</td>\n",
       "      <td>15904.000000</td>\n",
       "      <td>15904.000000</td>\n",
       "      <td>15904.000000</td>\n",
       "      <td>15904.000000</td>\n",
       "      <td>15904.000000</td>\n",
       "      <td>15904.000000</td>\n",
       "      <td>15904.000000</td>\n",
       "      <td>15904.000000</td>\n",
       "      <td>15904.000000</td>\n",
       "      <td>15904.000000</td>\n",
       "    </tr>\n",
       "    <tr>\n",
       "      <th>mean</th>\n",
       "      <td>11.336494</td>\n",
       "      <td>-73.974973</td>\n",
       "      <td>40.751323</td>\n",
       "      <td>-73.973889</td>\n",
       "      <td>40.751867</td>\n",
       "      <td>1.647259</td>\n",
       "      <td>13.501572</td>\n",
       "      <td>15.665304</td>\n",
       "      <td>6.260438</td>\n",
       "      <td>2011.739437</td>\n",
       "      <td>3.035337</td>\n",
       "      <td>2.152182</td>\n",
       "      <td>0.023382</td>\n",
       "      <td>0.021613</td>\n",
       "    </tr>\n",
       "    <tr>\n",
       "      <th>std</th>\n",
       "      <td>9.461797</td>\n",
       "      <td>0.040117</td>\n",
       "      <td>0.030870</td>\n",
       "      <td>0.038712</td>\n",
       "      <td>0.033329</td>\n",
       "      <td>1.269038</td>\n",
       "      <td>6.512111</td>\n",
       "      <td>8.684618</td>\n",
       "      <td>3.446169</td>\n",
       "      <td>1.868739</td>\n",
       "      <td>1.968438</td>\n",
       "      <td>2.657238</td>\n",
       "      <td>0.037443</td>\n",
       "      <td>0.025630</td>\n",
       "    </tr>\n",
       "    <tr>\n",
       "      <th>min</th>\n",
       "      <td>3.300000</td>\n",
       "      <td>-74.229138</td>\n",
       "      <td>40.571310</td>\n",
       "      <td>-74.227047</td>\n",
       "      <td>40.543870</td>\n",
       "      <td>0.000000</td>\n",
       "      <td>0.000000</td>\n",
       "      <td>1.000000</td>\n",
       "      <td>1.000000</td>\n",
       "      <td>2009.000000</td>\n",
       "      <td>0.000000</td>\n",
       "      <td>0.000125</td>\n",
       "      <td>0.000000</td>\n",
       "      <td>0.000000</td>\n",
       "    </tr>\n",
       "    <tr>\n",
       "      <th>25%</th>\n",
       "      <td>6.000000</td>\n",
       "      <td>-73.992408</td>\n",
       "      <td>40.736609</td>\n",
       "      <td>-73.991342</td>\n",
       "      <td>40.736394</td>\n",
       "      <td>1.000000</td>\n",
       "      <td>9.000000</td>\n",
       "      <td>8.000000</td>\n",
       "      <td>3.000000</td>\n",
       "      <td>2010.000000</td>\n",
       "      <td>1.000000</td>\n",
       "      <td>0.807913</td>\n",
       "      <td>0.006197</td>\n",
       "      <td>0.007162</td>\n",
       "    </tr>\n",
       "    <tr>\n",
       "      <th>50%</th>\n",
       "      <td>8.500000</td>\n",
       "      <td>-73.982088</td>\n",
       "      <td>40.753333</td>\n",
       "      <td>-73.980567</td>\n",
       "      <td>40.754252</td>\n",
       "      <td>1.000000</td>\n",
       "      <td>14.000000</td>\n",
       "      <td>16.000000</td>\n",
       "      <td>6.000000</td>\n",
       "      <td>2012.000000</td>\n",
       "      <td>3.000000</td>\n",
       "      <td>1.378343</td>\n",
       "      <td>0.012858</td>\n",
       "      <td>0.014346</td>\n",
       "    </tr>\n",
       "    <tr>\n",
       "      <th>75%</th>\n",
       "      <td>12.500000</td>\n",
       "      <td>-73.968181</td>\n",
       "      <td>40.767793</td>\n",
       "      <td>-73.965531</td>\n",
       "      <td>40.768305</td>\n",
       "      <td>2.000000</td>\n",
       "      <td>19.000000</td>\n",
       "      <td>23.000000</td>\n",
       "      <td>9.000000</td>\n",
       "      <td>2013.000000</td>\n",
       "      <td>5.000000</td>\n",
       "      <td>2.479198</td>\n",
       "      <td>0.024441</td>\n",
       "      <td>0.027121</td>\n",
       "    </tr>\n",
       "    <tr>\n",
       "      <th>max</th>\n",
       "      <td>165.000000</td>\n",
       "      <td>-73.137393</td>\n",
       "      <td>41.366138</td>\n",
       "      <td>-73.137393</td>\n",
       "      <td>41.366138</td>\n",
       "      <td>6.000000</td>\n",
       "      <td>23.000000</td>\n",
       "      <td>31.000000</td>\n",
       "      <td>12.000000</td>\n",
       "      <td>2015.000000</td>\n",
       "      <td>6.000000</td>\n",
       "      <td>62.821158</td>\n",
       "      <td>0.863547</td>\n",
       "      <td>0.634415</td>\n",
       "    </tr>\n",
       "  </tbody>\n",
       "</table>\n",
       "</div>"
      ]
     },
     "execution_count": 77,
     "metadata": {},
     "output_type": "execute_result"
    }
   ],
   "source": [
    "data.describe()"
   ]
  },
  {
   "cell_type": "markdown",
   "metadata": {},
   "source": [
    "This is just an intuation step that the data will be linearly giving out the fare amounts. So, just considering the fare to be less than 200 and distance is limited to 100."
   ]
  },
  {
   "cell_type": "code",
   "execution_count": 68,
   "metadata": {},
   "outputs": [],
   "source": [
    "data=data[data['fare_amount']<200]"
   ]
  },
  {
   "cell_type": "code",
   "execution_count": 69,
   "metadata": {},
   "outputs": [],
   "source": [
    "data=data[data['distance']<100]\n"
   ]
  },
  {
   "cell_type": "code",
   "execution_count": 70,
   "metadata": {},
   "outputs": [],
   "source": [
    "data=data[data['passenger_count']>0]"
   ]
  },
  {
   "cell_type": "code",
   "execution_count": 71,
   "metadata": {
    "scrolled": true
   },
   "outputs": [
    {
     "data": {
      "text/html": [
       "<div>\n",
       "<style scoped>\n",
       "    .dataframe tbody tr th:only-of-type {\n",
       "        vertical-align: middle;\n",
       "    }\n",
       "\n",
       "    .dataframe tbody tr th {\n",
       "        vertical-align: top;\n",
       "    }\n",
       "\n",
       "    .dataframe thead th {\n",
       "        text-align: right;\n",
       "    }\n",
       "</style>\n",
       "<table border=\"1\" class=\"dataframe\">\n",
       "  <thead>\n",
       "    <tr style=\"text-align: right;\">\n",
       "      <th></th>\n",
       "      <th>fare_amount</th>\n",
       "      <th>pickup_longitude</th>\n",
       "      <th>pickup_latitude</th>\n",
       "      <th>dropoff_longitude</th>\n",
       "      <th>dropoff_latitude</th>\n",
       "      <th>passenger_count</th>\n",
       "      <th>hour</th>\n",
       "      <th>day</th>\n",
       "      <th>month</th>\n",
       "      <th>year</th>\n",
       "      <th>day_of_week</th>\n",
       "      <th>distance</th>\n",
       "      <th>abs_diff_longitude</th>\n",
       "      <th>abs_diff_latitude</th>\n",
       "    </tr>\n",
       "  </thead>\n",
       "  <tbody>\n",
       "    <tr>\n",
       "      <th>count</th>\n",
       "      <td>1.935406e+06</td>\n",
       "      <td>1.935406e+06</td>\n",
       "      <td>1.935406e+06</td>\n",
       "      <td>1.935406e+06</td>\n",
       "      <td>1.935406e+06</td>\n",
       "      <td>1.935406e+06</td>\n",
       "      <td>1.935406e+06</td>\n",
       "      <td>1.935406e+06</td>\n",
       "      <td>1.935406e+06</td>\n",
       "      <td>1.935406e+06</td>\n",
       "      <td>1.935406e+06</td>\n",
       "      <td>1.935406e+06</td>\n",
       "      <td>1.935406e+06</td>\n",
       "      <td>1.935406e+06</td>\n",
       "    </tr>\n",
       "    <tr>\n",
       "      <th>mean</th>\n",
       "      <td>1.139513e+01</td>\n",
       "      <td>-7.397520e+01</td>\n",
       "      <td>4.075107e+01</td>\n",
       "      <td>-7.397431e+01</td>\n",
       "      <td>4.075142e+01</td>\n",
       "      <td>1.691508e+00</td>\n",
       "      <td>1.351453e+01</td>\n",
       "      <td>1.570532e+01</td>\n",
       "      <td>6.271567e+00</td>\n",
       "      <td>2.011740e+03</td>\n",
       "      <td>3.041047e+00</td>\n",
       "      <td>2.082180e+00</td>\n",
       "      <td>2.294759e-02</td>\n",
       "      <td>2.146194e-02</td>\n",
       "    </tr>\n",
       "    <tr>\n",
       "      <th>std</th>\n",
       "      <td>9.596067e+00</td>\n",
       "      <td>3.821234e-02</td>\n",
       "      <td>2.942282e-02</td>\n",
       "      <td>3.729699e-02</td>\n",
       "      <td>3.260965e-02</td>\n",
       "      <td>1.305837e+00</td>\n",
       "      <td>6.513442e+00</td>\n",
       "      <td>8.681720e+00</td>\n",
       "      <td>3.437677e+00</td>\n",
       "      <td>1.865419e+00</td>\n",
       "      <td>1.949761e+00</td>\n",
       "      <td>2.340143e+00</td>\n",
       "      <td>3.520140e-02</td>\n",
       "      <td>2.410302e-02</td>\n",
       "    </tr>\n",
       "    <tr>\n",
       "      <th>min</th>\n",
       "      <td>3.010000e+00</td>\n",
       "      <td>-7.429941e+01</td>\n",
       "      <td>4.050183e+01</td>\n",
       "      <td>-7.429973e+01</td>\n",
       "      <td>4.050029e+01</td>\n",
       "      <td>1.000000e+00</td>\n",
       "      <td>0.000000e+00</td>\n",
       "      <td>1.000000e+00</td>\n",
       "      <td>1.000000e+00</td>\n",
       "      <td>2.009000e+03</td>\n",
       "      <td>0.000000e+00</td>\n",
       "      <td>0.000000e+00</td>\n",
       "      <td>0.000000e+00</td>\n",
       "      <td>0.000000e+00</td>\n",
       "    </tr>\n",
       "    <tr>\n",
       "      <th>25%</th>\n",
       "      <td>6.100000e+00</td>\n",
       "      <td>-7.399229e+01</td>\n",
       "      <td>4.073655e+01</td>\n",
       "      <td>-7.399160e+01</td>\n",
       "      <td>4.073553e+01</td>\n",
       "      <td>1.000000e+00</td>\n",
       "      <td>9.000000e+00</td>\n",
       "      <td>8.000000e+00</td>\n",
       "      <td>3.000000e+00</td>\n",
       "      <td>2.010000e+03</td>\n",
       "      <td>1.000000e+00</td>\n",
       "      <td>7.894245e-01</td>\n",
       "      <td>6.260000e-03</td>\n",
       "      <td>7.071000e-03</td>\n",
       "    </tr>\n",
       "    <tr>\n",
       "      <th>50%</th>\n",
       "      <td>8.500000e+00</td>\n",
       "      <td>-7.398211e+01</td>\n",
       "      <td>4.075334e+01</td>\n",
       "      <td>-7.398063e+01</td>\n",
       "      <td>4.075384e+01</td>\n",
       "      <td>1.000000e+00</td>\n",
       "      <td>1.400000e+01</td>\n",
       "      <td>1.600000e+01</td>\n",
       "      <td>6.000000e+00</td>\n",
       "      <td>2.012000e+03</td>\n",
       "      <td>3.000000e+00</td>\n",
       "      <td>1.347526e+00</td>\n",
       "      <td>1.281000e-02</td>\n",
       "      <td>1.429100e-02</td>\n",
       "    </tr>\n",
       "    <tr>\n",
       "      <th>75%</th>\n",
       "      <td>1.250000e+01</td>\n",
       "      <td>-7.396841e+01</td>\n",
       "      <td>4.076752e+01</td>\n",
       "      <td>-7.396543e+01</td>\n",
       "      <td>4.076839e+01</td>\n",
       "      <td>2.000000e+00</td>\n",
       "      <td>1.900000e+01</td>\n",
       "      <td>2.300000e+01</td>\n",
       "      <td>9.000000e+00</td>\n",
       "      <td>2.013000e+03</td>\n",
       "      <td>5.000000e+00</td>\n",
       "      <td>2.445604e+00</td>\n",
       "      <td>2.405100e-02</td>\n",
       "      <td>2.734700e-02</td>\n",
       "    </tr>\n",
       "    <tr>\n",
       "      <th>max</th>\n",
       "      <td>1.995000e+02</td>\n",
       "      <td>-7.294086e+01</td>\n",
       "      <td>4.169685e+01</td>\n",
       "      <td>-7.290000e+01</td>\n",
       "      <td>4.169126e+01</td>\n",
       "      <td>9.000000e+00</td>\n",
       "      <td>2.300000e+01</td>\n",
       "      <td>3.100000e+01</td>\n",
       "      <td>1.200000e+01</td>\n",
       "      <td>2.015000e+03</td>\n",
       "      <td>6.000000e+00</td>\n",
       "      <td>7.133064e+01</td>\n",
       "      <td>1.193331e+00</td>\n",
       "      <td>8.735150e-01</td>\n",
       "    </tr>\n",
       "  </tbody>\n",
       "</table>\n",
       "</div>"
      ],
      "text/plain": [
       "        fare_amount  pickup_longitude  pickup_latitude  dropoff_longitude  \\\n",
       "count  1.935406e+06      1.935406e+06     1.935406e+06       1.935406e+06   \n",
       "mean   1.139513e+01     -7.397520e+01     4.075107e+01      -7.397431e+01   \n",
       "std    9.596067e+00      3.821234e-02     2.942282e-02       3.729699e-02   \n",
       "min    3.010000e+00     -7.429941e+01     4.050183e+01      -7.429973e+01   \n",
       "25%    6.100000e+00     -7.399229e+01     4.073655e+01      -7.399160e+01   \n",
       "50%    8.500000e+00     -7.398211e+01     4.075334e+01      -7.398063e+01   \n",
       "75%    1.250000e+01     -7.396841e+01     4.076752e+01      -7.396543e+01   \n",
       "max    1.995000e+02     -7.294086e+01     4.169685e+01      -7.290000e+01   \n",
       "\n",
       "       dropoff_latitude  passenger_count          hour           day  \\\n",
       "count      1.935406e+06     1.935406e+06  1.935406e+06  1.935406e+06   \n",
       "mean       4.075142e+01     1.691508e+00  1.351453e+01  1.570532e+01   \n",
       "std        3.260965e-02     1.305837e+00  6.513442e+00  8.681720e+00   \n",
       "min        4.050029e+01     1.000000e+00  0.000000e+00  1.000000e+00   \n",
       "25%        4.073553e+01     1.000000e+00  9.000000e+00  8.000000e+00   \n",
       "50%        4.075384e+01     1.000000e+00  1.400000e+01  1.600000e+01   \n",
       "75%        4.076839e+01     2.000000e+00  1.900000e+01  2.300000e+01   \n",
       "max        4.169126e+01     9.000000e+00  2.300000e+01  3.100000e+01   \n",
       "\n",
       "              month          year   day_of_week      distance  \\\n",
       "count  1.935406e+06  1.935406e+06  1.935406e+06  1.935406e+06   \n",
       "mean   6.271567e+00  2.011740e+03  3.041047e+00  2.082180e+00   \n",
       "std    3.437677e+00  1.865419e+00  1.949761e+00  2.340143e+00   \n",
       "min    1.000000e+00  2.009000e+03  0.000000e+00  0.000000e+00   \n",
       "25%    3.000000e+00  2.010000e+03  1.000000e+00  7.894245e-01   \n",
       "50%    6.000000e+00  2.012000e+03  3.000000e+00  1.347526e+00   \n",
       "75%    9.000000e+00  2.013000e+03  5.000000e+00  2.445604e+00   \n",
       "max    1.200000e+01  2.015000e+03  6.000000e+00  7.133064e+01   \n",
       "\n",
       "       abs_diff_longitude  abs_diff_latitude  \n",
       "count        1.935406e+06       1.935406e+06  \n",
       "mean         2.294759e-02       2.146194e-02  \n",
       "std          3.520140e-02       2.410302e-02  \n",
       "min          0.000000e+00       0.000000e+00  \n",
       "25%          6.260000e-03       7.071000e-03  \n",
       "50%          1.281000e-02       1.429100e-02  \n",
       "75%          2.405100e-02       2.734700e-02  \n",
       "max          1.193331e+00       8.735150e-01  "
      ]
     },
     "execution_count": 71,
     "metadata": {},
     "output_type": "execute_result"
    }
   ],
   "source": [
    "data.describe()"
   ]
  },
  {
   "cell_type": "markdown",
   "metadata": {},
   "source": [
    "### Modelling\n",
    "Let us start training our data and use Linear Regression Basemodel to predict the fare amounts\n",
    "Initially we first check on the training data and check the rmse and then try to predict the values of the test data\n",
    "We plot a heat map which gives the correlation coefficients so we can select features through this and the analysis we have done above."
   ]
  },
  {
   "cell_type": "markdown",
   "metadata": {},
   "source": [
    "."
   ]
  },
  {
   "cell_type": "markdown",
   "metadata": {},
   "source": [
    "."
   ]
  },
  {
   "cell_type": "code",
   "execution_count": 81,
   "metadata": {},
   "outputs": [
    {
     "data": {
      "text/plain": [
       "<matplotlib.axes._subplots.AxesSubplot at 0x1a208df198>"
      ]
     },
     "execution_count": 81,
     "metadata": {},
     "output_type": "execute_result"
    },
    {
     "data": {
      "image/png": "[encoded data removed]",
      "text/plain": [
       "<Figure size 720x576 with 2 Axes>"
      ]
     },
     "metadata": {
      "needs_background": "light"
     },
     "output_type": "display_data"
    }
   ],
   "source": [
    "plt.figure(figsize=(10,8))\n",
    "sea.heatmap(data.corr(), annot=True)"
   ]
  },
  {
   "cell_type": "code",
   "execution_count": 82,
   "metadata": {},
   "outputs": [
    {
     "data": {
      "text/plain": [
       "Index(['key', 'fare_amount', 'pickup_datetime', 'pickup_longitude',\n",
       "       'pickup_latitude', 'dropoff_longitude', 'dropoff_latitude',\n",
       "       'passenger_count', 'date_time', 'hour', 'day', 'month', 'year',\n",
       "       'day_of_week', 'distance', 'abs_diff_longitude', 'abs_diff_latitude'],\n",
       "      dtype='object')"
      ]
     },
     "execution_count": 82,
     "metadata": {},
     "output_type": "execute_result"
    }
   ],
   "source": [
    "data.columns"
   ]
  },
  {
   "cell_type": "code",
   "execution_count": 83,
   "metadata": {
    "scrolled": false
   },
   "outputs": [
    {
     "data": {
      "text/plain": [
       "Index(['key', 'pickup_datetime', 'pickup_longitude', 'pickup_latitude',\n",
       "       'dropoff_longitude', 'dropoff_latitude', 'passenger_count', 'date_time',\n",
       "       'hour', 'day', 'month', 'year', 'day_of_week', 'distance',\n",
       "       'abs_diff_longitude', 'abs_diff_latitude'],\n",
       "      dtype='object')"
      ]
     },
     "execution_count": 83,
     "metadata": {},
     "output_type": "execute_result"
    }
   ],
   "source": [
    "test.columns"
   ]
  },
  {
   "cell_type": "markdown",
   "metadata": {},
   "source": [
    "Assigning the values to the train set for X_train and Y_train.\n",
    "The training data is split into train and test randomly using sklearn train_test_split\n"
   ]
  },
  {
   "cell_type": "code",
   "execution_count": 72,
   "metadata": {},
   "outputs": [],
   "source": [
    "from sklearn.linear_model import LinearRegression\n",
    "from sklearn.metrics import mean_squared_error\n",
    "from sklearn.model_selection import train_test_split"
   ]
  },
  {
   "cell_type": "markdown",
   "metadata": {},
   "source": [
    "Now we select columns required to be used for training our model."
   ]
  },
  {
   "cell_type": "code",
   "execution_count": 73,
   "metadata": {},
   "outputs": [],
   "source": [
    "columns_train=['distance','day_of_week','passenger_count','year', 'month','abs_diff_longitude','abs_diff_latitude','pickup_longitude','pickup_latitude','dropoff_latitude','dropoff_longitude']\n",
    "columns_target=['fare_amount']"
   ]
  },
  {
   "cell_type": "code",
   "execution_count": 74,
   "metadata": {},
   "outputs": [],
   "source": [
    "X=data[columns_train]\n",
    "Y=data[columns_target]"
   ]
  },
  {
   "cell_type": "markdown",
   "metadata": {},
   "source": [
    "Assigning the values to the train set for X_train and Y_train.\n",
    "The training data is split into train and test randomly using sklearn train_test_split"
   ]
  },
  {
   "cell_type": "code",
   "execution_count": 75,
   "metadata": {
    "scrolled": true
   },
   "outputs": [
    {
     "name": "stdout",
     "output_type": "stream",
     "text": [
      "(1645095, 11)\n",
      "(290311, 11)\n",
      "(1645095, 1)\n",
      "(290311, 1)\n"
     ]
    }
   ],
   "source": [
    "X_train, X_test, Y_train, Y_test = train_test_split(X, Y, test_size=0.15\n",
    ", random_state = 7)\n",
    "# Check shape\n",
    "print(X_train.shape)\n",
    "print(X_test.shape)\n",
    "print(Y_train.shape)\n",
    "print(Y_test.shape)"
   ]
  },
  {
   "cell_type": "markdown",
   "metadata": {},
   "source": [
    "Fitting the Baseline Regression model."
   ]
  },
  {
   "cell_type": "code",
   "execution_count": 76,
   "metadata": {
    "scrolled": true
   },
   "outputs": [
    {
     "data": {
      "text/plain": [
       "LinearRegression(copy_X=True, fit_intercept=True, n_jobs=None,\n",
       "         normalize=False)"
      ]
     },
     "execution_count": 76,
     "metadata": {},
     "output_type": "execute_result"
    }
   ],
   "source": [
    "regr = LinearRegression()\n",
    "regr.fit(X_train,Y_train)"
   ]
  },
  {
   "cell_type": "markdown",
   "metadata": {},
   "source": [
    "."
   ]
  },
  {
   "cell_type": "markdown",
   "metadata": {},
   "source": [
    "\n",
    "Predicting the fare amount for the test part using the model."
   ]
  },
  {
   "cell_type": "code",
   "execution_count": 77,
   "metadata": {},
   "outputs": [],
   "source": [
    "reg_predict=regr.predict(X_test)"
   ]
  },
  {
   "cell_type": "code",
   "execution_count": 78,
   "metadata": {},
   "outputs": [],
   "source": [
    "from sklearn.metrics import r2_score"
   ]
  },
  {
   "cell_type": "code",
   "execution_count": 79,
   "metadata": {},
   "outputs": [
    {
     "data": {
      "text/plain": [
       "0.7278574157491385"
      ]
     },
     "execution_count": 79,
     "metadata": {},
     "output_type": "execute_result"
    }
   ],
   "source": [
    "r2_score(Y_test , reg_predict)"
   ]
  },
  {
   "cell_type": "markdown",
   "metadata": {},
   "source": [
    "."
   ]
  },
  {
   "cell_type": "markdown",
   "metadata": {},
   "source": [
    "."
   ]
  },
  {
   "cell_type": "markdown",
   "metadata": {},
   "source": [
    "### Calculating the Root Mean Square Error:\n",
    "This is done by importing mean_squared_error from sklearn and then performing the squareroot on that value."
   ]
  },
  {
   "cell_type": "code",
   "execution_count": 80,
   "metadata": {},
   "outputs": [
    {
     "name": "stdout",
     "output_type": "stream",
     "text": [
      "Root Mean Squared Error: 5.023003572657178\n"
     ]
    }
   ],
   "source": [
    "from sklearn.metrics import mean_squared_error\n",
    "rmse = np.sqrt(mean_squared_error(Y_test , reg_predict))\n",
    "print(\"Root Mean Squared Error:\",rmse)"
   ]
  },
  {
   "cell_type": "markdown",
   "metadata": {},
   "source": [
    "#### Prediction of test values:\n",
    "This is the final part for which we have been performing different perspective analysis on our data. Assign training data values to trainX and trainY which contains features and target value respectively.\n"
   ]
  },
  {
   "cell_type": "code",
   "execution_count": 81,
   "metadata": {},
   "outputs": [],
   "source": [
    "trainX=data[columns_train]\n",
    "trainY=data[columns_target]"
   ]
  },
  {
   "cell_type": "markdown",
   "metadata": {},
   "source": [
    "."
   ]
  },
  {
   "cell_type": "markdown",
   "metadata": {},
   "source": [
    "Now assign the test data to the ' test ' variable for which we need to predit the fare amount.\n"
   ]
  },
  {
   "cell_type": "code",
   "execution_count": 82,
   "metadata": {},
   "outputs": [],
   "source": [
    "test=test[columns_train]"
   ]
  },
  {
   "cell_type": "markdown",
   "metadata": {},
   "source": [
    "."
   ]
  },
  {
   "cell_type": "markdown",
   "metadata": {},
   "source": [
    "Fit the model with the training data."
   ]
  },
  {
   "cell_type": "code",
   "execution_count": 83,
   "metadata": {},
   "outputs": [
    {
     "data": {
      "text/plain": [
       "LinearRegression(copy_X=True, fit_intercept=True, n_jobs=None,\n",
       "         normalize=False)"
      ]
     },
     "execution_count": 83,
     "metadata": {},
     "output_type": "execute_result"
    }
   ],
   "source": [
    "pf=LinearRegression()\n",
    "pf.fit(trainX,trainY)"
   ]
  },
  {
   "cell_type": "markdown",
   "metadata": {},
   "source": [
    "."
   ]
  },
  {
   "cell_type": "markdown",
   "metadata": {},
   "source": [
    "Predict the fare amount values for the data in the test set."
   ]
  },
  {
   "cell_type": "code",
   "execution_count": 84,
   "metadata": {},
   "outputs": [],
   "source": [
    "fare_predict=pf.predict(test)"
   ]
  },
  {
   "cell_type": "markdown",
   "metadata": {},
   "source": [
    "."
   ]
  },
  {
   "cell_type": "markdown",
   "metadata": {},
   "source": [
    "\n",
    "### Final Steps:\n",
    "Now the only step left is that to write the predicted values into the sample_submission.csv file and then overwrite the fare_amount column with the values which we have predicted.\n",
    "Pandas to_csv() is used to write the submissions on to the file."
   ]
  },
  {
   "cell_type": "markdown",
   "metadata": {},
   "source": [
    "."
   ]
  },
  {
   "cell_type": "markdown",
   "metadata": {},
   "source": [
    "Our submission scored a 5.23 rmse which is ok, considering it (Linear Regression) is a basline model. Now let us try to predict the fare_amount using other complex models\n"
   ]
  },
  {
   "cell_type": "markdown",
   "metadata": {},
   "source": [
    "."
   ]
  },
  {
   "cell_type": "markdown",
   "metadata": {},
   "source": [
    "## K-Nearest Neighbour Regression\n",
    "##### Import the regressor from sklearn\n",
    "##### Fit the data\n",
    "##### Predict the values"
   ]
  },
  {
   "cell_type": "code",
   "execution_count": 86,
   "metadata": {},
   "outputs": [],
   "source": [
    "from sklearn.neighbors import KNeighborsRegressor"
   ]
  },
  {
   "cell_type": "markdown",
   "metadata": {},
   "source": [
    "."
   ]
  },
  {
   "cell_type": "markdown",
   "metadata": {},
   "source": [
    "Fit the data model with the training data."
   ]
  },
  {
   "cell_type": "code",
   "execution_count": 87,
   "metadata": {
    "scrolled": true
   },
   "outputs": [
    {
     "data": {
      "text/plain": [
       "KNeighborsRegressor(algorithm='auto', leaf_size=30, metric='minkowski',\n",
       "          metric_params=None, n_jobs=None, n_neighbors=5, p=2,\n",
       "          weights='uniform')"
      ]
     },
     "execution_count": 87,
     "metadata": {},
     "output_type": "execute_result"
    }
   ],
   "source": [
    "knr = KNeighborsRegressor()\n",
    "knr.fit(X_train, Y_train)"
   ]
  },
  {
   "cell_type": "markdown",
   "metadata": {},
   "source": [
    "."
   ]
  },
  {
   "cell_type": "markdown",
   "metadata": {},
   "source": [
    "Predict the values for the provided data in the X_test sample."
   ]
  },
  {
   "cell_type": "markdown",
   "metadata": {},
   "source": [
    "."
   ]
  },
  {
   "cell_type": "code",
   "execution_count": 88,
   "metadata": {},
   "outputs": [],
   "source": [
    "knr_predict = knr.predict(X_test)"
   ]
  },
  {
   "cell_type": "markdown",
   "metadata": {},
   "source": [
    "."
   ]
  },
  {
   "cell_type": "markdown",
   "metadata": {},
   "source": [
    "Calculate the rmse for the predicted values and compare with the baseline models.\n"
   ]
  },
  {
   "cell_type": "code",
   "execution_count": 89,
   "metadata": {
    "scrolled": true
   },
   "outputs": [
    {
     "name": "stdout",
     "output_type": "stream",
     "text": [
      "Root Mean Squared Error: 4.532439039003952\n"
     ]
    }
   ],
   "source": [
    "rmse_knr = np.sqrt(mean_squared_error(Y_test , knr_predict))\n",
    "print(\"Root Mean Squared Error:\",rmse_knr)"
   ]
  },
  {
   "cell_type": "code",
   "execution_count": 90,
   "metadata": {},
   "outputs": [
    {
     "data": {
      "text/plain": [
       "0.7784185124805778"
      ]
     },
     "execution_count": 90,
     "metadata": {},
     "output_type": "execute_result"
    }
   ],
   "source": [
    "r2_score(Y_test , knr_predict)"
   ]
  },
  {
   "cell_type": "markdown",
   "metadata": {},
   "source": [
    "."
   ]
  },
  {
   "cell_type": "markdown",
   "metadata": {},
   "source": [
    "Let us try to predict the fare amounts for the data in the test set and write to a submission file to check the rmse we get from kaggle.\n"
   ]
  },
  {
   "cell_type": "code",
   "execution_count": 91,
   "metadata": {
    "scrolled": true
   },
   "outputs": [
    {
     "ename": "KeyboardInterrupt",
     "evalue": "",
     "output_type": "error",
     "traceback": [
      "\u001b[0;31m---------------------------------------------------------------------------\u001b[0m",
      "\u001b[0;31mKeyboardInterrupt\u001b[0m                         Traceback (most recent call last)",
      "\u001b[0;32m<ipython-input-91-8dfbe08505a2>\u001b[0m in \u001b[0;36m<module>\u001b[0;34m\u001b[0m\n\u001b[1;32m      1\u001b[0m \u001b[0mknr_final\u001b[0m \u001b[0;34m=\u001b[0m \u001b[0mKNeighborsRegressor\u001b[0m\u001b[0;34m(\u001b[0m\u001b[0;34m)\u001b[0m\u001b[0;34m\u001b[0m\u001b[0;34m\u001b[0m\u001b[0m\n\u001b[0;32m----> 2\u001b[0;31m \u001b[0mknr_final\u001b[0m\u001b[0;34m.\u001b[0m\u001b[0mfit\u001b[0m\u001b[0;34m(\u001b[0m\u001b[0mtrainX\u001b[0m\u001b[0;34m,\u001b[0m \u001b[0mtrainY\u001b[0m\u001b[0;34m)\u001b[0m\u001b[0;34m\u001b[0m\u001b[0;34m\u001b[0m\u001b[0m\n\u001b[0m",
      "\u001b[0;32m~/anaconda3/lib/python3.7/site-packages/sklearn/neighbors/base.py\u001b[0m in \u001b[0;36mfit\u001b[0;34m(self, X, y)\u001b[0m\n\u001b[1;32m    871\u001b[0m             \u001b[0mX\u001b[0m\u001b[0;34m,\u001b[0m \u001b[0my\u001b[0m \u001b[0;34m=\u001b[0m \u001b[0mcheck_X_y\u001b[0m\u001b[0;34m(\u001b[0m\u001b[0mX\u001b[0m\u001b[0;34m,\u001b[0m \u001b[0my\u001b[0m\u001b[0;34m,\u001b[0m \u001b[0;34m\"csr\"\u001b[0m\u001b[0;34m,\u001b[0m \u001b[0mmulti_output\u001b[0m\u001b[0;34m=\u001b[0m\u001b[0;32mTrue\u001b[0m\u001b[0;34m)\u001b[0m\u001b[0;34m\u001b[0m\u001b[0;34m\u001b[0m\u001b[0m\n\u001b[1;32m    872\u001b[0m         \u001b[0mself\u001b[0m\u001b[0;34m.\u001b[0m\u001b[0m_y\u001b[0m \u001b[0;34m=\u001b[0m \u001b[0my\u001b[0m\u001b[0;34m\u001b[0m\u001b[0;34m\u001b[0m\u001b[0m\n\u001b[0;32m--> 873\u001b[0;31m         \u001b[0;32mreturn\u001b[0m \u001b[0mself\u001b[0m\u001b[0;34m.\u001b[0m\u001b[0m_fit\u001b[0m\u001b[0;34m(\u001b[0m\u001b[0mX\u001b[0m\u001b[0;34m)\u001b[0m\u001b[0;34m\u001b[0m\u001b[0;34m\u001b[0m\u001b[0m\n\u001b[0m\u001b[1;32m    874\u001b[0m \u001b[0;34m\u001b[0m\u001b[0m\n\u001b[1;32m    875\u001b[0m \u001b[0;34m\u001b[0m\u001b[0m\n",
      "\u001b[0;32m~/anaconda3/lib/python3.7/site-packages/sklearn/neighbors/base.py\u001b[0m in \u001b[0;36m_fit\u001b[0;34m(self, X)\u001b[0m\n\u001b[1;32m    256\u001b[0m             self._tree = KDTree(X, self.leaf_size,\n\u001b[1;32m    257\u001b[0m                                 \u001b[0mmetric\u001b[0m\u001b[0;34m=\u001b[0m\u001b[0mself\u001b[0m\u001b[0;34m.\u001b[0m\u001b[0meffective_metric_\u001b[0m\u001b[0;34m,\u001b[0m\u001b[0;34m\u001b[0m\u001b[0;34m\u001b[0m\u001b[0m\n\u001b[0;32m--> 258\u001b[0;31m                                 **self.effective_metric_params_)\n\u001b[0m\u001b[1;32m    259\u001b[0m         \u001b[0;32melif\u001b[0m \u001b[0mself\u001b[0m\u001b[0;34m.\u001b[0m\u001b[0m_fit_method\u001b[0m \u001b[0;34m==\u001b[0m \u001b[0;34m'brute'\u001b[0m\u001b[0;34m:\u001b[0m\u001b[0;34m\u001b[0m\u001b[0;34m\u001b[0m\u001b[0m\n\u001b[1;32m    260\u001b[0m             \u001b[0mself\u001b[0m\u001b[0;34m.\u001b[0m\u001b[0m_tree\u001b[0m \u001b[0;34m=\u001b[0m \u001b[0;32mNone\u001b[0m\u001b[0;34m\u001b[0m\u001b[0;34m\u001b[0m\u001b[0m\n",
      "\u001b[0;31mKeyboardInterrupt\u001b[0m: "
     ]
    }
   ],
   "source": [
    "knr_final = KNeighborsRegressor()\n",
    "knr_final.fit(trainX, trainY)"
   ]
  },
  {
   "cell_type": "code",
   "execution_count": null,
   "metadata": {},
   "outputs": [],
   "source": [
    "fare_predict_knr=knr_final.predict(test)"
   ]
  },
  {
   "cell_type": "code",
   "execution_count": 107,
   "metadata": {
    "scrolled": true
   },
   "outputs": [
    {
     "data": {
      "text/html": [
       "<div>\n",
       "<style scoped>\n",
       "    .dataframe tbody tr th:only-of-type {\n",
       "        vertical-align: middle;\n",
       "    }\n",
       "\n",
       "    .dataframe tbody tr th {\n",
       "        vertical-align: top;\n",
       "    }\n",
       "\n",
       "    .dataframe thead th {\n",
       "        text-align: right;\n",
       "    }\n",
       "</style>\n",
       "<table border=\"1\" class=\"dataframe\">\n",
       "  <thead>\n",
       "    <tr style=\"text-align: right;\">\n",
       "      <th></th>\n",
       "      <th>key</th>\n",
       "      <th>fare_amount</th>\n",
       "    </tr>\n",
       "  </thead>\n",
       "  <tbody>\n",
       "    <tr>\n",
       "      <th>9894</th>\n",
       "      <td>2013-09-25 22:00:00.000000153</td>\n",
       "      <td>10.600</td>\n",
       "    </tr>\n",
       "    <tr>\n",
       "      <th>9895</th>\n",
       "      <td>2013-09-25 22:00:00.000000241</td>\n",
       "      <td>24.100</td>\n",
       "    </tr>\n",
       "    <tr>\n",
       "      <th>9896</th>\n",
       "      <td>2013-09-25 22:00:00.000000127</td>\n",
       "      <td>10.100</td>\n",
       "    </tr>\n",
       "    <tr>\n",
       "      <th>9897</th>\n",
       "      <td>2015-02-20 11:08:29.0000001</td>\n",
       "      <td>17.000</td>\n",
       "    </tr>\n",
       "    <tr>\n",
       "      <th>9898</th>\n",
       "      <td>2015-01-12 15:36:37.0000002</td>\n",
       "      <td>5.900</td>\n",
       "    </tr>\n",
       "    <tr>\n",
       "      <th>9899</th>\n",
       "      <td>2015-06-07 00:38:14.0000002</td>\n",
       "      <td>14.900</td>\n",
       "    </tr>\n",
       "    <tr>\n",
       "      <th>9900</th>\n",
       "      <td>2015-04-12 21:56:22.0000005</td>\n",
       "      <td>11.800</td>\n",
       "    </tr>\n",
       "    <tr>\n",
       "      <th>9901</th>\n",
       "      <td>2015-04-10 11:56:54.0000004</td>\n",
       "      <td>9.200</td>\n",
       "    </tr>\n",
       "    <tr>\n",
       "      <th>9902</th>\n",
       "      <td>2015-06-25 01:01:46.0000002</td>\n",
       "      <td>13.400</td>\n",
       "    </tr>\n",
       "    <tr>\n",
       "      <th>9903</th>\n",
       "      <td>2015-05-29 10:02:42.0000001</td>\n",
       "      <td>11.600</td>\n",
       "    </tr>\n",
       "    <tr>\n",
       "      <th>9904</th>\n",
       "      <td>2015-06-30 20:03:50.0000002</td>\n",
       "      <td>49.672</td>\n",
       "    </tr>\n",
       "    <tr>\n",
       "      <th>9905</th>\n",
       "      <td>2015-02-27 19:36:02.0000006</td>\n",
       "      <td>25.106</td>\n",
       "    </tr>\n",
       "    <tr>\n",
       "      <th>9906</th>\n",
       "      <td>2015-06-15 01:00:06.0000002</td>\n",
       "      <td>7.900</td>\n",
       "    </tr>\n",
       "    <tr>\n",
       "      <th>9907</th>\n",
       "      <td>2015-02-03 09:00:58.0000001</td>\n",
       "      <td>27.340</td>\n",
       "    </tr>\n",
       "    <tr>\n",
       "      <th>9908</th>\n",
       "      <td>2015-05-19 13:58:11.0000001</td>\n",
       "      <td>7.800</td>\n",
       "    </tr>\n",
       "    <tr>\n",
       "      <th>9909</th>\n",
       "      <td>2015-05-10 12:37:51.0000002</td>\n",
       "      <td>10.500</td>\n",
       "    </tr>\n",
       "    <tr>\n",
       "      <th>9910</th>\n",
       "      <td>2015-01-12 17:05:51.0000001</td>\n",
       "      <td>10.600</td>\n",
       "    </tr>\n",
       "    <tr>\n",
       "      <th>9911</th>\n",
       "      <td>2015-04-19 20:44:15.0000001</td>\n",
       "      <td>34.188</td>\n",
       "    </tr>\n",
       "    <tr>\n",
       "      <th>9912</th>\n",
       "      <td>2015-01-31 01:05:19.0000005</td>\n",
       "      <td>15.300</td>\n",
       "    </tr>\n",
       "    <tr>\n",
       "      <th>9913</th>\n",
       "      <td>2015-01-18 14:06:23.0000006</td>\n",
       "      <td>7.400</td>\n",
       "    </tr>\n",
       "  </tbody>\n",
       "</table>\n",
       "</div>"
      ],
      "text/plain": [
       "<div>\n",
       "<style scoped>\n",
       "    .dataframe tbody tr th:only-of-type {\n",
       "        vertical-align: middle;\n",
       "    }\n",
       "\n",
       "    .dataframe tbody tr th {\n",
       "        vertical-align: top;\n",
       "    }\n",
       "\n",
       "    .dataframe thead th {\n",
       "        text-align: right;\n",
       "    }\n",
       "</style>\n",
       "<table border=\"1\" class=\"dataframe\">\n",
       "  <thead>\n",
       "    <tr style=\"text-align: right;\">\n",
       "      <th></th>\n",
       "      <th>key</th>\n",
       "      <th>fare_amount</th>\n",
       "    </tr>\n",
       "  </thead>\n",
       "  <tbody>\n",
       "    <tr>\n",
       "      <th>9894</th>\n",
       "      <td>2013-09-25 22:00:00.000000153</td>\n",
       "      <td>10.600</td>\n",
       "    </tr>\n",
       "    <tr>\n",
       "      <th>9895</th>\n",
       "      <td>2013-09-25 22:00:00.000000241</td>\n",
       "      <td>24.100</td>\n",
       "    </tr>\n",
       "    <tr>\n",
       "      <th>9896</th>\n",
       "      <td>2013-09-25 22:00:00.000000127</td>\n",
       "      <td>10.100</td>\n",
       "    </tr>\n",
       "    <tr>\n",
       "      <th>9897</th>\n",
       "      <td>2015-02-20 11:08:29.0000001</td>\n",
       "      <td>17.000</td>\n",
       "    </tr>\n",
       "    <tr>\n",
       "      <th>9898</th>\n",
       "      <td>2015-01-12 15:36:37.0000002</td>\n",
       "      <td>5.900</td>\n",
       "    </tr>\n",
       "    <tr>\n",
       "      <th>9899</th>\n",
       "      <td>2015-06-07 00:38:14.0000002</td>\n",
       "      <td>14.900</td>\n",
       "    </tr>\n",
       "    <tr>\n",
       "      <th>9900</th>\n",
       "      <td>2015-04-12 21:56:22.0000005</td>\n",
       "      <td>11.800</td>\n",
       "    </tr>\n",
       "    <tr>\n",
       "      <th>9901</th>\n",
       "      <td>2015-04-10 11:56:54.0000004</td>\n",
       "      <td>9.200</td>\n",
       "    </tr>\n",
       "    <tr>\n",
       "      <th>9902</th>\n",
       "      <td>2015-06-25 01:01:46.0000002</td>\n",
       "      <td>13.400</td>\n",
       "    </tr>\n",
       "    <tr>\n",
       "      <th>9903</th>\n",
       "      <td>2015-05-29 10:02:42.0000001</td>\n",
       "      <td>11.600</td>\n",
       "    </tr>\n",
       "    <tr>\n",
       "      <th>9904</th>\n",
       "      <td>2015-06-30 20:03:50.0000002</td>\n",
       "      <td>49.672</td>\n",
       "    </tr>\n",
       "    <tr>\n",
       "      <th>9905</th>\n",
       "      <td>2015-02-27 19:36:02.0000006</td>\n",
       "      <td>25.106</td>\n",
       "    </tr>\n",
       "    <tr>\n",
       "      <th>9906</th>\n",
       "      <td>2015-06-15 01:00:06.0000002</td>\n",
       "      <td>7.900</td>\n",
       "    </tr>\n",
       "    <tr>\n",
       "      <th>9907</th>\n",
       "      <td>2015-02-03 09:00:58.0000001</td>\n",
       "      <td>27.340</td>\n",
       "    </tr>\n",
       "    <tr>\n",
       "      <th>9908</th>\n",
       "      <td>2015-05-19 13:58:11.0000001</td>\n",
       "      <td>7.800</td>\n",
       "    </tr>\n",
       "    <tr>\n",
       "      <th>9909</th>\n",
       "      <td>2015-05-10 12:37:51.0000002</td>\n",
       "      <td>10.500</td>\n",
       "    </tr>\n",
       "    <tr>\n",
       "      <th>9910</th>\n",
       "      <td>2015-01-12 17:05:51.0000001</td>\n",
       "      <td>10.600</td>\n",
       "    </tr>\n",
       "    <tr>\n",
       "      <th>9911</th>\n",
       "      <td>2015-04-19 20:44:15.0000001</td>\n",
       "      <td>34.188</td>\n",
       "    </tr>\n",
       "    <tr>\n",
       "      <th>9912</th>\n",
       "      <td>2015-01-31 01:05:19.0000005</td>\n",
       "      <td>15.300</td>\n",
       "    </tr>\n",
       "    <tr>\n",
       "      <th>9913</th>\n",
       "      <td>2015-01-18 14:06:23.0000006</td>\n",
       "      <td>7.400</td>\n",
       "    </tr>\n",
       "  </tbody>\n",
       "</table>\n",
       "</div>"
      ]
     },
     "execution_count": 107,
     "metadata": {},
     "output_type": "execute_result"
    }
   ],
   "source": [
    "submission = pd.read_csv(\"D:/Spring 2019/bda/finalproject/sample_submission.csv\")\n",
    "submission['fare_amount'] = fare_predict_knr\n",
    "submission.to_csv('full_functional_extra_cleaned_submission_nearest_neighbors_reg.csv', index=False)\n",
    "submission.tail(20)"
   ]
  },
  {
   "cell_type": "markdown",
   "metadata": {},
   "source": [
    "."
   ]
  },
  {
   "cell_type": "markdown",
   "metadata": {},
   "source": [
    "Our submission scored a 4.36 rmse, we reduced it by ~17%.\n",
    "Now let us try to predict the fare_amount using Random Forest Regression.\n"
   ]
  },
  {
   "cell_type": "markdown",
   "metadata": {},
   "source": [
    "."
   ]
  },
  {
   "cell_type": "markdown",
   "metadata": {},
   "source": [
    "### Random Forest Regression\n",
    "1) Import the regressor from sklearn\n"
   ]
  },
  {
   "cell_type": "markdown",
   "metadata": {},
   "source": [
    "2) Fit the data\n"
   ]
  },
  {
   "cell_type": "markdown",
   "metadata": {},
   "source": [
    "3) Predict the values"
   ]
  },
  {
   "cell_type": "code",
   "execution_count": 94,
   "metadata": {},
   "outputs": [],
   "source": [
    "from sklearn.ensemble import RandomForestRegressor"
   ]
  },
  {
   "cell_type": "code",
   "execution_count": 93,
   "metadata": {},
   "outputs": [
    {
     "name": "stderr",
     "output_type": "stream",
     "text": [
      "/Users/siddharthchittoor/anaconda3/lib/python3.7/site-packages/sklearn/ensemble/forest.py:246: FutureWarning: The default value of n_estimators will change from 10 in version 0.20 to 100 in 0.22.\n",
      "  \"10 in version 0.20 to 100 in 0.22.\", FutureWarning)\n",
      "/Users/siddharthchittoor/anaconda3/lib/python3.7/site-packages/ipykernel_launcher.py:2: DataConversionWarning: A column-vector y was passed when a 1d array was expected. Please change the shape of y to (n_samples,), for example using ravel().\n",
      "  \n"
     ]
    },
    {
     "data": {
      "text/plain": [
       "RandomForestRegressor(bootstrap=True, criterion='mse', max_depth=None,\n",
       "           max_features='auto', max_leaf_nodes=None,\n",
       "           min_impurity_decrease=0.0, min_impurity_split=None,\n",
       "           min_samples_leaf=1, min_samples_split=2,\n",
       "           min_weight_fraction_leaf=0.0, n_estimators=10, n_jobs=None,\n",
       "           oob_score=False, random_state=None, verbose=0, warm_start=False)"
      ]
     },
     "execution_count": 93,
     "metadata": {},
     "output_type": "execute_result"
    }
   ],
   "source": [
    "random_fr = RandomForestRegressor()\n",
    "random_fr.fit(X_train, Y_train)"
   ]
  },
  {
   "cell_type": "code",
   "execution_count": 95,
   "metadata": {},
   "outputs": [],
   "source": [
    "random_fr_predict = random_fr.predict(X_test)"
   ]
  },
  {
   "cell_type": "code",
   "execution_count": 108,
   "metadata": {},
   "outputs": [
    {
     "name": "stdout",
     "output_type": "stream",
     "text": [
      "Root Mean Squared Error: 3.8588669372248727\n"
     ]
    }
   ],
   "source": [
    "rmse_random_forest = np.sqrt(mean_squared_error(Y_test , random_fr_predict))\n",
    "print(\"Root Mean Squared Error:\",rmse_random_forest)"
   ]
  },
  {
   "cell_type": "code",
   "execution_count": 96,
   "metadata": {},
   "outputs": [
    {
     "data": {
      "text/plain": [
       "0.851488225936209"
      ]
     },
     "execution_count": 96,
     "metadata": {},
     "output_type": "execute_result"
    }
   ],
   "source": [
    "r2_score(Y_test , random_fr_predict)"
   ]
  },
  {
   "cell_type": "code",
   "execution_count": null,
   "metadata": {},
   "outputs": [
    {
     "name": "stderr",
     "output_type": "stream",
     "text": [
      "/Users/siddharthchittoor/anaconda3/lib/python3.7/site-packages/ipykernel_launcher.py:2: DataConversionWarning: A column-vector y was passed when a 1d array was expected. Please change the shape of y to (n_samples,), for example using ravel().\n",
      "  \n"
     ]
    }
   ],
   "source": [
    "rd_final = RandomForestRegressor(n_estimators=100)\n",
    "rd_final.fit(trainX, trainY)"
   ]
  },
  {
   "cell_type": "code",
   "execution_count": null,
   "metadata": {},
   "outputs": [],
   "source": [
    "fare_predict_rd=rd_final.predict(test)"
   ]
  },
  {
   "cell_type": "code",
   "execution_count": 116,
   "metadata": {},
   "outputs": [
    {
     "name": "stdout",
     "output_type": "stream",
     "text": [
      "Root Mean Squared Error: 3.683476750718895\n"
     ]
    }
   ],
   "source": [
    "rmse_random_forest = np.sqrt(mean_squared_error(Y_test , random_fr_predict))\n",
    "print(\"Root Mean Squared Error:\",rmse_random_forest)"
   ]
  },
  {
   "cell_type": "code",
   "execution_count": 117,
   "metadata": {},
   "outputs": [
    {
     "name": "stderr",
     "output_type": "stream",
     "text": [
      "C:\\Users\\manas\\AppData\\Local\\Programs\\Python\\Python36\\lib\\site-packages\\ipykernel_launcher.py:2: DataConversionWarning: A column-vector y was passed when a 1d array was expected. Please change the shape of y to (n_samples,), for example using ravel().\n",
      "  \n"
     ]
    },
    {
     "data": {
      "text/plain": [
       "RandomForestRegressor(bootstrap=True, criterion='mse', max_depth=None,\n",
       "           max_features='auto', max_leaf_nodes=None,\n",
       "           min_impurity_decrease=0.0, min_impurity_split=None,\n",
       "           min_samples_leaf=1, min_samples_split=2,\n",
       "           min_weight_fraction_leaf=0.0, n_estimators=100, n_jobs=None,\n",
       "           oob_score=False, random_state=None, verbose=0, warm_start=False)"
      ]
     },
     "execution_count": 117,
     "metadata": {},
     "output_type": "execute_result"
    }
   ],
   "source": [
    "rd_final = RandomForestRegressor(n_estimators=100)\n",
    "rd_final.fit(trainX, trainY)"
   ]
  },
  {
   "cell_type": "code",
   "execution_count": 118,
   "metadata": {},
   "outputs": [],
   "source": [
    "fare_predict_rd=rd_final.predict(test)"
   ]
  },
  {
   "cell_type": "code",
   "execution_count": 119,
   "metadata": {
    "scrolled": true
   },
   "outputs": [
    {
     "data": {
      "text/html": [
       "<div>\n",
       "<style scoped>\n",
       "    .dataframe tbody tr th:only-of-type {\n",
       "        vertical-align: middle;\n",
       "    }\n",
       "\n",
       "    .dataframe tbody tr th {\n",
       "        vertical-align: top;\n",
       "    }\n",
       "\n",
       "    .dataframe thead th {\n",
       "        text-align: right;\n",
       "    }\n",
       "</style>\n",
       "<table border=\"1\" class=\"dataframe\">\n",
       "  <thead>\n",
       "    <tr style=\"text-align: right;\">\n",
       "      <th></th>\n",
       "      <th>key</th>\n",
       "      <th>fare_amount</th>\n",
       "    </tr>\n",
       "  </thead>\n",
       "  <tbody>\n",
       "    <tr>\n",
       "      <th>9894</th>\n",
       "      <td>2013-09-25 22:00:00.000000153</td>\n",
       "      <td>11.5550</td>\n",
       "    </tr>\n",
       "    <tr>\n",
       "      <th>9895</th>\n",
       "      <td>2013-09-25 22:00:00.000000241</td>\n",
       "      <td>24.4343</td>\n",
       "    </tr>\n",
       "    <tr>\n",
       "      <th>9896</th>\n",
       "      <td>2013-09-25 22:00:00.000000127</td>\n",
       "      <td>11.5156</td>\n",
       "    </tr>\n",
       "    <tr>\n",
       "      <th>9897</th>\n",
       "      <td>2015-02-20 11:08:29.0000001</td>\n",
       "      <td>17.0083</td>\n",
       "    </tr>\n",
       "    <tr>\n",
       "      <th>9898</th>\n",
       "      <td>2015-01-12 15:36:37.0000002</td>\n",
       "      <td>4.5530</td>\n",
       "    </tr>\n",
       "    <tr>\n",
       "      <th>9899</th>\n",
       "      <td>2015-06-07 00:38:14.0000002</td>\n",
       "      <td>17.0380</td>\n",
       "    </tr>\n",
       "    <tr>\n",
       "      <th>9900</th>\n",
       "      <td>2015-04-12 21:56:22.0000005</td>\n",
       "      <td>7.2850</td>\n",
       "    </tr>\n",
       "    <tr>\n",
       "      <th>9901</th>\n",
       "      <td>2015-04-10 11:56:54.0000004</td>\n",
       "      <td>7.0600</td>\n",
       "    </tr>\n",
       "    <tr>\n",
       "      <th>9902</th>\n",
       "      <td>2015-06-25 01:01:46.0000002</td>\n",
       "      <td>13.4807</td>\n",
       "    </tr>\n",
       "    <tr>\n",
       "      <th>9903</th>\n",
       "      <td>2015-05-29 10:02:42.0000001</td>\n",
       "      <td>10.8400</td>\n",
       "    </tr>\n",
       "    <tr>\n",
       "      <th>9904</th>\n",
       "      <td>2015-06-30 20:03:50.0000002</td>\n",
       "      <td>48.1418</td>\n",
       "    </tr>\n",
       "    <tr>\n",
       "      <th>9905</th>\n",
       "      <td>2015-02-27 19:36:02.0000006</td>\n",
       "      <td>24.6556</td>\n",
       "    </tr>\n",
       "    <tr>\n",
       "      <th>9906</th>\n",
       "      <td>2015-06-15 01:00:06.0000002</td>\n",
       "      <td>6.2210</td>\n",
       "    </tr>\n",
       "    <tr>\n",
       "      <th>9907</th>\n",
       "      <td>2015-02-03 09:00:58.0000001</td>\n",
       "      <td>42.5832</td>\n",
       "    </tr>\n",
       "    <tr>\n",
       "      <th>9908</th>\n",
       "      <td>2015-05-19 13:58:11.0000001</td>\n",
       "      <td>8.1200</td>\n",
       "    </tr>\n",
       "    <tr>\n",
       "      <th>9909</th>\n",
       "      <td>2015-05-10 12:37:51.0000002</td>\n",
       "      <td>7.1300</td>\n",
       "    </tr>\n",
       "    <tr>\n",
       "      <th>9910</th>\n",
       "      <td>2015-01-12 17:05:51.0000001</td>\n",
       "      <td>11.2230</td>\n",
       "    </tr>\n",
       "    <tr>\n",
       "      <th>9911</th>\n",
       "      <td>2015-04-19 20:44:15.0000001</td>\n",
       "      <td>46.8770</td>\n",
       "    </tr>\n",
       "    <tr>\n",
       "      <th>9912</th>\n",
       "      <td>2015-01-31 01:05:19.0000005</td>\n",
       "      <td>21.6620</td>\n",
       "    </tr>\n",
       "    <tr>\n",
       "      <th>9913</th>\n",
       "      <td>2015-01-18 14:06:23.0000006</td>\n",
       "      <td>7.4400</td>\n",
       "    </tr>\n",
       "  </tbody>\n",
       "</table>\n",
       "</div>"
      ],
      "text/plain": [
       "<div>\n",
       "<style scoped>\n",
       "    .dataframe tbody tr th:only-of-type {\n",
       "        vertical-align: middle;\n",
       "    }\n",
       "\n",
       "    .dataframe tbody tr th {\n",
       "        vertical-align: top;\n",
       "    }\n",
       "\n",
       "    .dataframe thead th {\n",
       "        text-align: right;\n",
       "    }\n",
       "</style>\n",
       "<table border=\"1\" class=\"dataframe\">\n",
       "  <thead>\n",
       "    <tr style=\"text-align: right;\">\n",
       "      <th></th>\n",
       "      <th>key</th>\n",
       "      <th>fare_amount</th>\n",
       "    </tr>\n",
       "  </thead>\n",
       "  <tbody>\n",
       "    <tr>\n",
       "      <th>9894</th>\n",
       "      <td>2013-09-25 22:00:00.000000153</td>\n",
       "      <td>11.5550</td>\n",
       "    </tr>\n",
       "    <tr>\n",
       "      <th>9895</th>\n",
       "      <td>2013-09-25 22:00:00.000000241</td>\n",
       "      <td>24.4343</td>\n",
       "    </tr>\n",
       "    <tr>\n",
       "      <th>9896</th>\n",
       "      <td>2013-09-25 22:00:00.000000127</td>\n",
       "      <td>11.5156</td>\n",
       "    </tr>\n",
       "    <tr>\n",
       "      <th>9897</th>\n",
       "      <td>2015-02-20 11:08:29.0000001</td>\n",
       "      <td>17.0083</td>\n",
       "    </tr>\n",
       "    <tr>\n",
       "      <th>9898</th>\n",
       "      <td>2015-01-12 15:36:37.0000002</td>\n",
       "      <td>4.5530</td>\n",
       "    </tr>\n",
       "    <tr>\n",
       "      <th>9899</th>\n",
       "      <td>2015-06-07 00:38:14.0000002</td>\n",
       "      <td>17.0380</td>\n",
       "    </tr>\n",
       "    <tr>\n",
       "      <th>9900</th>\n",
       "      <td>2015-04-12 21:56:22.0000005</td>\n",
       "      <td>7.2850</td>\n",
       "    </tr>\n",
       "    <tr>\n",
       "      <th>9901</th>\n",
       "      <td>2015-04-10 11:56:54.0000004</td>\n",
       "      <td>7.0600</td>\n",
       "    </tr>\n",
       "    <tr>\n",
       "      <th>9902</th>\n",
       "      <td>2015-06-25 01:01:46.0000002</td>\n",
       "      <td>13.4807</td>\n",
       "    </tr>\n",
       "    <tr>\n",
       "      <th>9903</th>\n",
       "      <td>2015-05-29 10:02:42.0000001</td>\n",
       "      <td>10.8400</td>\n",
       "    </tr>\n",
       "    <tr>\n",
       "      <th>9904</th>\n",
       "      <td>2015-06-30 20:03:50.0000002</td>\n",
       "      <td>48.1418</td>\n",
       "    </tr>\n",
       "    <tr>\n",
       "      <th>9905</th>\n",
       "      <td>2015-02-27 19:36:02.0000006</td>\n",
       "      <td>24.6556</td>\n",
       "    </tr>\n",
       "    <tr>\n",
       "      <th>9906</th>\n",
       "      <td>2015-06-15 01:00:06.0000002</td>\n",
       "      <td>6.2210</td>\n",
       "    </tr>\n",
       "    <tr>\n",
       "      <th>9907</th>\n",
       "      <td>2015-02-03 09:00:58.0000001</td>\n",
       "      <td>42.5832</td>\n",
       "    </tr>\n",
       "    <tr>\n",
       "      <th>9908</th>\n",
       "      <td>2015-05-19 13:58:11.0000001</td>\n",
       "      <td>8.1200</td>\n",
       "    </tr>\n",
       "    <tr>\n",
       "      <th>9909</th>\n",
       "      <td>2015-05-10 12:37:51.0000002</td>\n",
       "      <td>7.1300</td>\n",
       "    </tr>\n",
       "    <tr>\n",
       "      <th>9910</th>\n",
       "      <td>2015-01-12 17:05:51.0000001</td>\n",
       "      <td>11.2230</td>\n",
       "    </tr>\n",
       "    <tr>\n",
       "      <th>9911</th>\n",
       "      <td>2015-04-19 20:44:15.0000001</td>\n",
       "      <td>46.8770</td>\n",
       "    </tr>\n",
       "    <tr>\n",
       "      <th>9912</th>\n",
       "      <td>2015-01-31 01:05:19.0000005</td>\n",
       "      <td>21.6620</td>\n",
       "    </tr>\n",
       "    <tr>\n",
       "      <th>9913</th>\n",
       "      <td>2015-01-18 14:06:23.0000006</td>\n",
       "      <td>7.4400</td>\n",
       "    </tr>\n",
       "  </tbody>\n",
       "</table>\n",
       "</div>"
      ]
     },
     "execution_count": 119,
     "metadata": {},
     "output_type": "execute_result"
    }
   ],
   "source": [
    "submission = pd.read_csv('D:/Spring 2019/bda/finalproject/sample_submission.csv')\n",
    "submission['fare_amount'] = fare_predict_rd\n",
    "submission.to_csv('full_functional_extra_cleaned_submission_random_forest_reg123.csv', index=False)\n",
    "submission.tail(20)"
   ]
  },
  {
   "cell_type": "markdown",
   "metadata": {},
   "source": [
    "."
   ]
  },
  {
   "cell_type": "markdown",
   "metadata": {},
   "source": [
    "#### Gradient Boosting Regression\n",
    "Gradient boosting is a machine learning technique for regression and classification problems, which produces a prediction model in the form of an ensemble of weak prediction models.\n"
   ]
  },
  {
   "cell_type": "markdown",
   "metadata": {},
   "source": [
    "It builds the model in a stage-wise fashion like other boosting methods do, and it generalizes them by allowing optimization of an arbitrary differentiable loss function.\n"
   ]
  },
  {
   "cell_type": "markdown",
   "metadata": {},
   "source": [
    "Garadient Boosting Regression is readily availabale in sklearn.\n"
   ]
  },
  {
   "cell_type": "markdown",
   "metadata": {},
   "source": [
    "We import ensemble from sklearn from which we can apply the Regression algorithm. "
   ]
  },
  {
   "cell_type": "markdown",
   "metadata": {},
   "source": [
    "Fit the training data into the model."
   ]
  },
  {
   "cell_type": "code",
   "execution_count": 100,
   "metadata": {},
   "outputs": [
    {
     "name": "stderr",
     "output_type": "stream",
     "text": [
      "/Users/siddharthchittoor/anaconda3/lib/python3.7/site-packages/sklearn/utils/validation.py:761: DataConversionWarning: A column-vector y was passed when a 1d array was expected. Please change the shape of y to (n_samples, ), for example using ravel().\n",
      "  y = column_or_1d(y, warn=True)\n"
     ]
    },
    {
     "data": {
      "text/plain": [
       "GradientBoostingRegressor(alpha=0.9, criterion='friedman_mse', init=None,\n",
       "             learning_rate=0.1, loss='ls', max_depth=3, max_features=None,\n",
       "             max_leaf_nodes=None, min_impurity_decrease=0.0,\n",
       "             min_impurity_split=None, min_samples_leaf=1,\n",
       "             min_samples_split=2, min_weight_fraction_leaf=0.0,\n",
       "             n_estimators=100, n_iter_no_change=None, presort='auto',\n",
       "             random_state=None, subsample=1.0, tol=0.0001,\n",
       "             validation_fraction=0.1, verbose=0, warm_start=False)"
      ]
     },
     "execution_count": 100,
     "metadata": {},
     "output_type": "execute_result"
    }
   ],
   "source": [
    "from sklearn import ensemble\n",
    "grad_test = ensemble.GradientBoostingRegressor(n_estimators=100) \n",
    "grad_test.fit(X_train,Y_train)"
   ]
  },
  {
   "cell_type": "code",
   "execution_count": 101,
   "metadata": {},
   "outputs": [],
   "source": [
    "grad_predict=grad_test.predict(X_test)"
   ]
  },
  {
   "cell_type": "markdown",
   "metadata": {},
   "source": [
    "Calculate the rmse between the predicted and the actual fare values.\n"
   ]
  },
  {
   "cell_type": "markdown",
   "metadata": {},
   "source": [
    "We should be observing a smaller rmse out of all the above regression models we used as the Gradient Boosting Regression predicts more generically and with more precision than the above models."
   ]
  },
  {
   "cell_type": "code",
   "execution_count": 102,
   "metadata": {},
   "outputs": [
    {
     "name": "stdout",
     "output_type": "stream",
     "text": [
      "Root Mean Squared Error: 3.7979996168317043\n"
     ]
    }
   ],
   "source": [
    "from sklearn.metrics import mean_squared_error\n",
    "rmse = np.sqrt(mean_squared_error(Y_test , grad_predict))\n",
    "print(\"Root Mean Squared Error:\",rmse)"
   ]
  },
  {
   "cell_type": "code",
   "execution_count": 103,
   "metadata": {},
   "outputs": [
    {
     "data": {
      "text/plain": [
       "0.8444108301673305"
      ]
     },
     "execution_count": 103,
     "metadata": {},
     "output_type": "execute_result"
    }
   ],
   "source": [
    "r2_score(Y_test , grad_predict)"
   ]
  },
  {
   "cell_type": "code",
   "execution_count": 123,
   "metadata": {},
   "outputs": [],
   "source": [
    "f=['distance','day_of_week','passenger_count','year', 'month','abs_diff_longitude','abs_diff_latitude']\n",
    "t=['fare_amount']\n",
    "ls_trainX=data[f]\n",
    "ls_trainY=data[t]\n",
    "test=test[f]"
   ]
  },
  {
   "cell_type": "markdown",
   "metadata": {},
   "source": [
    "."
   ]
  },
  {
   "cell_type": "markdown",
   "metadata": {},
   "source": [
    "Fit all the training data into the Gradient Boosting Regressor."
   ]
  },
  {
   "cell_type": "code",
   "execution_count": 124,
   "metadata": {},
   "outputs": [
    {
     "name": "stderr",
     "output_type": "stream",
     "text": [
      "C:\\Users\\manas\\leet\\text\\lib\\site-packages\\sklearn\\utils\\validation.py:761: DataConversionWarning: A column-vector y was passed when a 1d array was expected. Please change the shape of y to (n_samples, ), for example using ravel().\n",
      "  y = column_or_1d(y, warn=True)\n"
     ]
    },
    {
     "data": {
      "text/plain": [
       "GradientBoostingRegressor(alpha=0.9, criterion='friedman_mse', init=None,\n",
       "             learning_rate=0.1, loss='ls', max_depth=3, max_features=None,\n",
       "             max_leaf_nodes=None, min_impurity_decrease=0.0,\n",
       "             min_impurity_split=None, min_samples_leaf=1,\n",
       "             min_samples_split=2, min_weight_fraction_leaf=0.0,\n",
       "             n_estimators=100, n_iter_no_change=None, presort='auto',\n",
       "             random_state=None, subsample=1.0, tol=0.0001,\n",
       "             validation_fraction=0.1, verbose=0, warm_start=False)"
      ]
     },
     "execution_count": 124,
     "metadata": {},
     "output_type": "execute_result"
    }
   ],
   "source": [
    "gd_final = ensemble.GradientBoostingRegressor(n_estimators=100)\n",
    "gd_final.fit(ls_trainX,ls_trainY)"
   ]
  },
  {
   "cell_type": "code",
   "execution_count": 125,
   "metadata": {
    "scrolled": true
   },
   "outputs": [
    {
     "name": "stderr",
     "output_type": "stream",
     "text": [
      "C:\\Users\\manas\\leet\\text\\lib\\site-packages\\sklearn\\utils\\validation.py:761: DataConversionWarning: A column-vector y was passed when a 1d array was expected. Please change the shape of y to (n_samples, ), for example using ravel().\n",
      "  y = column_or_1d(y, warn=True)\n"
     ]
    },
    {
     "data": {
      "text/plain": [
       "GradientBoostingRegressor(alpha=0.9, criterion='friedman_mse', init=None,\n",
       "             learning_rate=0.1, loss='ls', max_depth=3, max_features=None,\n",
       "             max_leaf_nodes=None, min_impurity_decrease=0.0,\n",
       "             min_impurity_split=None, min_samples_leaf=1,\n",
       "             min_samples_split=2, min_weight_fraction_leaf=0.0,\n",
       "             n_estimators=100, n_iter_no_change=None, presort='auto',\n",
       "             random_state=None, subsample=1.0, tol=0.0001,\n",
       "             validation_fraction=0.1, verbose=0, warm_start=False)"
      ]
     },
     "execution_count": 125,
     "metadata": {},
     "output_type": "execute_result"
    }
   ],
   "source": [
    "gd_final = ensemble.GradientBoostingRegressor(n_estimators=100)\n",
    "gd_final.fit(ls_trainX,ls_trainY)"
   ]
  },
  {
   "cell_type": "markdown",
   "metadata": {},
   "source": [
    "Predict the fare amounts for the values in the test dataset.\n"
   ]
  },
  {
   "cell_type": "markdown",
   "metadata": {},
   "source": [
    "."
   ]
  },
  {
   "cell_type": "markdown",
   "metadata": {},
   "source": [
    "."
   ]
  },
  {
   "cell_type": "code",
   "execution_count": 128,
   "metadata": {},
   "outputs": [],
   "source": [
    "fare_predict_gd=gd_final.predict(test)\n"
   ]
  },
  {
   "cell_type": "markdown",
   "metadata": {},
   "source": [
    "\n",
    "Write the submissions to the csv file and submitting it to kaggle."
   ]
  },
  {
   "cell_type": "code",
   "execution_count": 129,
   "metadata": {},
   "outputs": [
    {
     "data": {
      "text/html": [
       "<div>\n",
       "<style scoped>\n",
       "    .dataframe tbody tr th:only-of-type {\n",
       "        vertical-align: middle;\n",
       "    }\n",
       "\n",
       "    .dataframe tbody tr th {\n",
       "        vertical-align: top;\n",
       "    }\n",
       "\n",
       "    .dataframe thead th {\n",
       "        text-align: right;\n",
       "    }\n",
       "</style>\n",
       "<table border=\"1\" class=\"dataframe\">\n",
       "  <thead>\n",
       "    <tr style=\"text-align: right;\">\n",
       "      <th></th>\n",
       "      <th>key</th>\n",
       "      <th>fare_amount</th>\n",
       "    </tr>\n",
       "  </thead>\n",
       "  <tbody>\n",
       "    <tr>\n",
       "      <th>9894</th>\n",
       "      <td>2013-09-25 22:00:00.000000153</td>\n",
       "      <td>11.461989</td>\n",
       "    </tr>\n",
       "    <tr>\n",
       "      <th>9895</th>\n",
       "      <td>2013-09-25 22:00:00.000000241</td>\n",
       "      <td>25.300802</td>\n",
       "    </tr>\n",
       "    <tr>\n",
       "      <th>9896</th>\n",
       "      <td>2013-09-25 22:00:00.000000127</td>\n",
       "      <td>11.299599</td>\n",
       "    </tr>\n",
       "    <tr>\n",
       "      <th>9897</th>\n",
       "      <td>2015-02-20 11:08:29.0000001</td>\n",
       "      <td>16.057318</td>\n",
       "    </tr>\n",
       "    <tr>\n",
       "      <th>9898</th>\n",
       "      <td>2015-01-12 15:36:37.0000002</td>\n",
       "      <td>5.395552</td>\n",
       "    </tr>\n",
       "    <tr>\n",
       "      <th>9899</th>\n",
       "      <td>2015-06-07 00:38:14.0000002</td>\n",
       "      <td>17.967066</td>\n",
       "    </tr>\n",
       "    <tr>\n",
       "      <th>9900</th>\n",
       "      <td>2015-04-12 21:56:22.0000005</td>\n",
       "      <td>8.539272</td>\n",
       "    </tr>\n",
       "    <tr>\n",
       "      <th>9901</th>\n",
       "      <td>2015-04-10 11:56:54.0000004</td>\n",
       "      <td>7.709704</td>\n",
       "    </tr>\n",
       "    <tr>\n",
       "      <th>9902</th>\n",
       "      <td>2015-06-25 01:01:46.0000002</td>\n",
       "      <td>15.635910</td>\n",
       "    </tr>\n",
       "    <tr>\n",
       "      <th>9903</th>\n",
       "      <td>2015-05-29 10:02:42.0000001</td>\n",
       "      <td>9.689080</td>\n",
       "    </tr>\n",
       "    <tr>\n",
       "      <th>9904</th>\n",
       "      <td>2015-06-30 20:03:50.0000002</td>\n",
       "      <td>48.656269</td>\n",
       "    </tr>\n",
       "    <tr>\n",
       "      <th>9905</th>\n",
       "      <td>2015-02-27 19:36:02.0000006</td>\n",
       "      <td>25.265407</td>\n",
       "    </tr>\n",
       "    <tr>\n",
       "      <th>9906</th>\n",
       "      <td>2015-06-15 01:00:06.0000002</td>\n",
       "      <td>5.361575</td>\n",
       "    </tr>\n",
       "    <tr>\n",
       "      <th>9907</th>\n",
       "      <td>2015-02-03 09:00:58.0000001</td>\n",
       "      <td>37.338546</td>\n",
       "    </tr>\n",
       "    <tr>\n",
       "      <th>9908</th>\n",
       "      <td>2015-05-19 13:58:11.0000001</td>\n",
       "      <td>8.003290</td>\n",
       "    </tr>\n",
       "    <tr>\n",
       "      <th>9909</th>\n",
       "      <td>2015-05-10 12:37:51.0000002</td>\n",
       "      <td>9.176932</td>\n",
       "    </tr>\n",
       "    <tr>\n",
       "      <th>9910</th>\n",
       "      <td>2015-01-12 17:05:51.0000001</td>\n",
       "      <td>10.991877</td>\n",
       "    </tr>\n",
       "    <tr>\n",
       "      <th>9911</th>\n",
       "      <td>2015-04-19 20:44:15.0000001</td>\n",
       "      <td>54.236879</td>\n",
       "    </tr>\n",
       "    <tr>\n",
       "      <th>9912</th>\n",
       "      <td>2015-01-31 01:05:19.0000005</td>\n",
       "      <td>23.164294</td>\n",
       "    </tr>\n",
       "    <tr>\n",
       "      <th>9913</th>\n",
       "      <td>2015-01-18 14:06:23.0000006</td>\n",
       "      <td>6.428535</td>\n",
       "    </tr>\n",
       "  </tbody>\n",
       "</table>\n",
       "</div>"
      ],
      "text/plain": [
       "<div>\n",
       "<style scoped>\n",
       "    .dataframe tbody tr th:only-of-type {\n",
       "        vertical-align: middle;\n",
       "    }\n",
       "\n",
       "    .dataframe tbody tr th {\n",
       "        vertical-align: top;\n",
       "    }\n",
       "\n",
       "    .dataframe thead th {\n",
       "        text-align: right;\n",
       "    }\n",
       "</style>\n",
       "<table border=\"1\" class=\"dataframe\">\n",
       "  <thead>\n",
       "    <tr style=\"text-align: right;\">\n",
       "      <th></th>\n",
       "      <th>key</th>\n",
       "      <th>fare_amount</th>\n",
       "    </tr>\n",
       "  </thead>\n",
       "  <tbody>\n",
       "    <tr>\n",
       "      <th>9894</th>\n",
       "      <td>2013-09-25 22:00:00.000000153</td>\n",
       "      <td>11.461989</td>\n",
       "    </tr>\n",
       "    <tr>\n",
       "      <th>9895</th>\n",
       "      <td>2013-09-25 22:00:00.000000241</td>\n",
       "      <td>25.300802</td>\n",
       "    </tr>\n",
       "    <tr>\n",
       "      <th>9896</th>\n",
       "      <td>2013-09-25 22:00:00.000000127</td>\n",
       "      <td>11.299599</td>\n",
       "    </tr>\n",
       "    <tr>\n",
       "      <th>9897</th>\n",
       "      <td>2015-02-20 11:08:29.0000001</td>\n",
       "      <td>16.057318</td>\n",
       "    </tr>\n",
       "    <tr>\n",
       "      <th>9898</th>\n",
       "      <td>2015-01-12 15:36:37.0000002</td>\n",
       "      <td>5.395552</td>\n",
       "    </tr>\n",
       "    <tr>\n",
       "      <th>9899</th>\n",
       "      <td>2015-06-07 00:38:14.0000002</td>\n",
       "      <td>17.967066</td>\n",
       "    </tr>\n",
       "    <tr>\n",
       "      <th>9900</th>\n",
       "      <td>2015-04-12 21:56:22.0000005</td>\n",
       "      <td>8.539272</td>\n",
       "    </tr>\n",
       "    <tr>\n",
       "      <th>9901</th>\n",
       "      <td>2015-04-10 11:56:54.0000004</td>\n",
       "      <td>7.709704</td>\n",
       "    </tr>\n",
       "    <tr>\n",
       "      <th>9902</th>\n",
       "      <td>2015-06-25 01:01:46.0000002</td>\n",
       "      <td>15.635910</td>\n",
       "    </tr>\n",
       "    <tr>\n",
       "      <th>9903</th>\n",
       "      <td>2015-05-29 10:02:42.0000001</td>\n",
       "      <td>9.689080</td>\n",
       "    </tr>\n",
       "    <tr>\n",
       "      <th>9904</th>\n",
       "      <td>2015-06-30 20:03:50.0000002</td>\n",
       "      <td>48.656269</td>\n",
       "    </tr>\n",
       "    <tr>\n",
       "      <th>9905</th>\n",
       "      <td>2015-02-27 19:36:02.0000006</td>\n",
       "      <td>25.265407</td>\n",
       "    </tr>\n",
       "    <tr>\n",
       "      <th>9906</th>\n",
       "      <td>2015-06-15 01:00:06.0000002</td>\n",
       "      <td>5.361575</td>\n",
       "    </tr>\n",
       "    <tr>\n",
       "      <th>9907</th>\n",
       "      <td>2015-02-03 09:00:58.0000001</td>\n",
       "      <td>37.338546</td>\n",
       "    </tr>\n",
       "    <tr>\n",
       "      <th>9908</th>\n",
       "      <td>2015-05-19 13:58:11.0000001</td>\n",
       "      <td>8.003290</td>\n",
       "    </tr>\n",
       "    <tr>\n",
       "      <th>9909</th>\n",
       "      <td>2015-05-10 12:37:51.0000002</td>\n",
       "      <td>9.176932</td>\n",
       "    </tr>\n",
       "    <tr>\n",
       "      <th>9910</th>\n",
       "      <td>2015-01-12 17:05:51.0000001</td>\n",
       "      <td>10.991877</td>\n",
       "    </tr>\n",
       "    <tr>\n",
       "      <th>9911</th>\n",
       "      <td>2015-04-19 20:44:15.0000001</td>\n",
       "      <td>54.236879</td>\n",
       "    </tr>\n",
       "    <tr>\n",
       "      <th>9912</th>\n",
       "      <td>2015-01-31 01:05:19.0000005</td>\n",
       "      <td>23.164294</td>\n",
       "    </tr>\n",
       "    <tr>\n",
       "      <th>9913</th>\n",
       "      <td>2015-01-18 14:06:23.0000006</td>\n",
       "      <td>6.428535</td>\n",
       "    </tr>\n",
       "  </tbody>\n",
       "</table>\n",
       "</div>"
      ]
     },
     "execution_count": 129,
     "metadata": {},
     "output_type": "execute_result"
    }
   ],
   "source": [
    "submission = pd.read_csv('D:/Spring 2019/bda/finalproject/sample_submission.csv')\n",
    "submission['fare_amount'] = fare_predict_gd\n",
    "submission.to_csv('full_functional_extra_cleaned_submission_gradiant_boosting_reg_123.csv', index=False)\n",
    "submission.tail(20)"
   ]
  },
  {
   "cell_type": "code",
   "execution_count": null,
   "metadata": {},
   "outputs": [],
   "source": []
  }
 ],
 "metadata": {
  "kernelspec": {
   "display_name": "Python 3",
   "language": "python",
   "name": "python3"
  },
  "language_info": {
   "codemirror_mode": {
    "name": "ipython",
    "version": 3
   },
   "file_extension": ".py",
   "mimetype": "text/x-python",
   "name": "python",
   "nbconvert_exporter": "python",
   "pygments_lexer": "ipython3",
   "version": "3.7.3"
  }
 },
 "nbformat": 4,
 "nbformat_minor": 1
}
